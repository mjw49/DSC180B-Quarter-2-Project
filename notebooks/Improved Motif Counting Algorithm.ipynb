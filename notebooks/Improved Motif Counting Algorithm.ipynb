{
 "cells": [
  {
   "cell_type": "code",
   "execution_count": 1,
   "metadata": {},
   "outputs": [
    {
     "name": "stderr",
     "output_type": "stream",
     "text": [
      "C:\\Users\\matth\\anaconda3\\lib\\site-packages\\pandas\\core\\computation\\expressions.py:20: UserWarning: Pandas requires version '2.7.3' or newer of 'numexpr' (version '2.7.1' currently installed).\n",
      "  from pandas.core.computation.check import NUMEXPR_INSTALLED\n"
     ]
    }
   ],
   "source": [
    "#import necessary packages\n",
    "import pandas as pd\n",
    "import numpy as np\n",
    "import scipy.sparse as sparse\n",
    "import matplotlib.pyplot as plt\n",
    "import itertools\n",
    "import json\n",
    "from tqdm import tqdm"
   ]
  },
  {
   "cell_type": "markdown",
   "metadata": {},
   "source": [
    "# Define helper functions"
   ]
  },
  {
   "cell_type": "code",
   "execution_count": 2,
   "metadata": {},
   "outputs": [],
   "source": [
    "def add_edge(adj_list, node, target):\n",
    "    adj_list[int(node)].append(int(target)) "
   ]
  },
  {
   "cell_type": "code",
   "execution_count": 3,
   "metadata": {},
   "outputs": [],
   "source": [
    "def create_adj_list(data):\n",
    "    #initialize adjacency lists\n",
    "    min_node = min(data['FromNodeId'].tolist() + data['ToNodeId'].tolist())\n",
    "    max_node = max(data['FromNodeId'].tolist() + data['ToNodeId'].tolist())\n",
    "\n",
    "    adj_list_away = {}\n",
    "    adj_list_toward = {}\n",
    "\n",
    "    for node in range(min_node, max_node+1):\n",
    "        adj_list_away[node] = []\n",
    "        adj_list_toward[node] = []\n",
    "        \n",
    "    for idx, row in data.iterrows():\n",
    "        add_edge(adj_list_away, row.FromNodeId, row.ToNodeId)\n",
    "        add_edge(adj_list_toward, row.ToNodeId, row.FromNodeId)\n",
    "        \n",
    "    return adj_list_away, adj_list_toward"
   ]
  },
  {
   "cell_type": "markdown",
   "metadata": {},
   "source": [
    "# Read in and clean the data"
   ]
  },
  {
   "cell_type": "markdown",
   "metadata": {},
   "source": [
    "### City Reachability"
   ]
  },
  {
   "cell_type": "code",
   "execution_count": 85,
   "metadata": {},
   "outputs": [],
   "source": [
    "city = pd.read_csv('City Reachability/reachability.txt', header = 5, delimiter = ' ')\n",
    "\n",
    "#fix column names\n",
    "city = city.rename(columns = {'#': 'FromNodeId', 'FromNodeId': 'ToNodeId', 'ToNodeId': 'Weight', 'Weight': 'redundant'})\n",
    "city = city[city.columns[:-1]]"
   ]
  },
  {
   "cell_type": "code",
   "execution_count": 86,
   "metadata": {},
   "outputs": [
    {
     "data": {
      "text/plain": [
       "(456,)"
      ]
     },
     "execution_count": 86,
     "metadata": {},
     "output_type": "execute_result"
    }
   ],
   "source": [
    "pd.concat([city['ToNodeId'], city['FromNodeId']]).unique().shape"
   ]
  },
  {
   "cell_type": "code",
   "execution_count": 87,
   "metadata": {},
   "outputs": [
    {
     "data": {
      "text/html": [
       "<div>\n",
       "<style scoped>\n",
       "    .dataframe tbody tr th:only-of-type {\n",
       "        vertical-align: middle;\n",
       "    }\n",
       "\n",
       "    .dataframe tbody tr th {\n",
       "        vertical-align: top;\n",
       "    }\n",
       "\n",
       "    .dataframe thead th {\n",
       "        text-align: right;\n",
       "    }\n",
       "</style>\n",
       "<table border=\"1\" class=\"dataframe\">\n",
       "  <thead>\n",
       "    <tr style=\"text-align: right;\">\n",
       "      <th></th>\n",
       "      <th>FromNodeId</th>\n",
       "      <th>ToNodeId</th>\n",
       "      <th>Weight</th>\n",
       "    </tr>\n",
       "  </thead>\n",
       "  <tbody>\n",
       "    <tr>\n",
       "      <th>0</th>\n",
       "      <td>27</td>\n",
       "      <td>0</td>\n",
       "      <td>-757</td>\n",
       "    </tr>\n",
       "    <tr>\n",
       "      <th>1</th>\n",
       "      <td>57</td>\n",
       "      <td>0</td>\n",
       "      <td>-84</td>\n",
       "    </tr>\n",
       "    <tr>\n",
       "      <th>2</th>\n",
       "      <td>70</td>\n",
       "      <td>0</td>\n",
       "      <td>-1290</td>\n",
       "    </tr>\n",
       "    <tr>\n",
       "      <th>3</th>\n",
       "      <td>74</td>\n",
       "      <td>0</td>\n",
       "      <td>-465</td>\n",
       "    </tr>\n",
       "    <tr>\n",
       "      <th>4</th>\n",
       "      <td>86</td>\n",
       "      <td>0</td>\n",
       "      <td>-700</td>\n",
       "    </tr>\n",
       "    <tr>\n",
       "      <th>...</th>\n",
       "      <td>...</td>\n",
       "      <td>...</td>\n",
       "      <td>...</td>\n",
       "    </tr>\n",
       "    <tr>\n",
       "      <th>71954</th>\n",
       "      <td>419</td>\n",
       "      <td>455</td>\n",
       "      <td>-154</td>\n",
       "    </tr>\n",
       "    <tr>\n",
       "      <th>71955</th>\n",
       "      <td>428</td>\n",
       "      <td>455</td>\n",
       "      <td>-341</td>\n",
       "    </tr>\n",
       "    <tr>\n",
       "      <th>71956</th>\n",
       "      <td>434</td>\n",
       "      <td>455</td>\n",
       "      <td>-403</td>\n",
       "    </tr>\n",
       "    <tr>\n",
       "      <th>71957</th>\n",
       "      <td>440</td>\n",
       "      <td>455</td>\n",
       "      <td>-680</td>\n",
       "    </tr>\n",
       "    <tr>\n",
       "      <th>71958</th>\n",
       "      <td>444</td>\n",
       "      <td>455</td>\n",
       "      <td>-265</td>\n",
       "    </tr>\n",
       "  </tbody>\n",
       "</table>\n",
       "<p>71959 rows × 3 columns</p>\n",
       "</div>"
      ],
      "text/plain": [
       "       FromNodeId  ToNodeId  Weight\n",
       "0              27         0    -757\n",
       "1              57         0     -84\n",
       "2              70         0   -1290\n",
       "3              74         0    -465\n",
       "4              86         0    -700\n",
       "...           ...       ...     ...\n",
       "71954         419       455    -154\n",
       "71955         428       455    -341\n",
       "71956         434       455    -403\n",
       "71957         440       455    -680\n",
       "71958         444       455    -265\n",
       "\n",
       "[71959 rows x 3 columns]"
      ]
     },
     "execution_count": 87,
     "metadata": {},
     "output_type": "execute_result"
    }
   ],
   "source": [
    "city"
   ]
  },
  {
   "cell_type": "code",
   "execution_count": 88,
   "metadata": {},
   "outputs": [],
   "source": [
    "#adjacency list away consists of edges going AWAY a certain node\n",
    "#adjacency list toward consists of edges going TOWARD a certain node\n",
    "city_adj_list_away, city_adj_list_toward = create_adj_list(city)"
   ]
  },
  {
   "cell_type": "markdown",
   "metadata": {},
   "source": [
    "### Stanford Web"
   ]
  },
  {
   "cell_type": "code",
   "execution_count": 47,
   "metadata": {},
   "outputs": [],
   "source": [
    "# stanford = pd.read_csv('Stanford Web/web-Stanford.txt', header = 3, delimiter = '\\t')"
   ]
  },
  {
   "cell_type": "code",
   "execution_count": 48,
   "metadata": {},
   "outputs": [],
   "source": [
    "# stanford"
   ]
  },
  {
   "cell_type": "code",
   "execution_count": 49,
   "metadata": {},
   "outputs": [],
   "source": [
    "#creating adj lists takes a while, avoid running if possible\n",
    "\n",
    "#stanford_adj_list_away, stanford_adj_list_toward = create_adj_list(stanford)"
   ]
  },
  {
   "cell_type": "code",
   "execution_count": 50,
   "metadata": {},
   "outputs": [],
   "source": [
    "# #saved the adj lists for future use\n",
    "\n",
    "# with open('Stanford Web/adj_list_away.json', 'r') as fp:\n",
    "#     stanford_adj_list_away = json.load(fp)\n",
    "    \n",
    "# with open('Stanford Web/adj_list_toward.json', 'r') as fp:\n",
    "#     stanford_adj_list_toward = json.load(fp)"
   ]
  },
  {
   "cell_type": "code",
   "execution_count": 51,
   "metadata": {},
   "outputs": [],
   "source": [
    "# stanford_adj_list_away, stanford_adj_list_toward = create_adj_list(stanford)"
   ]
  },
  {
   "cell_type": "markdown",
   "metadata": {},
   "source": [
    "### High-Energy Physics"
   ]
  },
  {
   "cell_type": "code",
   "execution_count": 52,
   "metadata": {},
   "outputs": [],
   "source": [
    "physics = pd.read_csv('High Energy Physics/Cit-HepPh.txt', delimiter = '\\t', header = 3)"
   ]
  },
  {
   "cell_type": "code",
   "execution_count": 53,
   "metadata": {},
   "outputs": [
    {
     "data": {
      "text/html": [
       "<div>\n",
       "<style scoped>\n",
       "    .dataframe tbody tr th:only-of-type {\n",
       "        vertical-align: middle;\n",
       "    }\n",
       "\n",
       "    .dataframe tbody tr th {\n",
       "        vertical-align: top;\n",
       "    }\n",
       "\n",
       "    .dataframe thead th {\n",
       "        text-align: right;\n",
       "    }\n",
       "</style>\n",
       "<table border=\"1\" class=\"dataframe\">\n",
       "  <thead>\n",
       "    <tr style=\"text-align: right;\">\n",
       "      <th></th>\n",
       "      <th>FromNodeId</th>\n",
       "      <th>ToNodeId</th>\n",
       "    </tr>\n",
       "  </thead>\n",
       "  <tbody>\n",
       "    <tr>\n",
       "      <th>0</th>\n",
       "      <td>9907233</td>\n",
       "      <td>9301253</td>\n",
       "    </tr>\n",
       "    <tr>\n",
       "      <th>1</th>\n",
       "      <td>9907233</td>\n",
       "      <td>9504304</td>\n",
       "    </tr>\n",
       "    <tr>\n",
       "      <th>2</th>\n",
       "      <td>9907233</td>\n",
       "      <td>9505235</td>\n",
       "    </tr>\n",
       "    <tr>\n",
       "      <th>3</th>\n",
       "      <td>9907233</td>\n",
       "      <td>9506257</td>\n",
       "    </tr>\n",
       "    <tr>\n",
       "      <th>4</th>\n",
       "      <td>9907233</td>\n",
       "      <td>9606402</td>\n",
       "    </tr>\n",
       "    <tr>\n",
       "      <th>...</th>\n",
       "      <td>...</td>\n",
       "      <td>...</td>\n",
       "    </tr>\n",
       "    <tr>\n",
       "      <th>421573</th>\n",
       "      <td>9912461</td>\n",
       "      <td>9305269</td>\n",
       "    </tr>\n",
       "    <tr>\n",
       "      <th>421574</th>\n",
       "      <td>9912461</td>\n",
       "      <td>9609445</td>\n",
       "    </tr>\n",
       "    <tr>\n",
       "      <th>421575</th>\n",
       "      <td>9912461</td>\n",
       "      <td>9902379</td>\n",
       "    </tr>\n",
       "    <tr>\n",
       "      <th>421576</th>\n",
       "      <td>9912461</td>\n",
       "      <td>9902403</td>\n",
       "    </tr>\n",
       "    <tr>\n",
       "      <th>421577</th>\n",
       "      <td>9405397</td>\n",
       "      <td>9303299</td>\n",
       "    </tr>\n",
       "  </tbody>\n",
       "</table>\n",
       "<p>421578 rows × 2 columns</p>\n",
       "</div>"
      ],
      "text/plain": [
       "        FromNodeId  ToNodeId\n",
       "0          9907233   9301253\n",
       "1          9907233   9504304\n",
       "2          9907233   9505235\n",
       "3          9907233   9506257\n",
       "4          9907233   9606402\n",
       "...            ...       ...\n",
       "421573     9912461   9305269\n",
       "421574     9912461   9609445\n",
       "421575     9912461   9902379\n",
       "421576     9912461   9902403\n",
       "421577     9405397   9303299\n",
       "\n",
       "[421578 rows x 2 columns]"
      ]
     },
     "execution_count": 53,
     "metadata": {},
     "output_type": "execute_result"
    }
   ],
   "source": [
    "physics"
   ]
  },
  {
   "cell_type": "code",
   "execution_count": 54,
   "metadata": {},
   "outputs": [
    {
     "data": {
      "text/plain": [
       "(34546,)"
      ]
     },
     "execution_count": 54,
     "metadata": {},
     "output_type": "execute_result"
    }
   ],
   "source": [
    "np.unique(physics[\"FromNodeId\"].unique().tolist() + physics[\"ToNodeId\"].unique().tolist()).shape"
   ]
  },
  {
   "cell_type": "code",
   "execution_count": 55,
   "metadata": {},
   "outputs": [],
   "source": [
    "#adjacency list away consists of edges going AWAY a certain node\n",
    "#adjacency list toward consists of edges going TOWARD a certain node\n",
    "physics_adj_list_away, physics_adj_list_toward = create_adj_list(physics)"
   ]
  },
  {
   "cell_type": "markdown",
   "metadata": {},
   "source": [
    "## EU Email Core"
   ]
  },
  {
   "cell_type": "code",
   "execution_count": 56,
   "metadata": {},
   "outputs": [],
   "source": [
    "email = pd.read_csv('EU Email Core/email-Eu-core.txt', delimiter = ' ', header = None).rename(columns = {0: 'FromNodeId',\n",
    "                                                                                                         1: 'ToNodeId'})"
   ]
  },
  {
   "cell_type": "code",
   "execution_count": 57,
   "metadata": {},
   "outputs": [
    {
     "data": {
      "text/html": [
       "<div>\n",
       "<style scoped>\n",
       "    .dataframe tbody tr th:only-of-type {\n",
       "        vertical-align: middle;\n",
       "    }\n",
       "\n",
       "    .dataframe tbody tr th {\n",
       "        vertical-align: top;\n",
       "    }\n",
       "\n",
       "    .dataframe thead th {\n",
       "        text-align: right;\n",
       "    }\n",
       "</style>\n",
       "<table border=\"1\" class=\"dataframe\">\n",
       "  <thead>\n",
       "    <tr style=\"text-align: right;\">\n",
       "      <th></th>\n",
       "      <th>FromNodeId</th>\n",
       "      <th>ToNodeId</th>\n",
       "    </tr>\n",
       "  </thead>\n",
       "  <tbody>\n",
       "    <tr>\n",
       "      <th>0</th>\n",
       "      <td>0</td>\n",
       "      <td>1</td>\n",
       "    </tr>\n",
       "    <tr>\n",
       "      <th>1</th>\n",
       "      <td>2</td>\n",
       "      <td>3</td>\n",
       "    </tr>\n",
       "    <tr>\n",
       "      <th>2</th>\n",
       "      <td>2</td>\n",
       "      <td>4</td>\n",
       "    </tr>\n",
       "    <tr>\n",
       "      <th>3</th>\n",
       "      <td>5</td>\n",
       "      <td>6</td>\n",
       "    </tr>\n",
       "    <tr>\n",
       "      <th>4</th>\n",
       "      <td>5</td>\n",
       "      <td>7</td>\n",
       "    </tr>\n",
       "    <tr>\n",
       "      <th>...</th>\n",
       "      <td>...</td>\n",
       "      <td>...</td>\n",
       "    </tr>\n",
       "    <tr>\n",
       "      <th>25566</th>\n",
       "      <td>420</td>\n",
       "      <td>143</td>\n",
       "    </tr>\n",
       "    <tr>\n",
       "      <th>25567</th>\n",
       "      <td>174</td>\n",
       "      <td>859</td>\n",
       "    </tr>\n",
       "    <tr>\n",
       "      <th>25568</th>\n",
       "      <td>440</td>\n",
       "      <td>460</td>\n",
       "    </tr>\n",
       "    <tr>\n",
       "      <th>25569</th>\n",
       "      <td>52</td>\n",
       "      <td>786</td>\n",
       "    </tr>\n",
       "    <tr>\n",
       "      <th>25570</th>\n",
       "      <td>506</td>\n",
       "      <td>932</td>\n",
       "    </tr>\n",
       "  </tbody>\n",
       "</table>\n",
       "<p>25571 rows × 2 columns</p>\n",
       "</div>"
      ],
      "text/plain": [
       "       FromNodeId  ToNodeId\n",
       "0               0         1\n",
       "1               2         3\n",
       "2               2         4\n",
       "3               5         6\n",
       "4               5         7\n",
       "...           ...       ...\n",
       "25566         420       143\n",
       "25567         174       859\n",
       "25568         440       460\n",
       "25569          52       786\n",
       "25570         506       932\n",
       "\n",
       "[25571 rows x 2 columns]"
      ]
     },
     "execution_count": 57,
     "metadata": {},
     "output_type": "execute_result"
    }
   ],
   "source": [
    "email"
   ]
  },
  {
   "cell_type": "code",
   "execution_count": 58,
   "metadata": {},
   "outputs": [
    {
     "data": {
      "text/plain": [
       "(1005,)"
      ]
     },
     "execution_count": 58,
     "metadata": {},
     "output_type": "execute_result"
    }
   ],
   "source": [
    "np.unique(email[\"FromNodeId\"].unique().tolist() + email[\"ToNodeId\"].unique().tolist()).shape"
   ]
  },
  {
   "cell_type": "code",
   "execution_count": 59,
   "metadata": {},
   "outputs": [],
   "source": [
    "#adjacency list away consists of edges going AWAY a certain node\n",
    "#adjacency list toward consists of edges going TOWARD a certain node\n",
    "email_adj_list_away, email_adj_list_toward = create_adj_list(email)"
   ]
  },
  {
   "cell_type": "markdown",
   "metadata": {},
   "source": [
    "## Bitcoin Alpha"
   ]
  },
  {
   "cell_type": "code",
   "execution_count": 67,
   "metadata": {},
   "outputs": [],
   "source": [
    "bitcoin = pd.read_csv('Bitcoin Alpha/soc-sign-bitcoinalpha.csv', header = None, usecols = [0,1]).rename(columns = \n",
    "                                                                                                        {0: 'FromNodeId',\n",
    "                                                                                                         1: 'ToNodeId'})"
   ]
  },
  {
   "cell_type": "code",
   "execution_count": 68,
   "metadata": {},
   "outputs": [
    {
     "data": {
      "text/html": [
       "<div>\n",
       "<style scoped>\n",
       "    .dataframe tbody tr th:only-of-type {\n",
       "        vertical-align: middle;\n",
       "    }\n",
       "\n",
       "    .dataframe tbody tr th {\n",
       "        vertical-align: top;\n",
       "    }\n",
       "\n",
       "    .dataframe thead th {\n",
       "        text-align: right;\n",
       "    }\n",
       "</style>\n",
       "<table border=\"1\" class=\"dataframe\">\n",
       "  <thead>\n",
       "    <tr style=\"text-align: right;\">\n",
       "      <th></th>\n",
       "      <th>FromNodeId</th>\n",
       "      <th>ToNodeId</th>\n",
       "    </tr>\n",
       "  </thead>\n",
       "  <tbody>\n",
       "    <tr>\n",
       "      <th>0</th>\n",
       "      <td>7188</td>\n",
       "      <td>1</td>\n",
       "    </tr>\n",
       "    <tr>\n",
       "      <th>1</th>\n",
       "      <td>430</td>\n",
       "      <td>1</td>\n",
       "    </tr>\n",
       "    <tr>\n",
       "      <th>2</th>\n",
       "      <td>3134</td>\n",
       "      <td>1</td>\n",
       "    </tr>\n",
       "    <tr>\n",
       "      <th>3</th>\n",
       "      <td>3026</td>\n",
       "      <td>1</td>\n",
       "    </tr>\n",
       "    <tr>\n",
       "      <th>4</th>\n",
       "      <td>3010</td>\n",
       "      <td>1</td>\n",
       "    </tr>\n",
       "    <tr>\n",
       "      <th>...</th>\n",
       "      <td>...</td>\n",
       "      <td>...</td>\n",
       "    </tr>\n",
       "    <tr>\n",
       "      <th>24181</th>\n",
       "      <td>7604</td>\n",
       "      <td>7601</td>\n",
       "    </tr>\n",
       "    <tr>\n",
       "      <th>24182</th>\n",
       "      <td>7601</td>\n",
       "      <td>7604</td>\n",
       "    </tr>\n",
       "    <tr>\n",
       "      <th>24183</th>\n",
       "      <td>7604</td>\n",
       "      <td>7602</td>\n",
       "    </tr>\n",
       "    <tr>\n",
       "      <th>24184</th>\n",
       "      <td>7602</td>\n",
       "      <td>7604</td>\n",
       "    </tr>\n",
       "    <tr>\n",
       "      <th>24185</th>\n",
       "      <td>7604</td>\n",
       "      <td>7603</td>\n",
       "    </tr>\n",
       "  </tbody>\n",
       "</table>\n",
       "<p>24186 rows × 2 columns</p>\n",
       "</div>"
      ],
      "text/plain": [
       "       FromNodeId  ToNodeId\n",
       "0            7188         1\n",
       "1             430         1\n",
       "2            3134         1\n",
       "3            3026         1\n",
       "4            3010         1\n",
       "...           ...       ...\n",
       "24181        7604      7601\n",
       "24182        7601      7604\n",
       "24183        7604      7602\n",
       "24184        7602      7604\n",
       "24185        7604      7603\n",
       "\n",
       "[24186 rows x 2 columns]"
      ]
     },
     "execution_count": 68,
     "metadata": {},
     "output_type": "execute_result"
    }
   ],
   "source": [
    "bitcoin"
   ]
  },
  {
   "cell_type": "code",
   "execution_count": 69,
   "metadata": {},
   "outputs": [
    {
     "data": {
      "text/plain": [
       "(3783,)"
      ]
     },
     "execution_count": 69,
     "metadata": {},
     "output_type": "execute_result"
    }
   ],
   "source": [
    "np.unique(bitcoin[\"FromNodeId\"].unique().tolist() + bitcoin[\"ToNodeId\"].unique().tolist()).shape"
   ]
  },
  {
   "cell_type": "code",
   "execution_count": 70,
   "metadata": {},
   "outputs": [],
   "source": [
    "#adjacency list away consists of edges going AWAY a certain node\n",
    "#adjacency list toward consists of edges going TOWARD a certain node\n",
    "bitcoin_adj_list_away, bitcoin_adj_list_toward = create_adj_list(bitcoin)"
   ]
  },
  {
   "cell_type": "markdown",
   "metadata": {},
   "source": [
    "## Wiki-Vote"
   ]
  },
  {
   "cell_type": "code",
   "execution_count": 4,
   "metadata": {},
   "outputs": [],
   "source": [
    "wiki = pd.read_csv('Wiki-Vote/Wiki-Vote.txt', delimiter = '\\t')"
   ]
  },
  {
   "cell_type": "code",
   "execution_count": 5,
   "metadata": {},
   "outputs": [
    {
     "data": {
      "text/plain": [
       "(7115,)"
      ]
     },
     "execution_count": 5,
     "metadata": {},
     "output_type": "execute_result"
    }
   ],
   "source": [
    "np.unique(wiki[\"FromNodeId\"].unique().tolist() + wiki[\"ToNodeId\"].unique().tolist()).shape"
   ]
  },
  {
   "cell_type": "code",
   "execution_count": 6,
   "metadata": {},
   "outputs": [],
   "source": [
    "#adjacency list away consists of edges going AWAY a certain node\n",
    "#adjacency list toward consists of edges going TOWARD a certain node\n",
    "wiki_adj_list_away, wiki_adj_list_toward = create_adj_list(wiki)"
   ]
  },
  {
   "cell_type": "markdown",
   "metadata": {},
   "source": [
    "# Define counting functions (naive method)"
   ]
  },
  {
   "cell_type": "code",
   "execution_count": 63,
   "metadata": {},
   "outputs": [],
   "source": [
    "def count_M1(adj_list_away, adj_list_toward):\n",
    "\n",
    "    vertices = [] #store vertices\n",
    "    \n",
    "    print(\"count vertices\")\n",
    "    for vertex1 in tqdm(adj_list_away): #checks first vertex\n",
    "        for vertex2 in adj_list_away[vertex1]: #checks second vertex\n",
    "            for vertex3 in adj_list_away[vertex2]: #checks third vertex\n",
    "                \n",
    "                #if any of the adjacency lists are empty (nan used for placeholder) SKIP this iteration\n",
    "                if ( (np.isnan(vertex1)) | (np.isnan(vertex2)) | (np.isnan(vertex3)) ):\n",
    "                    break\n",
    "                \n",
    "#                 if ((vertex1 in adj_list_away[vertex3]) & (vertex1 not in adj_list_toward[vertex3])\n",
    "#                     & (vertex3 not in adj_list_toward[vertex2]) & (vertex2 not in adj_list_toward[vertex1])):\n",
    "                    \n",
    "                if ((vertex1 in adj_list_away[vertex3])):\n",
    "                    \n",
    "                    vertices.append([vertex1, vertex2, vertex3])\n",
    "    \n",
    "      \n",
    "    triangles = set(tuple(sorted(l)) for l in vertices) #get rid of permutations of the same triangle\n",
    "    \n",
    "    edge_dict = {}\n",
    "\n",
    "    print(\"count edges\")\n",
    "    for tri in tqdm(triangles):\n",
    "        \n",
    "        combos = list(itertools.combinations(tri, 2))\n",
    "\n",
    "        for edge in combos:\n",
    "\n",
    "            if edge not in edge_dict.keys(): #if edge doesn't exist yet\n",
    "                edge_dict[edge] = 1\n",
    "            else:                            #if edge does exist\n",
    "                edge_dict[edge] += 1 #add to edge count\n",
    "\n",
    "    print('Vertices: ' + str(len(vertices)))\n",
    "    print('Triangles: ' + str(len(triangles)))\n",
    "    return len(triangles), edge_dict"
   ]
  },
  {
   "cell_type": "code",
   "execution_count": 64,
   "metadata": {},
   "outputs": [],
   "source": [
    "def count_M2(adj_list_away, adj_list_toward):\n",
    "\n",
    "    vertices = []\n",
    "    \n",
    "    for vertex1 in tqdm(adj_list_away): #checks first vertex\n",
    "        for vertex2 in adj_list_away[vertex1]: #checks second vertex\n",
    "            for vertex3 in adj_list_away[vertex2]: #checks third vertex\n",
    "                \n",
    "                #if any of the adjacency lists are empty (nan used for placeholder) SKIP this iteration\n",
    "                if ( (np.isnan(vertex1)) | (np.isnan(vertex2)) | (np.isnan(vertex3)) ):\n",
    "                    break\n",
    "                \n",
    "#                 if ((vertex1 in adj_list_away[vertex3]) & (vertex1 not in adj_list_toward[vertex3])\n",
    "#                     & (vertex3 not in adj_list_toward[vertex2]) & (vertex2 in adj_list_toward[vertex1])):\n",
    "                    \n",
    "                if ((vertex1 in adj_list_away[vertex3]) & (vertex2 in adj_list_toward[vertex1])):\n",
    "                    \n",
    "                    vertices.append([vertex1, vertex2, vertex3])\n",
    "                    \n",
    "    triangles = set(tuple(sorted(l)) for l in vertices) #get rid of permutations of the same triangle\n",
    "\n",
    "    edge_dict = {}\n",
    "    print(\"count edges\")\n",
    "    for tri in tqdm(triangles):\n",
    "        \n",
    "        combos = list(itertools.combinations(tri, 2))\n",
    "\n",
    "        for edge in combos:\n",
    "\n",
    "            if edge not in edge_dict.keys(): #if edge doesn't exist yet\n",
    "                edge_dict[edge] = 1\n",
    "            else:                            #if edge does exist\n",
    "                edge_dict[edge] += 1 #add to edge count\n",
    "\n",
    "    print('Vertices: ' + str(len(vertices)))\n",
    "    print('Triangles: ' + str(len(triangles)))\n",
    "    return len(triangles), edge_dict"
   ]
  },
  {
   "cell_type": "code",
   "execution_count": 65,
   "metadata": {},
   "outputs": [],
   "source": [
    "def count_M3(adj_list_away, adj_list_toward):\n",
    "\n",
    "    vertices = []\n",
    "    \n",
    "    for vertex1 in tqdm(adj_list_away): #checks first vertex\n",
    "        for vertex2 in adj_list_away[vertex1]: #checks second vertex\n",
    "            for vertex3 in adj_list_away[vertex2]: #checks third vertex\n",
    "                \n",
    "                #if any of the adjacency lists are empty (nan used for placeholder) SKIP this iteration\n",
    "                if ( (np.isnan(vertex1)) | (np.isnan(vertex2)) | (np.isnan(vertex3)) ):\n",
    "                    break\n",
    "                \n",
    "#                 if ((vertex1 in adj_list_away[vertex3]) & (vertex1 not in adj_list_toward[vertex3])\n",
    "#                     & (vertex3 in adj_list_toward[vertex2]) & (vertex2 in adj_list_toward[vertex1])):\n",
    "                    \n",
    "                if ((vertex1 in adj_list_away[vertex3]) & (vertex3 in adj_list_toward[vertex2]) \n",
    "                    & (vertex2 in adj_list_toward[vertex1])):\n",
    "                    \n",
    "                    vertices.append([vertex1, vertex2, vertex3])\n",
    "                    \n",
    "    triangles = set(tuple(sorted(l)) for l in vertices) #get rid of permutations of the same triangle\n",
    "    \n",
    "    edge_dict = {}\n",
    "    print(\"count edges\")\n",
    "    for tri in tqdm(triangles):\n",
    "        \n",
    "        combos = list(itertools.combinations(tri, 2))\n",
    "\n",
    "        for edge in combos:\n",
    "\n",
    "            if edge not in edge_dict.keys(): #if edge doesn't exist yet\n",
    "                edge_dict[edge] = 1\n",
    "            else:                            #if edge does exist\n",
    "                edge_dict[edge] += 1 #add to edge count\n",
    " \n",
    "    print('Vertices: ' + str(len(vertices)))\n",
    "    print('Triangles: ' + str(len(triangles)))\n",
    "    return len(triangles), edge_dict"
   ]
  },
  {
   "cell_type": "code",
   "execution_count": 66,
   "metadata": {},
   "outputs": [],
   "source": [
    "def count_M4(adj_list_away, adj_list_toward):\n",
    "\n",
    "    vertices = []\n",
    "    \n",
    "    for vertex1 in tqdm(adj_list_away): #checks first vertex\n",
    "        for vertex2 in adj_list_away[vertex1]: #checks second vertex\n",
    "            for vertex3 in adj_list_away[vertex2]: #checks third vertex\n",
    "                \n",
    "                #if any of the adjacency lists are empty (nan used for placeholder) SKIP this iteration\n",
    "                if ( (np.isnan(vertex1)) | (np.isnan(vertex2)) | (np.isnan(vertex3)) ):\n",
    "                    break\n",
    "                \n",
    "                if ((vertex1 in adj_list_away[vertex3]) & (vertex1 in adj_list_toward[vertex3])\n",
    "                    & (vertex3 in adj_list_toward[vertex2]) & (vertex2 in adj_list_toward[vertex1])\n",
    "                    & (vertex1 != vertex2) & (vertex1 != vertex3) & (vertex2 != vertex3)):\n",
    "                    \n",
    "                    vertices.append([vertex1, vertex2, vertex3])\n",
    "                    \n",
    "    triangles = set(tuple(sorted(l)) for l in vertices) #get rid of permutations of the same triangle\n",
    "    \n",
    "    edge_dict = {}\n",
    "    print(\"count edges\")\n",
    "    for tri in tqdm(triangles):\n",
    "        \n",
    "        combos = list(itertools.combinations(tri, 2))\n",
    "\n",
    "        for edge in combos:\n",
    "\n",
    "            if edge not in edge_dict.keys(): #if edge doesn't exist yet\n",
    "                edge_dict[edge] = 1\n",
    "            else:                            #if edge does exist\n",
    "                edge_dict[edge] += 1 #add to edge count\n",
    "\n",
    "    print('Vertices: ' + str(len(vertices)))\n",
    "    print('Triangles: ' + str(len(triangles)))\n",
    "    return len(triangles), edge_dict"
   ]
  },
  {
   "cell_type": "code",
   "execution_count": 67,
   "metadata": {},
   "outputs": [],
   "source": [
    "def count_M5(adj_list_away, adj_list_toward):\n",
    "    \n",
    "    vertices = []\n",
    "    \n",
    "    for vertex1 in tqdm(adj_list_away): #checks first vertex\n",
    "        for vertex2 in adj_list_away[vertex1]: #checks second vertex\n",
    "            for vertex3 in adj_list_away[vertex2]: #checks third vertex\n",
    "                \n",
    "                #if any of the adjacency lists are empty (nan used for placeholder) SKIP this iteration\n",
    "                if ( (np.isnan(vertex1)) | (np.isnan(vertex2)) | (np.isnan(vertex3)) ):\n",
    "                    break\n",
    "                \n",
    "#                 if ((vertex3 in adj_list_away[vertex2]) & (vertex3 not in adj_list_toward[vertex2])\n",
    "#                     & (vertex2 not in adj_list_toward[vertex1]) & (vertex3 not in adj_list_toward[vertex1])):\n",
    "                    \n",
    "                if ((vertex3 in adj_list_away[vertex1])):\n",
    "                    \n",
    "                    vertices.append([vertex1, vertex2, vertex3])\n",
    "                    \n",
    "    triangles = set(tuple(sorted(l)) for l in vertices) #get rid of permutations of the same triangle\n",
    "    \n",
    "    edge_dict = {}\n",
    "    print(\"count edges\")\n",
    "    for tri in tqdm(triangles):\n",
    "        \n",
    "        combos = list(itertools.combinations(tri, 2))\n",
    "\n",
    "        for edge in combos:\n",
    "\n",
    "            if edge not in edge_dict.keys(): #if edge doesn't exist yet\n",
    "                edge_dict[edge] = 1\n",
    "            else:                            #if edge does exist\n",
    "                edge_dict[edge] += 1 #add to edge count\n",
    "                \n",
    "    print('Vertices: ' + str(len(vertices)))\n",
    "    print('Triangles: ' + str(len(triangles)))\n",
    "    return len(triangles), edge_dict"
   ]
  },
  {
   "cell_type": "code",
   "execution_count": 68,
   "metadata": {},
   "outputs": [],
   "source": [
    "def count_M6(adj_list_away, adj_list_toward):\n",
    "    \n",
    "    vertices = []\n",
    "    \n",
    "    for vertex1 in tqdm(adj_list_away): #checks first vertex\n",
    "        for vertex2 in adj_list_away[vertex1]: #checks second vertex\n",
    "            for vertex3 in adj_list_away[vertex2]: #checks third vertex\n",
    "                \n",
    "                #if any of the adjacency lists are empty (nan used for placeholder) SKIP this iteration\n",
    "                if ( (np.isnan(vertex1)) | (np.isnan(vertex2)) | (np.isnan(vertex3)) ):\n",
    "                    break\n",
    "                \n",
    "#                 if ((vertex3 in adj_list_away[vertex2]) & (vertex3 in adj_list_toward[vertex2])\n",
    "#                     & (vertex2 not in adj_list_toward[vertex1]) & (vertex3 not in adj_list_toward[vertex1])):\n",
    "                    \n",
    "                if ((vertex3 in adj_list_away[vertex1]) & (vertex3 in adj_list_toward[vertex2])):\n",
    "                    \n",
    "                    vertices.append([vertex1, vertex2, vertex3])\n",
    "                    \n",
    "    triangles = set(tuple(sorted(l)) for l in vertices) #get rid of permutations of the same triangle\n",
    "    \n",
    "    edge_dict = {}\n",
    "    print(\"count edges\")\n",
    "    for tri in tqdm(triangles):\n",
    "        \n",
    "        combos = list(itertools.combinations(tri, 2))\n",
    "\n",
    "        for edge in combos:\n",
    "\n",
    "            if edge not in edge_dict.keys(): #if edge doesn't exist yet\n",
    "                edge_dict[edge] = 1\n",
    "            else:                            #if edge does exist\n",
    "                edge_dict[edge] += 1 #add to edge count\n",
    "\n",
    "    print('Vertices: ' + str(len(vertices)))\n",
    "    print('Triangles: ' + str(len(triangles)))\n",
    "    return len(triangles), edge_dict"
   ]
  },
  {
   "cell_type": "code",
   "execution_count": 69,
   "metadata": {},
   "outputs": [],
   "source": [
    "def count_M7(adj_list_away, adj_list_toward):\n",
    "    \n",
    "    vertices = []\n",
    "    \n",
    "    for vertex1 in tqdm(adj_list_away): #checks first vertex\n",
    "        for vertex2 in adj_list_away[vertex1]: #checks second vertex\n",
    "            for vertex3 in adj_list_away[vertex2]: #checks third vertex\n",
    "                \n",
    "                #if any of the adjacency lists are empty (nan used for placeholder) SKIP this iteration\n",
    "                if ( (np.isnan(vertex1)) | (np.isnan(vertex2)) | (np.isnan(vertex3)) ):\n",
    "                    break\n",
    "                \n",
    "#                 if ((vertex2 not in adj_list_away[vertex1]) & (vertex3 not in adj_list_away[vertex1])\n",
    "#                    & (vertex2 in adj_list_away[vertex3]) & (vertex3 in adj_list_away[vertex2])):\n",
    "                    \n",
    "                if ((vertex3 in adj_list_away[vertex1]) & (vertex1 in adj_list_away[vertex2])):\n",
    "                    \n",
    "                    vertices.append([vertex1, vertex2, vertex3])\n",
    "                    \n",
    "    triangles = set(tuple(sorted(l)) for l in vertices) #get rid of permutations of the same triangle\n",
    "    \n",
    "    edge_dict = {}\n",
    "    print(\"count edges\")\n",
    "    for tri in tqdm(triangles):\n",
    "        \n",
    "        combos = list(itertools.combinations(tri, 2))\n",
    "\n",
    "        for edge in combos:\n",
    "\n",
    "            if edge not in edge_dict.keys(): #if edge doesn't exist yet\n",
    "                edge_dict[edge] = 1\n",
    "            else:                            #if edge does exist\n",
    "                edge_dict[edge] += 1 #add to edge count\n",
    "\n",
    "    print('Vertices: ' + str(len(vertices)))\n",
    "    print('Triangles: ' + str(len(triangles)))\n",
    "    return len(triangles), edge_dict"
   ]
  },
  {
   "cell_type": "code",
   "execution_count": 14,
   "metadata": {},
   "outputs": [],
   "source": [
    "def count_M8(adj_list_away, adj_list_toward):\n",
    "\n",
    "    vertices = []\n",
    "    \n",
    "    for vertex1 in tqdm(adj_list_away): #checks first vertex\n",
    "        for vertex2 in adj_list_away[vertex1]: #checks second vertex\n",
    "            for vertex3 in adj_list_away[vertex1]: #checks third vertex\n",
    "                \n",
    "                #if any of the adjacency lists are empty (nan used for placeholder) SKIP this iteration\n",
    "                if ( (np.isnan(vertex1)) | (np.isnan(vertex2)) | (np.isnan(vertex3)) ):\n",
    "                    break\n",
    "\n",
    "                if ((vertex3 not in adj_list_away[vertex2]) & (vertex3 not in adj_list_toward[vertex2])\n",
    "                    & (vertex2 not in adj_list_toward[vertex1]) & (vertex3 not in adj_list_toward[vertex1])\n",
    "                    & (vertex2 != vertex3)):\n",
    "\n",
    "                    vertices.append([vertex1, vertex2, vertex3])\n",
    "\n",
    "    triangles = set(tuple(sorted(l)) for l in vertices) #get rid of permutations of the same triangle\n",
    "\n",
    "    edge_dict = {}\n",
    "    print(\"count edges\")\n",
    "    for tri in tqdm(triangles):\n",
    "\n",
    "        combos = list(itertools.combinations(tri, 2))\n",
    "\n",
    "        for edge in combos:\n",
    "\n",
    "            if edge not in edge_dict.keys(): #if edge doesn't exist yet\n",
    "                edge_dict[edge] = 1\n",
    "            else: #if edge does exist\n",
    "                edge_dict[edge] += 1 #add to edge count\n",
    "\n",
    "    print('Vertices: ' + str(len(vertices)))\n",
    "    print('Triangles: ' + str(len(triangles)))\n",
    "    return len(triangles), edge_dict"
   ]
  },
  {
   "cell_type": "code",
   "execution_count": 15,
   "metadata": {},
   "outputs": [],
   "source": [
    "def count_M9(adj_list_away, adj_list_toward):\n",
    "    \n",
    "    vertices = []\n",
    "    \n",
    "    for vertex1 in tqdm(adj_list_away): #checks first vertex\n",
    "        for vertex2 in adj_list_away[vertex1]: #checks second vertex\n",
    "            for vertex3 in adj_list_away[vertex2]: #check third vertex\n",
    "                \n",
    "                #if any of the adjacency lists are empty (nan used for placeholder) SKIP this iteration\n",
    "                if ( (np.isnan(vertex1)) | (np.isnan(vertex2)) | (np.isnan(vertex3)) ):\n",
    "                    break\n",
    "                \n",
    "                if ((vertex1 not in adj_list_away[vertex3]) & (vertex1 not in adj_list_toward[vertex3])\n",
    "                    & (vertex3 not in adj_list_toward[vertex2]) & (vertex2 not in adj_list_toward[vertex1])\n",
    "                    & (vertex1 != vertex3)):\n",
    "                    \n",
    "                    vertices.append([vertex1, vertex2, vertex3])\n",
    "                    \n",
    "    triangles = set(tuple(sorted(l)) for l in vertices) #get rid of permutations of the same triangle\n",
    "    \n",
    "    edge_dict = {}\n",
    "    print(\"count edges\")\n",
    "    for tri in tqdm(triangles):\n",
    "        \n",
    "        combos = list(itertools.combinations(tri, 2))\n",
    "\n",
    "        for edge in combos:\n",
    "\n",
    "            if edge not in edge_dict.keys(): #if edge doesn't exist yet\n",
    "                edge_dict[edge] = 1\n",
    "            else:                            #if edge does exist\n",
    "                edge_dict[edge] += 1 #add to edge count\n",
    "    \n",
    "    print('Vertices: ' + str(len(vertices)))\n",
    "    print('Triangles: ' + str(len(triangles)))\n",
    "    return len(triangles), edge_dict"
   ]
  },
  {
   "cell_type": "code",
   "execution_count": 16,
   "metadata": {},
   "outputs": [],
   "source": [
    "def count_M10(adj_list_away, adj_list_toward):\n",
    "\n",
    "    vertices = []\n",
    "    print(\"start motif counting\")\n",
    "    for vertex1 in tqdm(adj_list_away): #checks first vertex\n",
    "        for vertex2 in adj_list_toward[vertex1]: #checks second vertex\n",
    "            for vertex3 in adj_list_toward[vertex1]: #checks third vertex\n",
    "\n",
    "                #if any of the adjacency lists are empty (nan used for placeholder) SKIP this iteration\n",
    "                if ( (np.isnan(vertex1)) | (np.isnan(vertex2)) | (np.isnan(vertex3)) ):\n",
    "                    break\n",
    "                \n",
    "                if ((vertex2 not in adj_list_away[vertex1]) & (vertex3 not in adj_list_away[vertex1])\n",
    "                    & (vertex2 not in adj_list_away[vertex3]) & (vertex3 not in adj_list_away[vertex2])\n",
    "                    & (vertex2 != vertex3) & (vertex2 != vertex1) & (vertex1 != vertex3)):\n",
    "\n",
    "                    vertices.append([vertex1, vertex2, vertex3])\n",
    "    \n",
    "    print('Number of triangles before the set operations: ' + str(len(vertices)))        \n",
    "    triangles = set(tuple(sorted(l)) for l in vertices) #get rid of permutations of the same triangle\n",
    "    \n",
    "    edge_dict = {}\n",
    "    print(\"count edges\")\n",
    "    for tri in tqdm(triangles):\n",
    "        \n",
    "        combos = list(itertools.combinations(tri, 2))\n",
    "\n",
    "        for edge in combos:\n",
    "\n",
    "            if edge not in edge_dict.keys(): #if edge doesn't exist yet\n",
    "                edge_dict[edge] = 1\n",
    "            else:                            #if edge does exist\n",
    "                edge_dict[edge] += 1 #add to edge count\n",
    "\n",
    "    print('Vertices: ' + str(len(vertices)))\n",
    "    print('Triangles: ' + str(len(triangles)))\n",
    "    return len(triangles), edge_dict"
   ]
  },
  {
   "cell_type": "code",
   "execution_count": 17,
   "metadata": {},
   "outputs": [],
   "source": [
    "def count_M11(adj_list_away, adj_list_toward):\n",
    "\n",
    "    vertices = []\n",
    "    \n",
    "    for vertex1 in tqdm(adj_list_away): #checks first vertex\n",
    "        for vertex2 in adj_list_away[vertex1]: #checks second vertex\n",
    "            for vertex3 in adj_list_away[vertex1]: #checks third vertex\n",
    "                \n",
    "                #if any of the adjacency lists are empty (nan used for placeholder) SKIP this iteration\n",
    "                if ( (np.isnan(vertex1)) | (np.isnan(vertex2)) | (np.isnan(vertex3)) ):\n",
    "                    break\n",
    "\n",
    "                if ((vertex3 not in adj_list_away[vertex2]) & (vertex3 not in adj_list_toward[vertex2])\n",
    "                    & (vertex2 in adj_list_toward[vertex1]) & (vertex3 not in adj_list_toward[vertex1])\n",
    "                    & (vertex2 != vertex3)):\n",
    "\n",
    "                    vertices.append([vertex1, vertex2, vertex3])\n",
    "\n",
    "    triangles = set(tuple(sorted(l)) for l in vertices) #get rid of permutations of the same triangle\n",
    "\n",
    "    edge_dict = {}\n",
    "    print(\"count edges\")\n",
    "    for tri in tqdm(triangles):\n",
    "\n",
    "        combos = list(itertools.combinations(tri, 2))\n",
    "\n",
    "        for edge in combos:\n",
    "\n",
    "            if edge not in edge_dict.keys(): #if edge doesn't exist yet\n",
    "                edge_dict[edge] = 1\n",
    "            else: #if edge does exist\n",
    "                edge_dict[edge] += 1 #add to edge count\n",
    "                \n",
    "    print('Vertices: ' + str(len(vertices)))\n",
    "    print('Triangles: ' + str(len(triangles)))\n",
    "    return len(triangles), edge_dict"
   ]
  },
  {
   "cell_type": "code",
   "execution_count": 18,
   "metadata": {},
   "outputs": [],
   "source": [
    "def count_M12(adj_list_away, adj_list_toward):\n",
    "    \n",
    "    vertices = []\n",
    "    \n",
    "    for vertex1 in tqdm(adj_list_away): #checks first vertex\n",
    "        for vertex2 in adj_list_away[vertex1]: #checks second vertex\n",
    "            for vertex3 in adj_list_away[vertex2]: #checks third vertex\n",
    "                \n",
    "                #if any of the adjacency lists are empty (nan used for placeholder) SKIP this iteration\n",
    "                if ( (np.isnan(vertex1)) | (np.isnan(vertex2)) | (np.isnan(vertex3)) ):\n",
    "                    break\n",
    "                \n",
    "                if ((vertex1 not in adj_list_away[vertex3]) & (vertex1 not in adj_list_toward[vertex3])\n",
    "                    & (vertex3 in adj_list_toward[vertex2]) & (vertex2 not in adj_list_toward[vertex1])\n",
    "                    & (vertex1 != vertex3)):\n",
    "                    \n",
    "                    vertices.append([vertex1, vertex2, vertex3])\n",
    "                    \n",
    "    triangles = set(tuple(sorted(l)) for l in vertices) #get rid of permutations of the same triangle\n",
    "    \n",
    "    edge_dict = {}\n",
    "    print(\"count edges\")\n",
    "    for tri in tqdm(triangles):\n",
    "        \n",
    "        combos = list(itertools.combinations(tri, 2))\n",
    "\n",
    "        for edge in combos:\n",
    "\n",
    "            if edge not in edge_dict.keys(): #if edge doesn't exist yet\n",
    "                edge_dict[edge] = 1\n",
    "            else:                            #if edge does exist\n",
    "                edge_dict[edge] += 1 #add to edge count\n",
    "    \n",
    "    print('Vertices: ' + str(len(vertices)))\n",
    "    print('Triangles: ' + str(len(triangles)))\n",
    "    return len(triangles), edge_dict"
   ]
  },
  {
   "cell_type": "code",
   "execution_count": 19,
   "metadata": {},
   "outputs": [],
   "source": [
    "def count_M13(adj_list_away, adj_list_toward):\n",
    "\n",
    "    vertices = []\n",
    "    \n",
    "    for vertex1 in tqdm(adj_list_away): #checks first vertex\n",
    "        for vertex2 in adj_list_away[vertex1]: #checks second vertex\n",
    "            for vertex3 in adj_list_away[vertex1]: #checks third vertex\n",
    "                \n",
    "                #if any of the adjacency lists are empty (nan used for placeholder) SKIP this iteration\n",
    "                if ( (np.isnan(vertex1)) | (np.isnan(vertex2)) | (np.isnan(vertex3)) ):\n",
    "                    break\n",
    "\n",
    "                if ((vertex3 not in adj_list_away[vertex2]) & (vertex3 not in adj_list_toward[vertex2])\n",
    "                    & (vertex2 in adj_list_toward[vertex1]) & (vertex3 in adj_list_toward[vertex1])\n",
    "                    & (vertex2 != vertex3)):\n",
    "\n",
    "                    vertices.append([vertex1, vertex2, vertex3])\n",
    "\n",
    "    triangles = set(tuple(sorted(l)) for l in vertices) #get rid of permutations of the same triangle\n",
    "\n",
    "    edge_dict = {}\n",
    "    print(\"count edges\")\n",
    "    for tri in tqdm(triangles):\n",
    "\n",
    "        combos = list(itertools.combinations(tri, 2))\n",
    "\n",
    "        for edge in combos:\n",
    "\n",
    "            if edge not in edge_dict.keys(): #if edge doesn't exist yet\n",
    "                edge_dict[edge] = 1\n",
    "            else: #if edge does exist\n",
    "                edge_dict[edge] += 1 #add to edge count\n",
    "    print('Vertices: ' + str(len(vertices)))\n",
    "    print('Triangles: ' + str(len(triangles)))\n",
    "    return len(triangles), edge_dict"
   ]
  },
  {
   "cell_type": "markdown",
   "metadata": {},
   "source": [
    "# Define counting functions (sampling method)"
   ]
  },
  {
   "cell_type": "code",
   "execution_count": 20,
   "metadata": {},
   "outputs": [],
   "source": [
    "def sampling_count_M1(adj_list_away, adj_list_toward, threshold):\n",
    "\n",
    "    vertices = [] #store vertices\n",
    "    \n",
    "    sample_count = 0\n",
    "    normal_count = 0\n",
    "    edge_dict = {}\n",
    "    \n",
    "    for vertex1 in tqdm(adj_list_away): #checks each starting vertex\n",
    "        for vertex2 in adj_list_away[vertex1]: #access all possible nodes (vertex 2) from vertex 1\n",
    "            \n",
    "            if len(adj_list_away[vertex2]) > threshold: #if the third vertex has a high enough degree, sample\n",
    "                sampled_nodes = np.random.choice(adj_list_away[vertex2], threshold)\n",
    "            \n",
    "                for vertex3 in sampled_nodes:\n",
    "\n",
    "                    #if any of the adjacency lists are empty (nan used for placeholder) SKIP this iteration\n",
    "                    if ( (np.isnan(vertex1)) | (np.isnan(vertex2)) | (np.isnan(vertex3)) ):\n",
    "                        break\n",
    "\n",
    "                    if ((vertex1 in adj_list_away[vertex3])):\n",
    "\n",
    "                        vertices.append([vertex1, vertex2, vertex3])\n",
    "                        temp_count = (1/(threshold/len(adj_list_away[vertex2])))\n",
    "                        sample_count += temp_count\n",
    "                        \n",
    "                        combos = list(itertools.combinations([vertex1, vertex2, vertex3], 2))\n",
    "\n",
    "                        for edge in combos:\n",
    "\n",
    "                            if edge not in edge_dict.keys(): #if edge doesn't exist yet\n",
    "                                edge_dict[edge] = temp_count\n",
    "                            else:                            #if edge does exist\n",
    "                                edge_dict[edge] += temp_count #add to edge count\n",
    "                        \n",
    "            else: #if the degree is lower than the threshold, sample like normal\n",
    "                \n",
    "                for vertex3 in adj_list_away[vertex2]: #checks third vertex\n",
    "                \n",
    "                    #if any of the adjacency lists are empty (nan used for placeholder) SKIP this iteration\n",
    "                    if ( (np.isnan(vertex1)) | (np.isnan(vertex2)) | (np.isnan(vertex3)) ):\n",
    "                        break\n",
    "\n",
    "                    if ((vertex1 in adj_list_away[vertex3])):\n",
    "\n",
    "                        vertices.append([vertex1, vertex2, vertex3])\n",
    "                        normal_count += 1\n",
    "                        \n",
    "                        combos = list(itertools.combinations([vertex1, vertex2, vertex3], 2))\n",
    "\n",
    "                        for edge in combos:\n",
    "\n",
    "                            if edge not in edge_dict.keys(): #if edge doesn't exist yet\n",
    "                                edge_dict[edge] = 1\n",
    "                            else:                            #if edge does exist\n",
    "                                edge_dict[edge] += 1 #add to edge count\n",
    "    \n",
    "    final_count = (sample_count+normal_count)/3\n",
    "    \n",
    "    return final_count, edge_dict"
   ]
  },
  {
   "cell_type": "code",
   "execution_count": 21,
   "metadata": {},
   "outputs": [],
   "source": [
    "def sampling_count_M2(adj_list_away, adj_list_toward, threshold):\n",
    "\n",
    "    vertices = [] #store vertices\n",
    "    \n",
    "    sample_count = 0\n",
    "    normal_count = 0\n",
    "    edge_dict = {}\n",
    "    \n",
    "    for vertex1 in tqdm(adj_list_away): #checks each starting vertex\n",
    "        for vertex2 in adj_list_away[vertex1]: #access all possible nodes (vertex 2) from vertex 1\n",
    "            \n",
    "            if len(adj_list_away[vertex2]) > threshold: #if the third vertex has a high enough degree, sample\n",
    "                sampled_nodes = np.random.choice(adj_list_away[vertex2], threshold)\n",
    "            \n",
    "                for vertex3 in sampled_nodes:\n",
    "\n",
    "                    #if any of the adjacency lists are empty (nan used for placeholder) SKIP this iteration\n",
    "                    if ( (np.isnan(vertex1)) | (np.isnan(vertex2)) | (np.isnan(vertex3)) ):\n",
    "                        break\n",
    "\n",
    "                    if ((vertex1 in adj_list_away[vertex3]) & (vertex2 in adj_list_toward[vertex1])\n",
    "                        & (vertex3 in adj_list_away[vertex2])):\n",
    "\n",
    "                        vertices.append([vertex1, vertex2, vertex3])\n",
    "                        temp_count = (1/(threshold/len(adj_list_away[vertex2])))\n",
    "                        sample_count += temp_count\n",
    "                        \n",
    "                        combos = list(itertools.combinations([vertex1, vertex2, vertex3], 2))\n",
    "\n",
    "                        for edge in combos:\n",
    "\n",
    "                            if edge not in edge_dict.keys(): #if edge doesn't exist yet\n",
    "                                edge_dict[edge] = temp_count\n",
    "                            else:                            #if edge does exist\n",
    "                                edge_dict[edge] += temp_count #add to edge count\n",
    "                        \n",
    "            else: #if the degree is lower than the threshold, sample like normal\n",
    "                \n",
    "                for vertex3 in adj_list_away[vertex2]: #checks third vertex\n",
    "                \n",
    "                    #if any of the adjacency lists are empty (nan used for placeholder) SKIP this iteration\n",
    "                    if ( (np.isnan(vertex1)) | (np.isnan(vertex2)) | (np.isnan(vertex3)) ):\n",
    "                        break\n",
    "\n",
    "                    if ((vertex1 in adj_list_away[vertex3]) & ((vertex2 in adj_list_toward[vertex1])\n",
    "                        & (vertex3 in adj_list_away[vertex2])):\n",
    "\n",
    "                        vertices.append([vertex1, vertex2, vertex3])\n",
    "                        normal_count += 1\n",
    "                        \n",
    "                        combos = list(itertools.combinations([vertex1, vertex2, vertex3], 2))\n",
    "\n",
    "                        for edge in combos:\n",
    "\n",
    "                            if edge not in edge_dict.keys(): #if edge doesn't exist yet\n",
    "                                edge_dict[edge] = 1\n",
    "                            else:                            #if edge does exist\n",
    "                                edge_dict[edge] += 1 #add to edge count\n",
    "     \n",
    "    final_count = sample_count+normal_count\n",
    "    \n",
    "    return final_count, edge_dict"
   ]
  },
  {
   "cell_type": "code",
   "execution_count": 22,
   "metadata": {},
   "outputs": [],
   "source": [
    "def sampling_count_M3(adj_list_away, adj_list_toward, threshold):\n",
    "\n",
    "    vertices = [] #store vertices\n",
    "    \n",
    "    sample_count = 0\n",
    "    normal_count = 0\n",
    "    edge_dict = {}\n",
    "    \n",
    "    for vertex1 in tqdm(adj_list_away): #checks each starting vertex\n",
    "        for vertex2 in adj_list_away[vertex1]: #access all possible nodes (vertex 2) from vertex 1\n",
    "            \n",
    "            if len(adj_list_away[vertex2]) > threshold: #if the third vertex has a high enough degree, sample\n",
    "                sampled_nodes = np.random.choice(adj_list_away[vertex2], threshold)\n",
    "            \n",
    "                for vertex3 in sampled_nodes:\n",
    "\n",
    "                    #if any of the adjacency lists are empty (nan used for placeholder) SKIP this iteration\n",
    "                    if ( (np.isnan(vertex1)) | (np.isnan(vertex2)) | (np.isnan(vertex3)) ):\n",
    "                        break\n",
    "\n",
    "                    if ((vertex1 in adj_list_away[vertex3]) & (vertex3 in adj_list_toward[vertex2]) \n",
    "                        & (vertex2 in adj_list_toward[vertex1]) & (vertex3 in adj_list_away[vertex2])):\n",
    "\n",
    "                        vertices.append([vertex1, vertex2, vertex3])\n",
    "                        temp_count = (1/(threshold/len(adj_list_away[vertex2])))\n",
    "                        sample_count += temp_count\n",
    "                        \n",
    "                        combos = list(itertools.combinations([vertex1, vertex2, vertex3], 2))\n",
    "\n",
    "                        for edge in combos:\n",
    "\n",
    "                            if edge not in edge_dict.keys(): #if edge doesn't exist yet\n",
    "                                edge_dict[edge] = temp_count\n",
    "                            else:                            #if edge does exist\n",
    "                                edge_dict[edge] += temp_count #add to edge count\n",
    "                        \n",
    "            else: #if the degree is lower than the threshold, sample like normal\n",
    "                \n",
    "                for vertex3 in adj_list_away[vertex2]: #checks third vertex\n",
    "                \n",
    "                    #if any of the adjacency lists are empty (nan used for placeholder) SKIP this iteration\n",
    "                    if ( (np.isnan(vertex1)) | (np.isnan(vertex2)) | (np.isnan(vertex3)) ):\n",
    "                        break\n",
    "\n",
    "                    if ((vertex1 in adj_list_away[vertex3]) & (vertex3 in adj_list_toward[vertex2]) \n",
    "                        & (vertex2 in adj_list_toward[vertex1]) & (vertex3 in adj_list_away[vertex2])):\n",
    "\n",
    "                        vertices.append([vertex1, vertex2, vertex3])\n",
    "                        normal_count += 1\n",
    "                        \n",
    "                        combos = list(itertools.combinations([vertex1, vertex2, vertex3], 2))\n",
    "\n",
    "                        for edge in combos:\n",
    "\n",
    "                            if edge not in edge_dict.keys(): #if edge doesn't exist yet\n",
    "                                edge_dict[edge] = 1\n",
    "                            else:                            #if edge does exist\n",
    "                                edge_dict[edge] += 1 #add to edge count\n",
    "    \n",
    "    final_count = sample_count+normal_count\n",
    "    \n",
    "    return final_count, edge_dict"
   ]
  },
  {
   "cell_type": "code",
   "execution_count": 23,
   "metadata": {},
   "outputs": [],
   "source": [
    "def sampling_count_M4(adj_list_away, adj_list_toward, threshold):\n",
    "\n",
    "    vertices = []\n",
    "    \n",
    "    sample_count = 0\n",
    "    normal_count = 0\n",
    "    edge_dict = {}\n",
    "    \n",
    "    for vertex1 in tqdm(adj_list_away): #checks each starting vertex\n",
    "        for vertex2 in adj_list_away[vertex1]: #access all possible nodes (vertex 2) from vertex 1\n",
    "            \n",
    "            if len(adj_list_away[vertex2]) > threshold: #if the third vertex has a high enough degree, sample\n",
    "                sampled_nodes = np.random.choice(adj_list_away[vertex2], threshold)\n",
    "            \n",
    "                #randomly sample a third vertex at uniform from all possible nodes\n",
    "                for vertex3 in sampled_nodes:\n",
    "\n",
    "                    #if any of the adjacency lists are empty (nan used for placeholder) SKIP this iteration\n",
    "                    if ( (np.isnan(vertex1)) | (np.isnan(vertex2)) | (np.isnan(vertex3)) ):\n",
    "                        break\n",
    "\n",
    "                    if ((vertex1 in adj_list_away[vertex3]) & (vertex1 in adj_list_toward[vertex3])\n",
    "                        & (vertex3 in adj_list_toward[vertex2]) & (vertex2 in adj_list_toward[vertex1])\n",
    "                        & (vertex1 != vertex2) & (vertex1 != vertex3) & (vertex2 != vertex3)\n",
    "                        & (vertex3 in adj_list_away[vertex2])):\n",
    "\n",
    "                        vertices.append([vertex1, vertex2, vertex3])\n",
    "                        temp_count = (1/(threshold/len(adj_list_away[vertex2])))\n",
    "                        sample_count += temp_count\n",
    "                        \n",
    "                        combos = list(itertools.combinations([vertex1, vertex2, vertex3], 2))\n",
    "\n",
    "                        for edge in combos:\n",
    "\n",
    "                            if edge not in edge_dict.keys(): #if edge doesn't exist yet\n",
    "                                edge_dict[edge] = temp_count\n",
    "                            else:                            #if edge does exist\n",
    "                                edge_dict[edge] += temp_count #add to edge count\n",
    "                \n",
    "                        \n",
    "            else: #if the degree is lower than the threshold, sample like normal\n",
    "                \n",
    "                for vertex3 in adj_list_away[vertex2]: #checks third vertex\n",
    "                \n",
    "                    #if any of the adjacency lists are empty (nan used for placeholder) SKIP this iteration\n",
    "                    if ( (np.isnan(vertex1)) | (np.isnan(vertex2)) | (np.isnan(vertex3)) ):\n",
    "                        break\n",
    "\n",
    "                    if ((vertex1 in adj_list_away[vertex3]) & (vertex1 in adj_list_toward[vertex3])\n",
    "                        & (vertex3 in adj_list_toward[vertex2]) & (vertex2 in adj_list_toward[vertex1])\n",
    "                        & (vertex1 != vertex2) & (vertex1 != vertex3) & (vertex2 != vertex3)\n",
    "                        & (vertex3 in adj_list_away[vertex2])):\n",
    "\n",
    "                        vertices.append([vertex1, vertex2, vertex3])\n",
    "                        normal_count += 1\n",
    "                        \n",
    "                        combos = list(itertools.combinations([vertex1, vertex2, vertex3], 2))\n",
    "\n",
    "                        for edge in combos:\n",
    "\n",
    "                            if edge not in edge_dict.keys(): #if edge doesn't exist yet\n",
    "                                edge_dict[edge] = 1\n",
    "                            else:                            #if edge does exist\n",
    "                                edge_dict[edge] += 1 #add to edge count\n",
    "    \n",
    "    final_count = (sample_count+normal_count)/6\n",
    "    \n",
    "    return final_count, edge_dict"
   ]
  },
  {
   "cell_type": "code",
   "execution_count": 24,
   "metadata": {},
   "outputs": [],
   "source": [
    "def sampling_count_M5(adj_list_away, adj_list_toward, threshold):\n",
    "    \n",
    "    vertices = []\n",
    "    \n",
    "    sample_count = 0\n",
    "    normal_count = 0\n",
    "    edge_dict = {}\n",
    "    \n",
    "    for vertex1 in tqdm(adj_list_away): #checks each parent node\n",
    "        for vertex2 in adj_list_away[vertex1]: #checks first child node\n",
    "            \n",
    "            if len(adj_list_away[vertex2]) > threshold: #if the third vertex has a high enough degree, sample\n",
    "                sampled_nodes = np.random.choice(adj_list_away[vertex2], threshold)\n",
    "            \n",
    "                #randomly sample a third vertex at uniform from all possible nodes\n",
    "                for vertex3 in sampled_nodes:\n",
    "\n",
    "                    #if any of the adjacency lists are empty (nan used for placeholder) SKIP this iteration\n",
    "                    if ( (np.isnan(vertex1)) | (np.isnan(vertex2)) | (np.isnan(vertex3)) ):\n",
    "                        break\n",
    "\n",
    "                    if ((vertex3 in adj_list_away[vertex1])):\n",
    "\n",
    "                        vertices.append([vertex1, vertex2, vertex3])\n",
    "                        temp_count = (1/(threshold/len(adj_list_away[vertex2])))\n",
    "                        sample_count += temp_count\n",
    "                        \n",
    "                        combos = list(itertools.combinations([vertex1, vertex2, vertex3], 2))\n",
    "\n",
    "                        for edge in combos:\n",
    "\n",
    "                            if edge not in edge_dict.keys(): #if edge doesn't exist yet\n",
    "                                edge_dict[edge] = temp_count\n",
    "                            else:                            #if edge does exist\n",
    "                                edge_dict[edge] += temp_count #add to edge count\n",
    "                        \n",
    "            else: #if the degree is lower than the threshold, sample like normal\n",
    "                \n",
    "                for vertex3 in adj_list_away[vertex2]:\n",
    "\n",
    "                    #if any of the adjacency lists are empty (nan used for placeholder) SKIP this iteration\n",
    "                    if ( (np.isnan(vertex1)) | (np.isnan(vertex2)) | (np.isnan(vertex3)) ):\n",
    "                        break\n",
    "\n",
    "                    if ((vertex3 in adj_list_away[vertex1])):\n",
    "\n",
    "                        vertices.append([vertex1, vertex2, vertex3])\n",
    "                        normal_count += 1\n",
    "                        \n",
    "                        combos = list(itertools.combinations([vertex1, vertex2, vertex3], 2))\n",
    "\n",
    "                        for edge in combos:\n",
    "\n",
    "                            if edge not in edge_dict.keys(): #if edge doesn't exist yet\n",
    "                                edge_dict[edge] = 1\n",
    "                            else:                            #if edge does exist\n",
    "                                edge_dict[edge] += 1 #add to edge count\n",
    "    \n",
    "    final_count = sample_count+normal_count\n",
    "    \n",
    "    return final_count, edge_dict"
   ]
  },
  {
   "cell_type": "code",
   "execution_count": 130,
   "metadata": {},
   "outputs": [],
   "source": [
    "def sampling_count_M6(adj_list_away, adj_list_toward, threshold):\n",
    "    \n",
    "    vertices = []\n",
    "    \n",
    "    sample_count = 0\n",
    "    normal_count = 0\n",
    "    edge_dict = {}\n",
    "    \n",
    "    for vertex1 in tqdm(adj_list_away): #checks each parent node\n",
    "        for vertex2 in adj_list_away[vertex1]: #checks first child node\n",
    "            \n",
    "            if len(adj_list_away[vertex2]) > threshold: #if the third vertex has a high enough degree, sample\n",
    "                sampled_nodes = np.random.choice(adj_list_away[vertex2], threshold)\n",
    "            \n",
    "                #randomly sample a third vertex at uniform from all possible nodes\n",
    "                for vertex3 in sampled_nodes:\n",
    "\n",
    "                    #if any of the adjacency lists are empty (nan used for placeholder) SKIP this iteration\n",
    "                    if ( (np.isnan(vertex1)) | (np.isnan(vertex2)) | (np.isnan(vertex3)) ):\n",
    "                        break\n",
    "\n",
    "                    if ((vertex3 in adj_list_away[vertex1]) & (vertex3 in adj_list_toward[vertex2])):\n",
    "\n",
    "                        vertices.append([vertex1, vertex2, vertex3])\n",
    "                        temp_count = (1/(threshold/len(adj_list_away[vertex2])))\n",
    "                        sample_count += temp_count\n",
    "                        \n",
    "                        combos = list(itertools.combinations([vertex1, vertex2, vertex3], 2))\n",
    "\n",
    "                        for edge in combos:\n",
    "\n",
    "                            if edge not in edge_dict.keys(): #if edge doesn't exist yet\n",
    "                                edge_dict[edge] = temp_count\n",
    "                            else:                            #if edge does exist\n",
    "                                edge_dict[edge] += temp_count #add to edge count\n",
    "                        \n",
    "            else: #if the degree is lower than the threshold, sample like normal\n",
    "                \n",
    "                for vertex3 in adj_list_away[vertex2]:\n",
    "\n",
    "                    #if any of the adjacency lists are empty (nan used for placeholder) SKIP this iteration\n",
    "                    if ( (np.isnan(vertex1)) | (np.isnan(vertex2)) | (np.isnan(vertex3)) ):\n",
    "                        break\n",
    "\n",
    "                    if ((vertex3 in adj_list_away[vertex1]) & (vertex3 in adj_list_toward[vertex2])):\n",
    "\n",
    "                        vertices.append([vertex1, vertex2, vertex3])\n",
    "                        normal_count += 1\n",
    "                        \n",
    "                        combos = list(itertools.combinations([vertex1, vertex2, vertex3], 2))\n",
    "\n",
    "                        for edge in combos:\n",
    "\n",
    "                            if edge not in edge_dict.keys(): #if edge doesn't exist yet\n",
    "                                edge_dict[edge] = 1\n",
    "                            else:                            #if edge does exist\n",
    "                                edge_dict[edge] += 1 #add to edge count\n",
    "                                \n",
    "    final_count = (sample_count+normal_count)/2\n",
    "    \n",
    "    return final_count, edge_dict"
   ]
  },
  {
   "cell_type": "code",
   "execution_count": 131,
   "metadata": {},
   "outputs": [],
   "source": [
    "def sampling_count_M7(adj_list_away, adj_list_toward, threshold):\n",
    "    \n",
    "    vertices = []\n",
    "    \n",
    "    sample_count = 0\n",
    "    normal_count = 0\n",
    "    edge_dict = {}\n",
    "    \n",
    "    for vertex1 in tqdm(adj_list_away): #checks each parent node\n",
    "        for vertex2 in adj_list_away[vertex1]: #checks first child node\n",
    "            \n",
    "            if len(adj_list_away[vertex2]) > threshold: #if the third vertex has a high enough degree, sample\n",
    "                sampled_nodes = np.random.choice(adj_list_away[vertex2], threshold)\n",
    "            \n",
    "                #randomly sample a third vertex at uniform from all possible nodes\n",
    "                for vertex3 in sampled_nodes:  \n",
    "\n",
    "                    #if any of the adjacency lists are empty (nan used for placeholder) SKIP this iteration\n",
    "                    if ( (np.isnan(vertex1)) | (np.isnan(vertex2)) | (np.isnan(vertex3)) ):\n",
    "                        break\n",
    "\n",
    "                    if ((vertex3 in adj_list_away[vertex1]) & (vertex1 in adj_list_away[vertex2])):\n",
    "\n",
    "                        vertices.append([vertex1, vertex2, vertex3])\n",
    "                        temp_count = (1/(threshold/len(adj_list_away[vertex2])))\n",
    "                        sample_count += temp_count\n",
    "                        \n",
    "                        combos = list(itertools.combinations([vertex1, vertex2, vertex3], 2))\n",
    "\n",
    "                        for edge in combos:\n",
    "\n",
    "                            if edge not in edge_dict.keys(): #if edge doesn't exist yet\n",
    "                                edge_dict[edge] = temp_count\n",
    "                            else:                            #if edge does exist\n",
    "                                edge_dict[edge] += temp_count #add to edge count\n",
    "                        \n",
    "            else:\n",
    "                \n",
    "                for vertex3 in adj_list_away[vertex2]: #checks third vertex\n",
    "                    \n",
    "                    #if any of the adjacency lists are empty (nan used for placeholder) SKIP this iteration\n",
    "                    if ( (np.isnan(vertex1)) | (np.isnan(vertex2)) | (np.isnan(vertex3)) ):\n",
    "                        break\n",
    "\n",
    "                    if ((vertex3 in adj_list_away[vertex1]) & (vertex1 in adj_list_away[vertex2])):\n",
    "\n",
    "                        vertices.append([vertex1, vertex2, vertex3])\n",
    "                        normal_count += 1\n",
    "                        \n",
    "                        combos = list(itertools.combinations([vertex1, vertex2, vertex3], 2))\n",
    "\n",
    "                        for edge in combos:\n",
    "\n",
    "                            if edge not in edge_dict.keys(): #if edge doesn't exist yet\n",
    "                                edge_dict[edge] = 1\n",
    "                            else:                            #if edge does exist\n",
    "                                edge_dict[edge] += 1 #add to edge count\n",
    "      \n",
    "    final_count = (sample_count+normal_count)/2\n",
    "    \n",
    "    return final_count, edge_dict"
   ]
  },
  {
   "cell_type": "code",
   "execution_count": 27,
   "metadata": {},
   "outputs": [],
   "source": [
    "def sampling_count_M8(adj_list_away, adj_list_toward, threshold):\n",
    "\n",
    "    vertices = []\n",
    "    \n",
    "    sample_count = 0\n",
    "    normal_count = 0\n",
    "    edge_dict = {}\n",
    "    \n",
    "    for vertex1 in adj_list_away: #checks each vertex1 node\n",
    "        for vertex2 in adj_list_away[vertex1]: #checks first child node\n",
    "            \n",
    "            if len(adj_list_away[vertex1]) > threshold: #if the third vertex has a high enough degree, sample\n",
    "                sampled_nodes = np.random.choice(adj_list_away[vertex1], threshold)\n",
    "            \n",
    "                #randomly sample a third vertex at uniform from all possible nodes\n",
    "                for vertex3 in sampled_nodes: \n",
    "\n",
    "                    #if any of the adjacency lists are empty (nan used for placeholder) SKIP this iteration\n",
    "                    if ( (np.isnan(vertex1)) | (np.isnan(vertex2)) | (np.isnan(vertex3)) ):\n",
    "                        break\n",
    "\n",
    "                    if ((vertex3 not in adj_list_away[vertex2]) & (vertex3 not in adj_list_toward[vertex2])\n",
    "                        & (vertex2 not in adj_list_toward[vertex1]) & (vertex3 not in adj_list_toward[vertex1])\n",
    "                        & (vertex2 != vertex3) & (vertex3 in adj_list_away[vertex1])):\n",
    "\n",
    "                        vertices.append([vertex1, vertex2, vertex3])\n",
    "                        temp_count = (1/(threshold/len(adj_list_away[vertex1])))\n",
    "                        sample_count += temp_count\n",
    "                        \n",
    "                        combos = list(itertools.combinations([vertex1, vertex2, vertex3], 2))\n",
    "\n",
    "                        for edge in combos:\n",
    "\n",
    "                            if edge not in edge_dict.keys(): #if edge doesn't exist yet\n",
    "                                edge_dict[edge] = temp_count\n",
    "                            else:                            #if edge does exist\n",
    "                                edge_dict[edge] += temp_count #add to edge count\n",
    "                        \n",
    "            else:\n",
    "                \n",
    "                for vertex3 in adj_list_away[vertex1]:\n",
    "                    \n",
    "                    #if any of the adjacency lists are empty (nan used for placeholder) SKIP this iteration\n",
    "                    if ( (np.isnan(vertex1)) | (np.isnan(vertex2)) | (np.isnan(vertex3)) ):\n",
    "                        break\n",
    "\n",
    "                    if ((vertex3 not in adj_list_away[vertex2]) & (vertex3 not in adj_list_toward[vertex2])\n",
    "                        & (vertex2 not in adj_list_toward[vertex1]) & (vertex3 not in adj_list_toward[vertex1])\n",
    "                        & (vertex2 != vertex3) & (vertex3 in adj_list_away[vertex1])):\n",
    "\n",
    "                        vertices.append([vertex1, vertex2, vertex3])\n",
    "                        normal_count += 1\n",
    "                        \n",
    "                        combos = list(itertools.combinations([vertex1, vertex2, vertex3], 2))\n",
    "\n",
    "                        for edge in combos:\n",
    "\n",
    "                            if edge not in edge_dict.keys(): #if edge doesn't exist yet\n",
    "                                edge_dict[edge] = 1\n",
    "                            else:                            #if edge does exist\n",
    "                                edge_dict[edge] += 1 #add to edge count\n",
    "    \n",
    "    final_count = (sample_count+normal_count)/2\n",
    "    \n",
    "    return final_count, edge_dict"
   ]
  },
  {
   "cell_type": "code",
   "execution_count": 28,
   "metadata": {},
   "outputs": [],
   "source": [
    "def sampling_count_M9(adj_list_away, adj_list_toward, threshold):\n",
    "    \n",
    "    vertices = []\n",
    "    \n",
    "    sample_count = 0\n",
    "    normal_count = 0\n",
    "    edge_dict = {}\n",
    "    \n",
    "    for vertex1 in tqdm(adj_list_away): #checks each starting vertex\n",
    "        for vertex2 in adj_list_away[vertex1]: #access all possible nodes (vertex 2) from vertex 1\n",
    "            \n",
    "            if len(adj_list_away[vertex2]) > threshold: #if the third vertex has a high enough degree, sample\n",
    "                sampled_nodes = np.random.choice(adj_list_away[vertex2], threshold)\n",
    "            \n",
    "                #randomly sample a third vertex at uniform from all possible nodes\n",
    "                for vertex3 in sampled_nodes: \n",
    "\n",
    "                    #if any of the adjacency lists are empty (nan used for placeholder) SKIP this iteration\n",
    "                    if ( (np.isnan(vertex1)) | (np.isnan(vertex2)) | (np.isnan(vertex3)) ):\n",
    "                        break\n",
    "\n",
    "                    if ((vertex1 not in adj_list_away[vertex3]) & (vertex1 not in adj_list_toward[vertex3])\n",
    "                        & (vertex3 not in adj_list_toward[vertex2]) & (vertex2 not in adj_list_toward[vertex1])\n",
    "                        & (vertex1 != vertex3) & (vertex3 in adj_list_away[vertex2])):\n",
    "\n",
    "                        vertices.append([vertex1, vertex2, vertex3])\n",
    "                        temp_count = (1/(threshold/len(adj_list_away[vertex2])))\n",
    "                        sample_count += temp_count\n",
    "                        \n",
    "                        combos = list(itertools.combinations([vertex1, vertex2, vertex3], 2))\n",
    "\n",
    "                        for edge in combos:\n",
    "\n",
    "                            if edge not in edge_dict.keys(): #if edge doesn't exist yet\n",
    "                                edge_dict[edge] = temp_count\n",
    "                            else:                            #if edge does exist\n",
    "                                edge_dict[edge] += temp_count #add to edge count\n",
    "                        \n",
    "            else:\n",
    "                \n",
    "                for vertex3 in adj_list_away[vertex2]:\n",
    "                    \n",
    "                    #if any of the adjacency lists are empty (nan used for placeholder) SKIP this iteration\n",
    "                    if ( (np.isnan(vertex1)) | (np.isnan(vertex2)) | (np.isnan(vertex3)) ):\n",
    "                        break\n",
    "\n",
    "                    if ((vertex1 not in adj_list_away[vertex3]) & (vertex1 not in adj_list_toward[vertex3])\n",
    "                        & (vertex3 not in adj_list_toward[vertex2]) & (vertex2 not in adj_list_toward[vertex1])\n",
    "                        & (vertex1 != vertex3) & (vertex3 in adj_list_away[vertex2])):\n",
    "\n",
    "                        vertices.append([vertex1, vertex2, vertex3])\n",
    "                        normal_count += 1\n",
    "                        \n",
    "                        combos = list(itertools.combinations([vertex1, vertex2, vertex3], 2))\n",
    "\n",
    "                        for edge in combos:\n",
    "\n",
    "                            if edge not in edge_dict.keys(): #if edge doesn't exist yet\n",
    "                                edge_dict[edge] = 1\n",
    "                            else:                            #if edge does exist\n",
    "                                edge_dict[edge] += 1 #add to edge count\n",
    "                    \n",
    "    final_count = (sample_count+normal_count)\n",
    "    \n",
    "    return final_count, edge_dict"
   ]
  },
  {
   "cell_type": "code",
   "execution_count": 204,
   "metadata": {},
   "outputs": [],
   "source": [
    "def sampling_count_M10(adj_list_away, adj_list_toward, threshold):\n",
    "    \n",
    "    vertices = []\n",
    "    sample_count = 0\n",
    "    normal_count = 0\n",
    "    edge_dict = {}\n",
    "    \n",
    "    for vertex1 in adj_list_away:#for vertex1 in tqdm(adj_list_away): #checks first vertex\n",
    "        for vertex2 in adj_list_toward[vertex1]: #checks second vertex\n",
    "            \n",
    "            if len(adj_list_toward[vertex1]) > threshold: #if the third vertex has a high enough degree, sample\n",
    "                sampled_nodes = np.random.choice(adj_list_toward[vertex1], threshold)\n",
    "                \n",
    "                #randomly sample a third vertex at uniform from all possible nodes\n",
    "                for vertex3 in sampled_nodes:\n",
    "\n",
    "                    #if any of the adjacency lists are empty (nan used for placeholder) SKIP this iteration\n",
    "                    if ( (np.isnan(vertex1)) | (np.isnan(vertex2)) | (np.isnan(vertex3)) ):\n",
    "                        break\n",
    "\n",
    "                    if ((vertex2 not in adj_list_away[vertex1]) & (vertex3 not in adj_list_away[vertex1])\n",
    "                        & (vertex2 not in adj_list_away[vertex3]) & (vertex3 not in adj_list_away[vertex2])\n",
    "                        & (vertex2 != vertex3) & (vertex3 in adj_list_toward[vertex1])):\n",
    "\n",
    "                        vertices.append([vertex1, vertex2, vertex3])\n",
    "                        temp_count = (1/(threshold/len(adj_list_toward[vertex1])))\n",
    "                        sample_count += temp_count\n",
    "                        \n",
    "                        combos = list(itertools.combinations([vertex1, vertex2, vertex3], 2))\n",
    "\n",
    "                        for edge in combos:\n",
    "\n",
    "                            if edge not in edge_dict.keys(): #if edge doesn't exist yet\n",
    "                                edge_dict[edge] = temp_count\n",
    "                            else:                            #if edge does exist\n",
    "                                edge_dict[edge] += temp_count #add to edge count\n",
    "            \n",
    "            else: #if the degree is lower than the threshold, sample like normal\n",
    "                \n",
    "                for vertex3 in adj_list_toward[vertex1]: #checks third vertex\n",
    "\n",
    "                    #if any of the adjacency lists are empty (nan used for placeholder) SKIP this iteration\n",
    "                    if ( (np.isnan(vertex1)) | (np.isnan(vertex2)) | (np.isnan(vertex3)) ):\n",
    "                        break\n",
    "\n",
    "                    if ((vertex2 not in adj_list_away[vertex1]) & (vertex3 not in adj_list_away[vertex1])\n",
    "                        & (vertex2 not in adj_list_away[vertex3]) & (vertex3 not in adj_list_away[vertex2])\n",
    "                        & (vertex2 != vertex3) & (vertex2 != vertex1) & (vertex1 != vertex3)):\n",
    "\n",
    "                        vertices.append([vertex1, vertex2, vertex3])\n",
    "                        normal_count += 1\n",
    "                        \n",
    "                        combos = list(itertools.combinations([vertex1, vertex2, vertex3], 2))\n",
    "\n",
    "                        for edge in combos:\n",
    "\n",
    "                            if edge not in edge_dict.keys(): #if edge doesn't exist yet\n",
    "                                edge_dict[edge] = 1\n",
    "                            else:                            #if edge does exist\n",
    "                                edge_dict[edge] += 1 #add to edge count  \n",
    "                        \n",
    "    final_count = (sample_count+normal_count)/2\n",
    "    \n",
    "    return final_count, edge_dict"
   ]
  },
  {
   "cell_type": "code",
   "execution_count": 30,
   "metadata": {},
   "outputs": [],
   "source": [
    "def sampling_count_M11(adj_list_away, adj_list_toward, threshold):\n",
    "\n",
    "    vertices = []\n",
    "    \n",
    "    sample_count = 0\n",
    "    normal_count = 0\n",
    "    edge_dict = {}\n",
    "    \n",
    "    for vertex1 in tqdm(adj_list_away): #checks each vertex1 node\n",
    "        for vertex2 in adj_list_away[vertex1]: #checks first child node\n",
    "            \n",
    "            if len(adj_list_away[vertex1]) > threshold: #if the third vertex has a high enough degree, sample\n",
    "                sampled_nodes = np.random.choice(adj_list_away[vertex1], threshold)\n",
    "            \n",
    "                #randomly sample a third vertex at uniform from all possible nodes\n",
    "                for vertex3 in sampled_nodes:\n",
    "\n",
    "                    #if any of the adjacency lists are empty (nan used for placeholder) SKIP this iteration\n",
    "                    if ( (np.isnan(vertex1)) | (np.isnan(vertex2)) | (np.isnan(vertex3)) ):\n",
    "                        break\n",
    "\n",
    "                    if ((vertex3 not in adj_list_away[vertex2]) & (vertex3 not in adj_list_toward[vertex2])\n",
    "                        & (vertex2 in adj_list_toward[vertex1]) & (vertex3 not in adj_list_toward[vertex1])\n",
    "                        & (vertex2 != vertex3) & (vertex3 in adj_list_away[vertex1])):\n",
    "\n",
    "                        vertices.append([vertex1, vertex2, vertex3])\n",
    "                        temp_count = (1/(threshold/len(adj_list_away[vertex1])))\n",
    "                        sample_count += temp_count\n",
    "                        \n",
    "                        combos = list(itertools.combinations([vertex1, vertex2, vertex3], 2))\n",
    "\n",
    "                        for edge in combos:\n",
    "\n",
    "                            if edge not in edge_dict.keys(): #if edge doesn't exist yet\n",
    "                                edge_dict[edge] = temp_count\n",
    "                            else:                            #if edge does exist\n",
    "                                edge_dict[edge] += temp_count #add to edge count\n",
    "                        \n",
    "            else:\n",
    "                \n",
    "                for vertex3 in adj_list_away[vertex1]:\n",
    "\n",
    "                    #if any of the adjacency lists are empty (nan used for placeholder) SKIP this iteration\n",
    "                    if ( (np.isnan(vertex1)) | (np.isnan(vertex2)) | (np.isnan(vertex3)) ):\n",
    "                        break\n",
    "\n",
    "                    if ((vertex3 not in adj_list_away[vertex2]) & (vertex3 not in adj_list_toward[vertex2])\n",
    "                        & (vertex2 in adj_list_toward[vertex1]) & (vertex3 not in adj_list_toward[vertex1])\n",
    "                        & (vertex2 != vertex3) & (vertex3 in adj_list_away[vertex1])):\n",
    "\n",
    "                        vertices.append([vertex1, vertex2, vertex3])\n",
    "                        normal_count+=1\n",
    "                        \n",
    "                        combos = list(itertools.combinations([vertex1, vertex2, vertex3], 2))\n",
    "\n",
    "                        for edge in combos:\n",
    "\n",
    "                            if edge not in edge_dict.keys(): #if edge doesn't exist yet\n",
    "                                edge_dict[edge] = 1\n",
    "                            else:                            #if edge does exist\n",
    "                                edge_dict[edge] += 1 #add to edge count\n",
    "\n",
    "    final_count = (sample_count+normal_count)\n",
    "    \n",
    "    return final_count, edge_dict"
   ]
  },
  {
   "cell_type": "code",
   "execution_count": 31,
   "metadata": {},
   "outputs": [],
   "source": [
    "def sampling_count_M12(adj_list_away, adj_list_toward, threshold):\n",
    "    \n",
    "    vertices = []\n",
    "    \n",
    "    sample_count = 0\n",
    "    normal_count = 0\n",
    "    edge_dict = {}\n",
    "    \n",
    "    for vertex1 in tqdm(adj_list_away): #checks each starting vertex\n",
    "        for vertex2 in adj_list_away[vertex1]: #access all possible nodes (vertex 2) from vertex 1\n",
    "            \n",
    "            if len(adj_list_away[vertex2]) > threshold: #if the third vertex has a high enough degree, sample\n",
    "                sampled_nodes = np.random.choice(adj_list_away[vertex2], threshold)\n",
    "            \n",
    "                #randomly sample a third vertex at uniform from all possible nodes\n",
    "                for vertex3 in sampled_nodes:\n",
    "\n",
    "                    #if any of the adjacency lists are empty (nan used for placeholder) SKIP this iteration\n",
    "                    if ( (np.isnan(vertex1)) | (np.isnan(vertex2)) | (np.isnan(vertex3)) ):\n",
    "                        break\n",
    "\n",
    "                    if ((vertex1 not in adj_list_away[vertex3]) & (vertex1 not in adj_list_toward[vertex3])\n",
    "                        & (vertex3 in adj_list_toward[vertex2]) & (vertex2 not in adj_list_toward[vertex1])\n",
    "                        & (vertex1 != vertex3) & (vertex3 in adj_list_away[vertex2])):\n",
    "\n",
    "                        vertices.append([vertex1, vertex2, vertex3])\n",
    "                        temp_count = (1/(threshold/len(adj_list_away[vertex2])))\n",
    "                        sample_count += temp_count\n",
    "                        \n",
    "                        combos = list(itertools.combinations([vertex1, vertex2, vertex3], 2))\n",
    "\n",
    "                        for edge in combos:\n",
    "\n",
    "                            if edge not in edge_dict.keys(): #if edge doesn't exist yet\n",
    "                                edge_dict[edge] = temp_count\n",
    "                            else:                            #if edge does exist\n",
    "                                edge_dict[edge] += temp_count #add to edge count\n",
    "                        \n",
    "            else:\n",
    "                \n",
    "                for vertex3 in adj_list_away[vertex2]:\n",
    "                    \n",
    "                    #if any of the adjacency lists are empty (nan used for placeholder) SKIP this iteration\n",
    "                    if ( (np.isnan(vertex1)) | (np.isnan(vertex2)) | (np.isnan(vertex3)) ):\n",
    "                        break\n",
    "\n",
    "                    if ((vertex1 not in adj_list_away[vertex3]) & (vertex1 not in adj_list_toward[vertex3])\n",
    "                        & (vertex3 in adj_list_toward[vertex2]) & (vertex2 not in adj_list_toward[vertex1])\n",
    "                        & (vertex1 != vertex3) & (vertex3 in adj_list_away[vertex2])):\n",
    "\n",
    "                        vertices.append([vertex1, vertex2, vertex3])\n",
    "                        normal_count+=1\n",
    "                        \n",
    "                        combos = list(itertools.combinations([vertex1, vertex2, vertex3], 2))\n",
    "\n",
    "                        for edge in combos:\n",
    "\n",
    "                            if edge not in edge_dict.keys(): #if edge doesn't exist yet\n",
    "                                edge_dict[edge] = 1\n",
    "                            else:                            #if edge does exist\n",
    "                                edge_dict[edge] += 1 #add to edge count\n",
    "    \n",
    "    final_count = (sample_count+normal_count)\n",
    "    \n",
    "    return final_count, edge_dict"
   ]
  },
  {
   "cell_type": "code",
   "execution_count": 32,
   "metadata": {},
   "outputs": [],
   "source": [
    "def sampling_count_M13(adj_list_away, adj_list_toward, threshold):\n",
    "\n",
    "    vertices = []\n",
    "    \n",
    "    sample_count = 0\n",
    "    normal_count = 0\n",
    "    edge_dict = {}\n",
    "    \n",
    "    for vertex1 in tqdm(adj_list_away): #checks each vertex1 node\n",
    "        for vertex2 in adj_list_away[vertex1]: #checks first child node\n",
    "            \n",
    "            if len(adj_list_away[vertex2]) > threshold: #if the third vertex has a high enough degree, sample\n",
    "                sampled_nodes = np.random.choice(adj_list_away[vertex2], threshold)\n",
    "            \n",
    "                #randomly sample a third vertex at uniform from all possible nodes\n",
    "                for vertex3 in sampled_nodes:\n",
    "\n",
    "                    #if any of the adjacency lists are empty (nan used for placeholder) SKIP this iteration\n",
    "                    if ( (np.isnan(vertex1)) | (np.isnan(vertex2)) | (np.isnan(vertex3)) ):\n",
    "                        break\n",
    "\n",
    "                    if ((vertex3 not in adj_list_away[vertex1]) & (vertex3 not in adj_list_toward[vertex1])\n",
    "                        & (vertex2 in adj_list_toward[vertex1]) & (vertex3 in adj_list_toward[vertex2])\n",
    "                        & (vertex1 != vertex3)):\n",
    "\n",
    "                        vertices.append([vertex1, vertex2, vertex3])\n",
    "                        temp_count = (1/(threshold/len(adj_list_away[vertex1])))\n",
    "                        sample_count += temp_count\n",
    "                        \n",
    "                        combos = list(itertools.combinations([vertex1, vertex2, vertex3], 2))\n",
    "\n",
    "                        for edge in combos:\n",
    "\n",
    "                            if edge not in edge_dict.keys(): #if edge doesn't exist yet\n",
    "                                edge_dict[edge] = temp_count\n",
    "                            else:                            #if edge does exist\n",
    "                                edge_dict[edge] += temp_count #add to edge count\n",
    "                        \n",
    "            else:\n",
    "                \n",
    "                for vertex3 in adj_list_away[vertex1]:\n",
    "                    #if any of the adjacency lists are empty (nan used for placeholder) SKIP this iteration\n",
    "                    if ( (np.isnan(vertex1)) | (np.isnan(vertex2)) | (np.isnan(vertex3)) ):\n",
    "                        break\n",
    "\n",
    "                    if ((vertex3 not in adj_list_away[vertex2]) & (vertex3 not in adj_list_toward[vertex2])\n",
    "                        & (vertex2 in adj_list_toward[vertex1]) & (vertex3 in adj_list_toward[vertex1])\n",
    "                        & (vertex2 != vertex3) & (vertex3 in adj_list_away[vertex1])):\n",
    "\n",
    "                        vertices.append([vertex1, vertex2, vertex3])\n",
    "                        normal_count+=1\n",
    "                        \n",
    "                        combos = list(itertools.combinations([vertex1, vertex2, vertex3], 2))\n",
    "\n",
    "                        for edge in combos:\n",
    "\n",
    "                            if edge not in edge_dict.keys(): #if edge doesn't exist yet\n",
    "                                edge_dict[edge] = 1\n",
    "                            else:                            #if edge does exist\n",
    "                                edge_dict[edge] += 1 #add to edge count\n",
    "    \n",
    "    final_count = (sample_count+normal_count)/2\n",
    "    \n",
    "    return final_count, edge_dict"
   ]
  },
  {
   "cell_type": "code",
   "execution_count": null,
   "metadata": {},
   "outputs": [],
   "source": []
  },
  {
   "cell_type": "markdown",
   "metadata": {},
   "source": [
    "# Get motif counts (city reachability)"
   ]
  },
  {
   "cell_type": "code",
   "execution_count": 134,
   "metadata": {},
   "outputs": [
    {
     "name": "stderr",
     "output_type": "stream",
     "text": [
      "\r",
      "  0%|          | 0/456 [00:00<?, ?it/s]"
     ]
    },
    {
     "name": "stdout",
     "output_type": "stream",
     "text": [
      "count vertices\n"
     ]
    },
    {
     "name": "stderr",
     "output_type": "stream",
     "text": [
      "100%|██████████| 456/456 [02:10<00:00,  3.48it/s]\n",
      "  3%|▎         | 56956/1781759 [00:00<00:06, 286381.57it/s]"
     ]
    },
    {
     "name": "stdout",
     "output_type": "stream",
     "text": [
      "count edges\n"
     ]
    },
    {
     "name": "stderr",
     "output_type": "stream",
     "text": [
      "100%|██████████| 1781759/1781759 [00:06<00:00, 281388.79it/s]"
     ]
    },
    {
     "name": "stdout",
     "output_type": "stream",
     "text": [
      "Vertices: 9837009\n",
      "Triangles: 1781759\n"
     ]
    },
    {
     "name": "stderr",
     "output_type": "stream",
     "text": [
      "\n"
     ]
    }
   ],
   "source": [
    "M1_count, edge_dict_M1 = count_M1(city_adj_list_away, city_adj_list_toward)"
   ]
  },
  {
   "cell_type": "code",
   "execution_count": 135,
   "metadata": {},
   "outputs": [
    {
     "data": {
      "text/plain": [
       "1781759"
      ]
     },
     "execution_count": 135,
     "metadata": {},
     "output_type": "execute_result"
    }
   ],
   "source": [
    "M1_count"
   ]
  },
  {
   "cell_type": "code",
   "execution_count": null,
   "metadata": {},
   "outputs": [],
   "source": []
  },
  {
   "cell_type": "code",
   "execution_count": null,
   "metadata": {},
   "outputs": [],
   "source": [
    "sampling_M1_count, sampling_edge_dict_M1 = sampling_count_M1(city_adj_list_away, city_adj_list_toward, 20)"
   ]
  },
  {
   "cell_type": "code",
   "execution_count": null,
   "metadata": {},
   "outputs": [],
   "source": [
    "sampling_M1_count"
   ]
  },
  {
   "cell_type": "code",
   "execution_count": null,
   "metadata": {},
   "outputs": [],
   "source": []
  },
  {
   "cell_type": "code",
   "execution_count": 136,
   "metadata": {},
   "outputs": [
    {
     "name": "stderr",
     "output_type": "stream",
     "text": [
      "100%|██████████| 456/456 [02:35<00:00,  2.93it/s]\n",
      "  2%|▏         | 31647/1781527 [00:00<00:05, 316322.48it/s]"
     ]
    },
    {
     "name": "stdout",
     "output_type": "stream",
     "text": [
      "count edges\n"
     ]
    },
    {
     "name": "stderr",
     "output_type": "stream",
     "text": [
      "100%|██████████| 1781527/1781527 [00:06<00:00, 294362.37it/s]"
     ]
    },
    {
     "name": "stdout",
     "output_type": "stream",
     "text": [
      "Vertices: 9538031\n",
      "Triangles: 1781527\n"
     ]
    },
    {
     "name": "stderr",
     "output_type": "stream",
     "text": [
      "\n"
     ]
    }
   ],
   "source": [
    "M2_count, edge_dict_M2 = count_M2(city_adj_list_away, city_adj_list_toward)"
   ]
  },
  {
   "cell_type": "code",
   "execution_count": 137,
   "metadata": {},
   "outputs": [
    {
     "data": {
      "text/plain": [
       "1781527"
      ]
     },
     "execution_count": 137,
     "metadata": {},
     "output_type": "execute_result"
    }
   ],
   "source": [
    "M2_count"
   ]
  },
  {
   "cell_type": "code",
   "execution_count": null,
   "metadata": {},
   "outputs": [],
   "source": []
  },
  {
   "cell_type": "code",
   "execution_count": 128,
   "metadata": {},
   "outputs": [],
   "source": [
    "sampling_M2_count, sampling_edge_dict_M2 = sampling_count_M2(city_all_nodes, city_adj_list_away, city_adj_list_toward, 5)"
   ]
  },
  {
   "cell_type": "code",
   "execution_count": 129,
   "metadata": {},
   "outputs": [
    {
     "data": {
      "text/plain": [
       "104"
      ]
     },
     "execution_count": 129,
     "metadata": {},
     "output_type": "execute_result"
    }
   ],
   "source": [
    "sampling_M2_count"
   ]
  },
  {
   "cell_type": "code",
   "execution_count": null,
   "metadata": {},
   "outputs": [],
   "source": []
  },
  {
   "cell_type": "code",
   "execution_count": 138,
   "metadata": {},
   "outputs": [
    {
     "name": "stderr",
     "output_type": "stream",
     "text": [
      "100%|██████████| 456/456 [02:53<00:00,  2.63it/s]\n",
      "  2%|▏         | 31234/1767528 [00:00<00:05, 310114.79it/s]"
     ]
    },
    {
     "name": "stdout",
     "output_type": "stream",
     "text": [
      "count edges\n"
     ]
    },
    {
     "name": "stderr",
     "output_type": "stream",
     "text": [
      "100%|██████████| 1767528/1767528 [00:06<00:00, 287480.61it/s]\n"
     ]
    },
    {
     "name": "stdout",
     "output_type": "stream",
     "text": [
      "Vertices: 9253748\n",
      "Triangles: 1767528\n"
     ]
    }
   ],
   "source": [
    "M3_count, edge_dict_M3 = count_M3(city_adj_list_away, city_adj_list_toward)"
   ]
  },
  {
   "cell_type": "code",
   "execution_count": 139,
   "metadata": {},
   "outputs": [
    {
     "data": {
      "text/plain": [
       "1767528"
      ]
     },
     "execution_count": 139,
     "metadata": {},
     "output_type": "execute_result"
    }
   ],
   "source": [
    "M3_count"
   ]
  },
  {
   "cell_type": "code",
   "execution_count": null,
   "metadata": {},
   "outputs": [],
   "source": []
  },
  {
   "cell_type": "code",
   "execution_count": 130,
   "metadata": {},
   "outputs": [],
   "source": [
    "sampling_M3_count, sampling_edge_dict_M3 = sampling_count_M3(city_all_nodes, city_adj_list_away, city_adj_list_toward, 5)"
   ]
  },
  {
   "cell_type": "code",
   "execution_count": 131,
   "metadata": {},
   "outputs": [
    {
     "data": {
      "text/plain": [
       "1931"
      ]
     },
     "execution_count": 131,
     "metadata": {},
     "output_type": "execute_result"
    }
   ],
   "source": [
    "sampling_M3_count"
   ]
  },
  {
   "cell_type": "code",
   "execution_count": null,
   "metadata": {},
   "outputs": [],
   "source": []
  },
  {
   "cell_type": "code",
   "execution_count": 140,
   "metadata": {},
   "outputs": [
    {
     "name": "stderr",
     "output_type": "stream",
     "text": [
      "100%|██████████| 456/456 [03:28<00:00,  2.18it/s]\n",
      "  2%|▏         | 33694/1497244 [00:00<00:04, 335455.11it/s]"
     ]
    },
    {
     "name": "stdout",
     "output_type": "stream",
     "text": [
      "count edges\n"
     ]
    },
    {
     "name": "stderr",
     "output_type": "stream",
     "text": [
      "100%|██████████| 1497244/1497244 [00:04<00:00, 303443.52it/s]"
     ]
    },
    {
     "name": "stdout",
     "output_type": "stream",
     "text": [
      "Vertices: 8983464\n",
      "Triangles: 1497244\n"
     ]
    },
    {
     "name": "stderr",
     "output_type": "stream",
     "text": [
      "\n"
     ]
    }
   ],
   "source": [
    "M4_count, edge_dict_M4 = count_M4(city_adj_list_away, city_adj_list_toward)"
   ]
  },
  {
   "cell_type": "code",
   "execution_count": 141,
   "metadata": {},
   "outputs": [
    {
     "data": {
      "text/plain": [
       "1497244"
      ]
     },
     "execution_count": 141,
     "metadata": {},
     "output_type": "execute_result"
    }
   ],
   "source": [
    "M4_count"
   ]
  },
  {
   "cell_type": "code",
   "execution_count": null,
   "metadata": {},
   "outputs": [],
   "source": []
  },
  {
   "cell_type": "code",
   "execution_count": 132,
   "metadata": {},
   "outputs": [],
   "source": [
    "sampling_M4_count, sampling_edge_dict_M4 = sampling_count_M4(city_all_nodes, city_adj_list_away, city_adj_list_toward, 5)"
   ]
  },
  {
   "cell_type": "code",
   "execution_count": 133,
   "metadata": {},
   "outputs": [
    {
     "data": {
      "text/plain": [
       "65497"
      ]
     },
     "execution_count": 133,
     "metadata": {},
     "output_type": "execute_result"
    }
   ],
   "source": [
    "sampling_M4_count"
   ]
  },
  {
   "cell_type": "code",
   "execution_count": null,
   "metadata": {},
   "outputs": [],
   "source": []
  },
  {
   "cell_type": "code",
   "execution_count": 142,
   "metadata": {},
   "outputs": [
    {
     "name": "stderr",
     "output_type": "stream",
     "text": [
      "100%|██████████| 456/456 [01:32<00:00,  4.95it/s]\n",
      "  3%|▎         | 61326/1814213 [00:00<00:05, 307123.69it/s]"
     ]
    },
    {
     "name": "stdout",
     "output_type": "stream",
     "text": [
      "count edges\n"
     ]
    },
    {
     "name": "stderr",
     "output_type": "stream",
     "text": [
      "100%|██████████| 1814213/1814213 [00:06<00:00, 268571.30it/s]"
     ]
    },
    {
     "name": "stdout",
     "output_type": "stream",
     "text": [
      "Vertices: 9872505\n",
      "Triangles: 1814213\n"
     ]
    },
    {
     "name": "stderr",
     "output_type": "stream",
     "text": [
      "\n"
     ]
    }
   ],
   "source": [
    "M5_count, edge_dict_M5 = count_M5(city_adj_list_away, city_adj_list_toward)"
   ]
  },
  {
   "cell_type": "code",
   "execution_count": 143,
   "metadata": {},
   "outputs": [
    {
     "data": {
      "text/plain": [
       "1814213"
      ]
     },
     "execution_count": 143,
     "metadata": {},
     "output_type": "execute_result"
    }
   ],
   "source": [
    "M5_count"
   ]
  },
  {
   "cell_type": "code",
   "execution_count": null,
   "metadata": {},
   "outputs": [],
   "source": []
  },
  {
   "cell_type": "code",
   "execution_count": 278,
   "metadata": {},
   "outputs": [],
   "source": [
    "sampling_M5_count, sampling_edge_dict_M5 = sampling_count_M5(city_all_nodes, city_adj_list_away, city_adj_list_toward, 5)"
   ]
  },
  {
   "cell_type": "code",
   "execution_count": 279,
   "metadata": {},
   "outputs": [
    {
     "data": {
      "text/plain": [
       "3"
      ]
     },
     "execution_count": 279,
     "metadata": {},
     "output_type": "execute_result"
    }
   ],
   "source": [
    "sampling_M5_count"
   ]
  },
  {
   "cell_type": "code",
   "execution_count": null,
   "metadata": {},
   "outputs": [],
   "source": []
  },
  {
   "cell_type": "code",
   "execution_count": 144,
   "metadata": {},
   "outputs": [
    {
     "name": "stderr",
     "output_type": "stream",
     "text": [
      "100%|██████████| 456/456 [01:56<00:00,  3.91it/s]\n",
      "  2%|▏         | 33858/1782639 [00:00<00:05, 336796.89it/s]"
     ]
    },
    {
     "name": "stdout",
     "output_type": "stream",
     "text": [
      "count edges\n"
     ]
    },
    {
     "name": "stderr",
     "output_type": "stream",
     "text": [
      "100%|██████████| 1782639/1782639 [00:05<00:00, 300116.16it/s]"
     ]
    },
    {
     "name": "stdout",
     "output_type": "stream",
     "text": [
      "Vertices: 9554254\n",
      "Triangles: 1782639\n"
     ]
    },
    {
     "name": "stderr",
     "output_type": "stream",
     "text": [
      "\n"
     ]
    }
   ],
   "source": [
    "M6_count, edge_dict_M6 = count_M6(city_adj_list_away, city_adj_list_toward)"
   ]
  },
  {
   "cell_type": "code",
   "execution_count": 145,
   "metadata": {},
   "outputs": [
    {
     "data": {
      "text/plain": [
       "1782639"
      ]
     },
     "execution_count": 145,
     "metadata": {},
     "output_type": "execute_result"
    }
   ],
   "source": [
    "M6_count"
   ]
  },
  {
   "cell_type": "code",
   "execution_count": null,
   "metadata": {},
   "outputs": [],
   "source": []
  },
  {
   "cell_type": "code",
   "execution_count": 136,
   "metadata": {},
   "outputs": [],
   "source": [
    "sampling_M6_count, sampling_edge_dict_M6 = sampling_count_M6(city_all_nodes, city_adj_list_away, city_adj_list_toward, 5)"
   ]
  },
  {
   "cell_type": "code",
   "execution_count": 137,
   "metadata": {},
   "outputs": [
    {
     "data": {
      "text/plain": [
       "149"
      ]
     },
     "execution_count": 137,
     "metadata": {},
     "output_type": "execute_result"
    }
   ],
   "source": [
    "sampling_M6_count"
   ]
  },
  {
   "cell_type": "code",
   "execution_count": null,
   "metadata": {},
   "outputs": [],
   "source": []
  },
  {
   "cell_type": "code",
   "execution_count": 146,
   "metadata": {},
   "outputs": [
    {
     "name": "stderr",
     "output_type": "stream",
     "text": [
      "100%|██████████| 456/456 [01:56<00:00,  3.92it/s]\n",
      "  3%|▎         | 57856/1783921 [00:00<00:05, 293636.32it/s]"
     ]
    },
    {
     "name": "stdout",
     "output_type": "stream",
     "text": [
      "count edges\n"
     ]
    },
    {
     "name": "stderr",
     "output_type": "stream",
     "text": [
      "100%|██████████| 1783921/1783921 [00:05<00:00, 299349.44it/s]"
     ]
    },
    {
     "name": "stdout",
     "output_type": "stream",
     "text": [
      "Vertices: 9556818\n",
      "Triangles: 1783921\n"
     ]
    },
    {
     "name": "stderr",
     "output_type": "stream",
     "text": [
      "\n"
     ]
    }
   ],
   "source": [
    "M7_count, edge_dict_M7 = count_M7(city_adj_list_away, city_adj_list_toward)"
   ]
  },
  {
   "cell_type": "code",
   "execution_count": 147,
   "metadata": {},
   "outputs": [
    {
     "data": {
      "text/plain": [
       "1783921"
      ]
     },
     "execution_count": 147,
     "metadata": {},
     "output_type": "execute_result"
    }
   ],
   "source": [
    "M7_count"
   ]
  },
  {
   "cell_type": "code",
   "execution_count": null,
   "metadata": {},
   "outputs": [],
   "source": []
  },
  {
   "cell_type": "code",
   "execution_count": 138,
   "metadata": {},
   "outputs": [],
   "source": [
    "sampling_M7_count, sampling_edge_dict_M7 = sampling_count_M7(city_all_nodes, city_adj_list_away, city_adj_list_toward, 5)"
   ]
  },
  {
   "cell_type": "code",
   "execution_count": 139,
   "metadata": {},
   "outputs": [
    {
     "data": {
      "text/plain": [
       "189"
      ]
     },
     "execution_count": 139,
     "metadata": {},
     "output_type": "execute_result"
    }
   ],
   "source": [
    "sampling_M7_count"
   ]
  },
  {
   "cell_type": "code",
   "execution_count": null,
   "metadata": {},
   "outputs": [],
   "source": []
  },
  {
   "cell_type": "code",
   "execution_count": 148,
   "metadata": {},
   "outputs": [
    {
     "name": "stderr",
     "output_type": "stream",
     "text": [
      "100%|██████████| 456/456 [02:41<00:00,  2.83it/s]\n",
      "100%|██████████| 16013/16013 [00:00<00:00, 395155.47it/s]"
     ]
    },
    {
     "name": "stdout",
     "output_type": "stream",
     "text": [
      "count edges\n",
      "Vertices: 32026\n",
      "Triangles: 16013\n"
     ]
    },
    {
     "name": "stderr",
     "output_type": "stream",
     "text": [
      "\n"
     ]
    }
   ],
   "source": [
    "M8_count, edge_dict_M8 = count_M8(city_adj_list_away, city_adj_list_toward)"
   ]
  },
  {
   "cell_type": "code",
   "execution_count": 149,
   "metadata": {},
   "outputs": [
    {
     "data": {
      "text/plain": [
       "16013"
      ]
     },
     "execution_count": 149,
     "metadata": {},
     "output_type": "execute_result"
    }
   ],
   "source": [
    "M8_count"
   ]
  },
  {
   "cell_type": "code",
   "execution_count": null,
   "metadata": {},
   "outputs": [],
   "source": []
  },
  {
   "cell_type": "code",
   "execution_count": 140,
   "metadata": {},
   "outputs": [],
   "source": [
    "sampling_M8_count, sampling_edge_dict_M8 = sampling_count_M8(city_all_nodes, city_adj_list_away, city_adj_list_toward, 5)"
   ]
  },
  {
   "cell_type": "code",
   "execution_count": 141,
   "metadata": {},
   "outputs": [
    {
     "data": {
      "text/plain": [
       "457"
      ]
     },
     "execution_count": 141,
     "metadata": {},
     "output_type": "execute_result"
    }
   ],
   "source": [
    "sampling_M8_count"
   ]
  },
  {
   "cell_type": "code",
   "execution_count": null,
   "metadata": {},
   "outputs": [],
   "source": []
  },
  {
   "cell_type": "code",
   "execution_count": 150,
   "metadata": {},
   "outputs": [
    {
     "name": "stderr",
     "output_type": "stream",
     "text": [
      "100%|██████████| 456/456 [03:04<00:00,  2.47it/s]\n",
      "100%|██████████| 25124/25124 [00:00<00:00, 395518.86it/s]"
     ]
    },
    {
     "name": "stdout",
     "output_type": "stream",
     "text": [
      "count edges\n",
      "Vertices: 25124\n",
      "Triangles: 25124\n"
     ]
    },
    {
     "name": "stderr",
     "output_type": "stream",
     "text": [
      "\n"
     ]
    }
   ],
   "source": [
    "M9_count, edge_dict_M9 = count_M9(city_adj_list_away, city_adj_list_toward)"
   ]
  },
  {
   "cell_type": "code",
   "execution_count": 151,
   "metadata": {},
   "outputs": [
    {
     "data": {
      "text/plain": [
       "25124"
      ]
     },
     "execution_count": 151,
     "metadata": {},
     "output_type": "execute_result"
    }
   ],
   "source": [
    "M9_count"
   ]
  },
  {
   "cell_type": "code",
   "execution_count": null,
   "metadata": {},
   "outputs": [],
   "source": []
  },
  {
   "cell_type": "code",
   "execution_count": 142,
   "metadata": {},
   "outputs": [],
   "source": [
    "sampling_M9_count, sampling_edge_dict_M9 = sampling_count_M9(city_all_nodes, city_adj_list_away, city_adj_list_toward, 5)"
   ]
  },
  {
   "cell_type": "code",
   "execution_count": 143,
   "metadata": {},
   "outputs": [
    {
     "data": {
      "text/plain": [
       "199"
      ]
     },
     "execution_count": 143,
     "metadata": {},
     "output_type": "execute_result"
    }
   ],
   "source": [
    "sampling_M9_count"
   ]
  },
  {
   "cell_type": "code",
   "execution_count": null,
   "metadata": {},
   "outputs": [],
   "source": []
  },
  {
   "cell_type": "code",
   "execution_count": 152,
   "metadata": {},
   "outputs": [
    {
     "name": "stderr",
     "output_type": "stream",
     "text": [
      "\r",
      "  0%|          | 0/456 [00:00<?, ?it/s]"
     ]
    },
    {
     "name": "stdout",
     "output_type": "stream",
     "text": [
      "start motif counting\n"
     ]
    },
    {
     "name": "stderr",
     "output_type": "stream",
     "text": [
      "100%|██████████| 456/456 [03:03<00:00,  2.49it/s]\n",
      "100%|██████████| 15280/15280 [00:00<00:00, 391820.88it/s]"
     ]
    },
    {
     "name": "stdout",
     "output_type": "stream",
     "text": [
      "Number of triangles before the set operations: 30560\n",
      "count edges\n",
      "Vertices: 30560\n",
      "Triangles: 15280\n"
     ]
    },
    {
     "name": "stderr",
     "output_type": "stream",
     "text": [
      "\n"
     ]
    }
   ],
   "source": [
    "M10_count, edge_dict_M10 = count_M10(city_adj_list_away, city_adj_list_toward)"
   ]
  },
  {
   "cell_type": "code",
   "execution_count": 153,
   "metadata": {},
   "outputs": [
    {
     "data": {
      "text/plain": [
       "15280"
      ]
     },
     "execution_count": 153,
     "metadata": {},
     "output_type": "execute_result"
    }
   ],
   "source": [
    "M10_count"
   ]
  },
  {
   "cell_type": "code",
   "execution_count": null,
   "metadata": {},
   "outputs": [],
   "source": []
  },
  {
   "cell_type": "code",
   "execution_count": 75,
   "metadata": {},
   "outputs": [
    {
     "name": "stderr",
     "output_type": "stream",
     "text": [
      "  0%|          | 2/456 [00:00<00:39, 11.62it/s]"
     ]
    },
    {
     "name": "stdout",
     "output_type": "stream",
     "text": [
      "start motif counting\n"
     ]
    },
    {
     "name": "stderr",
     "output_type": "stream",
     "text": [
      "100%|██████████| 456/456 [01:37<00:00,  4.66it/s]\n",
      "100%|██████████| 2511/2511 [00:00<00:00, 278673.23it/s]"
     ]
    },
    {
     "name": "stdout",
     "output_type": "stream",
     "text": [
      "Number of triangles before the set operations: 2804\n",
      "Sample counts: 28210.550000000116\n",
      "Normal counts: 0\n",
      "count edges\n"
     ]
    },
    {
     "name": "stderr",
     "output_type": "stream",
     "text": [
      "\n"
     ]
    }
   ],
   "source": [
    "sampling_M10_count, sampling_edge_dict_M10 = sampling_count_M10(city_adj_list_away, city_adj_list_toward, 20)"
   ]
  },
  {
   "cell_type": "code",
   "execution_count": 76,
   "metadata": {},
   "outputs": [
    {
     "data": {
      "text/plain": [
       "2511"
      ]
     },
     "execution_count": 76,
     "metadata": {},
     "output_type": "execute_result"
    }
   ],
   "source": [
    "sampling_M10_count"
   ]
  },
  {
   "cell_type": "code",
   "execution_count": null,
   "metadata": {},
   "outputs": [],
   "source": []
  },
  {
   "cell_type": "code",
   "execution_count": 154,
   "metadata": {},
   "outputs": [
    {
     "name": "stderr",
     "output_type": "stream",
     "text": [
      "100%|██████████| 456/456 [02:39<00:00,  2.86it/s]\n",
      " 10%|█         | 35739/349821 [00:00<00:00, 355793.88it/s]"
     ]
    },
    {
     "name": "stdout",
     "output_type": "stream",
     "text": [
      "count edges\n"
     ]
    },
    {
     "name": "stderr",
     "output_type": "stream",
     "text": [
      "100%|██████████| 349821/349821 [00:01<00:00, 314166.98it/s]\n"
     ]
    },
    {
     "name": "stdout",
     "output_type": "stream",
     "text": [
      "Vertices: 349821\n",
      "Triangles: 349821\n"
     ]
    }
   ],
   "source": [
    "M11_count, edge_dict_M11 = count_M11(city_adj_list_away, city_adj_list_toward)"
   ]
  },
  {
   "cell_type": "code",
   "execution_count": 155,
   "metadata": {},
   "outputs": [
    {
     "data": {
      "text/plain": [
       "349821"
      ]
     },
     "execution_count": 155,
     "metadata": {},
     "output_type": "execute_result"
    }
   ],
   "source": [
    "M11_count"
   ]
  },
  {
   "cell_type": "code",
   "execution_count": null,
   "metadata": {},
   "outputs": [],
   "source": []
  },
  {
   "cell_type": "code",
   "execution_count": 146,
   "metadata": {},
   "outputs": [],
   "source": [
    "sampling_M11_count, sampling_edge_dict_M11 = sampling_count_M11(city_all_nodes, city_adj_list_away, city_adj_list_toward, 5)"
   ]
  },
  {
   "cell_type": "code",
   "execution_count": 147,
   "metadata": {},
   "outputs": [
    {
     "data": {
      "text/plain": [
       "5142"
      ]
     },
     "execution_count": 147,
     "metadata": {},
     "output_type": "execute_result"
    }
   ],
   "source": [
    "sampling_M11_count"
   ]
  },
  {
   "cell_type": "code",
   "execution_count": null,
   "metadata": {},
   "outputs": [],
   "source": []
  },
  {
   "cell_type": "code",
   "execution_count": 156,
   "metadata": {},
   "outputs": [
    {
     "name": "stderr",
     "output_type": "stream",
     "text": [
      "100%|██████████| 456/456 [03:04<00:00,  2.47it/s]\n",
      " 10%|█         | 34244/338073 [00:00<00:00, 340652.72it/s]"
     ]
    },
    {
     "name": "stdout",
     "output_type": "stream",
     "text": [
      "count edges\n"
     ]
    },
    {
     "name": "stderr",
     "output_type": "stream",
     "text": [
      "100%|██████████| 338073/338073 [00:01<00:00, 314654.75it/s]\n"
     ]
    },
    {
     "name": "stdout",
     "output_type": "stream",
     "text": [
      "Vertices: 338073\n",
      "Triangles: 338073\n"
     ]
    }
   ],
   "source": [
    "M12_count, edge_dict_M12 = count_M12(city_adj_list_away, city_adj_list_toward)"
   ]
  },
  {
   "cell_type": "code",
   "execution_count": 157,
   "metadata": {},
   "outputs": [
    {
     "data": {
      "text/plain": [
       "338073"
      ]
     },
     "execution_count": 157,
     "metadata": {},
     "output_type": "execute_result"
    }
   ],
   "source": [
    "M12_count"
   ]
  },
  {
   "cell_type": "code",
   "execution_count": null,
   "metadata": {},
   "outputs": [],
   "source": []
  },
  {
   "cell_type": "code",
   "execution_count": 148,
   "metadata": {},
   "outputs": [],
   "source": [
    "sampling_M12_count, sampling_edge_dict_M12 = sampling_count_M12(city_all_nodes, city_adj_list_away, city_adj_list_toward, 5)"
   ]
  },
  {
   "cell_type": "code",
   "execution_count": 149,
   "metadata": {},
   "outputs": [
    {
     "data": {
      "text/plain": [
       "3086"
      ]
     },
     "execution_count": 149,
     "metadata": {},
     "output_type": "execute_result"
    }
   ],
   "source": [
    "sampling_M12_count"
   ]
  },
  {
   "cell_type": "code",
   "execution_count": null,
   "metadata": {},
   "outputs": [],
   "source": []
  },
  {
   "cell_type": "code",
   "execution_count": 158,
   "metadata": {},
   "outputs": [
    {
     "name": "stderr",
     "output_type": "stream",
     "text": [
      "100%|██████████| 456/456 [02:45<00:00,  2.76it/s]\n",
      "  1%|          | 35309/2840251 [00:00<00:07, 351262.13it/s]"
     ]
    },
    {
     "name": "stdout",
     "output_type": "stream",
     "text": [
      "count edges\n"
     ]
    },
    {
     "name": "stderr",
     "output_type": "stream",
     "text": [
      "100%|██████████| 2840251/2840251 [00:09<00:00, 315407.67it/s]\n"
     ]
    },
    {
     "name": "stdout",
     "output_type": "stream",
     "text": [
      "Vertices: 5680502\n",
      "Triangles: 2840251\n"
     ]
    }
   ],
   "source": [
    "M13_count, edge_dict_M13 = count_M13(city_adj_list_away, city_adj_list_toward)"
   ]
  },
  {
   "cell_type": "code",
   "execution_count": 159,
   "metadata": {},
   "outputs": [
    {
     "data": {
      "text/plain": [
       "2840251"
      ]
     },
     "execution_count": 159,
     "metadata": {},
     "output_type": "execute_result"
    }
   ],
   "source": [
    "M13_count"
   ]
  },
  {
   "cell_type": "code",
   "execution_count": null,
   "metadata": {},
   "outputs": [],
   "source": []
  },
  {
   "cell_type": "code",
   "execution_count": 150,
   "metadata": {},
   "outputs": [],
   "source": [
    "sampling_M13_count, sampling_edge_dict_M13 = sampling_count_M13(city_all_nodes, city_adj_list_away, city_adj_list_toward, 5)"
   ]
  },
  {
   "cell_type": "code",
   "execution_count": 151,
   "metadata": {},
   "outputs": [
    {
     "data": {
      "text/plain": [
       "73478"
      ]
     },
     "execution_count": 151,
     "metadata": {},
     "output_type": "execute_result"
    }
   ],
   "source": [
    "sampling_M13_count"
   ]
  },
  {
   "cell_type": "code",
   "execution_count": null,
   "metadata": {},
   "outputs": [],
   "source": []
  },
  {
   "cell_type": "markdown",
   "metadata": {},
   "source": [
    "# Create the motif adjacency matrix"
   ]
  },
  {
   "cell_type": "code",
   "execution_count": 132,
   "metadata": {},
   "outputs": [],
   "source": [
    "#use this to actually do the single cluster\n",
    "def create_motif_adjacency_matrix(edge_dict):\n",
    "    \n",
    "    #get all unique nodes\n",
    "    first_half = [x[0] for x in edge_dict.keys()]\n",
    "    second_half = [x[1] for x in edge_dict.keys()]\n",
    "    combined = np.concatenate((first_half, second_half))\n",
    "    \n",
    "    unique_nodes = np.unique(combined)\n",
    "    #unique_nodes = np.unique(data['FromNodeId'].tolist() + data['ToNodeId'].tolist())\n",
    "    #max_node = unique_nodes.max()\n",
    "    encoded_unique_nodes = [x for x in range(unique_nodes.shape[0])]\n",
    "    print(\"encoding done\")\n",
    "    print(len(encoded_unique_nodes))\n",
    "    #define an empty dataframe to use as the motif adjacency matrix\n",
    "    #motif_adjacency_matrix = pd.DataFrame(index = unique_nodes, columns = unique_nodes)\n",
    "    \n",
    "    motif_adjacency_matrix = np.zeros((len(encoded_unique_nodes), len(encoded_unique_nodes)))\n",
    "    \n",
    "    #populate motif adjacency matrix\n",
    "    for key, value in tqdm(edge_dict.items()):\n",
    "        \n",
    "        encoded_from = np.where(unique_nodes == key[0])[0][0]\n",
    "        encoded_to = np.where(unique_nodes == key[1])[0][0]\n",
    "        \n",
    "        motif_adjacency_matrix[encoded_from][encoded_to] = value\n",
    "        motif_adjacency_matrix[encoded_to][encoded_from] = value\n",
    "\n",
    "    return motif_adjacency_matrix    \n",
    "        \n",
    "    motif_adjacency_matrix = motif_adjacency_matrix.fillna(0)\n",
    "    \n",
    "\n",
    "    return motif_adjacency_matrix.values"
   ]
  },
  {
   "cell_type": "code",
   "execution_count": 163,
   "metadata": {},
   "outputs": [],
   "source": [
    "#use this for doing accuracy comparisons\n",
    "def OTHER_create_motif_adjacency_matrix(data, edge_dict):\n",
    "    \n",
    "    #get all unique nodes\n",
    "#     first_half = [x[0] for x in edge_dict.keys()]\n",
    "#     second_half = [x[1] for x in edge_dict.keys()]\n",
    "#     combined = np.concatenate((first_half, second_half))\n",
    "    \n",
    "#     unique_nodes = np.unique(combined)\n",
    "    unique_nodes = np.unique(data['FromNodeId'].tolist() + data['ToNodeId'].tolist())\n",
    "    #max_node = unique_nodes.max()\n",
    "    encoded_unique_nodes = [x for x in range(unique_nodes.shape[0])]\n",
    "    print(\"encoding done\")\n",
    "    print(len(encoded_unique_nodes))\n",
    "    #define an empty dataframe to use as the motif adjacency matrix\n",
    "    #motif_adjacency_matrix = pd.DataFrame(index = unique_nodes, columns = unique_nodes)\n",
    "    \n",
    "    motif_adjacency_matrix = np.zeros((len(encoded_unique_nodes), len(encoded_unique_nodes)))\n",
    "    \n",
    "    #populate motif adjacency matrix\n",
    "    for key, value in tqdm(edge_dict.items()):\n",
    "        \n",
    "        encoded_from = np.where(unique_nodes == key[0])[0][0]\n",
    "        encoded_to = np.where(unique_nodes == key[1])[0][0]\n",
    "        \n",
    "        motif_adjacency_matrix[encoded_from][encoded_to] = value\n",
    "        motif_adjacency_matrix[encoded_to][encoded_from] = value\n",
    "\n",
    "    return motif_adjacency_matrix    \n",
    "        \n",
    "    motif_adjacency_matrix = motif_adjacency_matrix.fillna(0)\n",
    "    \n",
    "    return motif_adjacency_matrix.values"
   ]
  },
  {
   "cell_type": "code",
   "execution_count": null,
   "metadata": {},
   "outputs": [],
   "source": []
  },
  {
   "cell_type": "code",
   "execution_count": null,
   "metadata": {},
   "outputs": [],
   "source": []
  },
  {
   "cell_type": "code",
   "execution_count": null,
   "metadata": {},
   "outputs": [],
   "source": []
  },
  {
   "cell_type": "code",
   "execution_count": 90,
   "metadata": {},
   "outputs": [
    {
     "name": "stderr",
     "output_type": "stream",
     "text": [
      "100%|██████████| 456/456 [01:40<00:00,  4.52it/s]\n"
     ]
    }
   ],
   "source": [
    "city_sampling_M10_count, city_sampling_edge_dict_M10 = sampling_count_M10(city_adj_list_away, city_adj_list_toward, 20)"
   ]
  },
  {
   "cell_type": "code",
   "execution_count": 91,
   "metadata": {},
   "outputs": [
    {
     "name": "stderr",
     "output_type": "stream",
     "text": [
      "  0%|          | 2/456 [00:00<00:38, 11.70it/s]"
     ]
    },
    {
     "name": "stdout",
     "output_type": "stream",
     "text": [
      "start motif counting\n"
     ]
    },
    {
     "name": "stderr",
     "output_type": "stream",
     "text": [
      "100%|██████████| 456/456 [03:15<00:00,  2.33it/s]\n",
      "100%|██████████| 15280/15280 [00:00<00:00, 404206.52it/s]"
     ]
    },
    {
     "name": "stdout",
     "output_type": "stream",
     "text": [
      "Number of triangles before the set operations: 30560\n",
      "count edges\n",
      "Vertices: 30560\n",
      "Triangles: 15280\n"
     ]
    },
    {
     "name": "stderr",
     "output_type": "stream",
     "text": [
      "\n"
     ]
    }
   ],
   "source": [
    "city_M10_count, city_edge_dict_M10 = count_M10(city_adj_list_away, city_adj_list_toward)"
   ]
  },
  {
   "cell_type": "code",
   "execution_count": null,
   "metadata": {},
   "outputs": [],
   "source": []
  },
  {
   "cell_type": "code",
   "execution_count": 34,
   "metadata": {
    "scrolled": true
   },
   "outputs": [
    {
     "name": "stderr",
     "output_type": "stream",
     "text": [
      "100%|██████████| 8295/8295 [01:29<00:00, 92.51it/s] \n"
     ]
    }
   ],
   "source": [
    "sampling_M10_count, sampling_edge_dict_M10 = sampling_count_M10(wiki_adj_list_away, wiki_adj_list_toward, 20)"
   ]
  },
  {
   "cell_type": "code",
   "execution_count": 186,
   "metadata": {},
   "outputs": [
    {
     "name": "stderr",
     "output_type": "stream",
     "text": [
      "\r",
      "  0%|          | 0/8295 [00:00<?, ?it/s]"
     ]
    },
    {
     "name": "stdout",
     "output_type": "stream",
     "text": [
      "start motif counting\n"
     ]
    },
    {
     "name": "stderr",
     "output_type": "stream",
     "text": [
      "100%|██████████| 8295/8295 [01:14<00:00, 111.64it/s]\n"
     ]
    },
    {
     "name": "stdout",
     "output_type": "stream",
     "text": [
      "Number of triangles before the set operations: 6465328\n"
     ]
    },
    {
     "name": "stderr",
     "output_type": "stream",
     "text": [
      "  2%|▏         | 62697/3232664 [00:00<00:09, 321142.21it/s]"
     ]
    },
    {
     "name": "stdout",
     "output_type": "stream",
     "text": [
      "count edges\n"
     ]
    },
    {
     "name": "stderr",
     "output_type": "stream",
     "text": [
      "100%|██████████| 3232664/3232664 [00:12<00:00, 265540.05it/s]"
     ]
    },
    {
     "name": "stdout",
     "output_type": "stream",
     "text": [
      "Vertices: 6465328\n",
      "Triangles: 3232664\n"
     ]
    },
    {
     "name": "stderr",
     "output_type": "stream",
     "text": [
      "\n"
     ]
    }
   ],
   "source": [
    "M10_count, edge_dict_M10 = count_M10(wiki_adj_list_away, wiki_adj_list_toward)"
   ]
  },
  {
   "cell_type": "code",
   "execution_count": 113,
   "metadata": {},
   "outputs": [
    {
     "ename": "AttributeError",
     "evalue": "'dict' object has no attribute 'flatten'",
     "output_type": "error",
     "traceback": [
      "\u001b[1;31m---------------------------------------------------------------------------\u001b[0m",
      "\u001b[1;31mAttributeError\u001b[0m                            Traceback (most recent call last)",
      "\u001b[1;32m<ipython-input-113-77b41315de52>\u001b[0m in \u001b[0;36m<module>\u001b[1;34m\u001b[0m\n\u001b[1;32m----> 1\u001b[1;33m \u001b[0medge_dict_M10\u001b[0m\u001b[1;33m.\u001b[0m\u001b[0mflatten\u001b[0m\u001b[1;33m(\u001b[0m\u001b[1;33m)\u001b[0m\u001b[1;33m\u001b[0m\u001b[1;33m\u001b[0m\u001b[0m\n\u001b[0m",
      "\u001b[1;31mAttributeError\u001b[0m: 'dict' object has no attribute 'flatten'"
     ]
    }
   ],
   "source": [
    "edge_dict_M10"
   ]
  },
  {
   "cell_type": "code",
   "execution_count": null,
   "metadata": {},
   "outputs": [],
   "source": []
  },
  {
   "cell_type": "code",
   "execution_count": 177,
   "metadata": {},
   "outputs": [
    {
     "name": "stderr",
     "output_type": "stream",
     "text": [
      "  0%|          | 2563/862856 [00:00<00:33, 25492.30it/s]"
     ]
    },
    {
     "name": "stdout",
     "output_type": "stream",
     "text": [
      "encoding done\n",
      "7016\n"
     ]
    },
    {
     "name": "stderr",
     "output_type": "stream",
     "text": [
      "100%|██████████| 862856/862856 [00:22<00:00, 38648.67it/s]\n"
     ]
    }
   ],
   "source": [
    "sampling_M10_matrix = create_motif_adjacency_matrix(sampling_edge_dict_M10)"
   ]
  },
  {
   "cell_type": "code",
   "execution_count": 190,
   "metadata": {},
   "outputs": [
    {
     "name": "stderr",
     "output_type": "stream",
     "text": [
      "  0%|          | 2525/1368659 [00:00<00:54, 25140.51it/s]"
     ]
    },
    {
     "name": "stdout",
     "output_type": "stream",
     "text": [
      "encoding done\n",
      "7016\n"
     ]
    },
    {
     "name": "stderr",
     "output_type": "stream",
     "text": [
      "100%|██████████| 1368659/1368659 [00:33<00:00, 41258.47it/s]\n"
     ]
    }
   ],
   "source": [
    "M10_matrix = create_motif_adjacency_matrix(edge_dict_M10)"
   ]
  },
  {
   "cell_type": "code",
   "execution_count": null,
   "metadata": {},
   "outputs": [],
   "source": []
  },
  {
   "cell_type": "code",
   "execution_count": 181,
   "metadata": {},
   "outputs": [
    {
     "data": {
      "text/plain": [
       "(439, 439)"
      ]
     },
     "execution_count": 181,
     "metadata": {},
     "output_type": "execute_result"
    }
   ],
   "source": [
    "M10_matrix.shape"
   ]
  },
  {
   "cell_type": "code",
   "execution_count": 182,
   "metadata": {},
   "outputs": [
    {
     "data": {
      "text/plain": [
       "(7016, 7016)"
      ]
     },
     "execution_count": 182,
     "metadata": {},
     "output_type": "execute_result"
    }
   ],
   "source": [
    "sampling_M10_matrix.shape"
   ]
  },
  {
   "cell_type": "code",
   "execution_count": 74,
   "metadata": {},
   "outputs": [
    {
     "data": {
      "text/plain": [
       "19395984.0"
      ]
     },
     "execution_count": 74,
     "metadata": {},
     "output_type": "execute_result"
    }
   ],
   "source": [
    "np.sum(M10_matrix)"
   ]
  },
  {
   "cell_type": "code",
   "execution_count": 76,
   "metadata": {},
   "outputs": [
    {
     "data": {
      "text/plain": [
       "34504890.79999991"
      ]
     },
     "execution_count": 76,
     "metadata": {},
     "output_type": "execute_result"
    }
   ],
   "source": [
    "np.sum(abs(sampling_M10_matrix))"
   ]
  },
  {
   "cell_type": "code",
   "execution_count": 127,
   "metadata": {},
   "outputs": [
    {
     "data": {
      "text/plain": [
       "(array([], dtype=int64),)"
      ]
     },
     "execution_count": 127,
     "metadata": {},
     "output_type": "execute_result"
    }
   ],
   "source": [
    "np.where(np.sum(M10_matrix, axis=1) == 0)"
   ]
  },
  {
   "cell_type": "code",
   "execution_count": null,
   "metadata": {},
   "outputs": [],
   "source": []
  },
  {
   "cell_type": "code",
   "execution_count": null,
   "metadata": {},
   "outputs": [],
   "source": []
  },
  {
   "cell_type": "code",
   "execution_count": null,
   "metadata": {},
   "outputs": [],
   "source": []
  },
  {
   "cell_type": "code",
   "execution_count": 57,
   "metadata": {},
   "outputs": [],
   "source": [
    "M10_matrix_diff = abs(M10_matrix - sampling_M10_matrix)"
   ]
  },
  {
   "cell_type": "code",
   "execution_count": 58,
   "metadata": {},
   "outputs": [
    {
     "data": {
      "text/plain": [
       "20330551.800000012"
      ]
     },
     "execution_count": 58,
     "metadata": {},
     "output_type": "execute_result"
    }
   ],
   "source": [
    "np.sum(M10_matrix_diff)"
   ]
  },
  {
   "cell_type": "code",
   "execution_count": 60,
   "metadata": {},
   "outputs": [
    {
     "data": {
      "text/plain": [
       "0.9540313608212045"
      ]
     },
     "execution_count": 60,
     "metadata": {},
     "output_type": "execute_result"
    }
   ],
   "source": [
    "np.sum(M10_matrix) / np.sum(M10_matrix_diff)"
   ]
  },
  {
   "cell_type": "code",
   "execution_count": 62,
   "metadata": {},
   "outputs": [
    {
     "data": {
      "text/plain": [
       "array([ 1766.,  2588.,  1162., ..., 11676.,   138.,  1384.])"
      ]
     },
     "execution_count": 62,
     "metadata": {},
     "output_type": "execute_result"
    }
   ],
   "source": [
    "np.sum(M10_matrix, axis = 1)"
   ]
  },
  {
   "cell_type": "code",
   "execution_count": null,
   "metadata": {},
   "outputs": [],
   "source": []
  },
  {
   "cell_type": "code",
   "execution_count": 94,
   "metadata": {},
   "outputs": [
    {
     "data": {
      "text/plain": [
       "array([[0., 1., 1., ..., 0., 0., 0.],\n",
       "       [1., 0., 0., ..., 0., 0., 0.],\n",
       "       [1., 0., 0., ..., 0., 0., 0.],\n",
       "       ...,\n",
       "       [0., 0., 0., ..., 0., 0., 0.],\n",
       "       [0., 0., 0., ..., 0., 0., 0.],\n",
       "       [0., 0., 0., ..., 0., 0., 0.]])"
      ]
     },
     "execution_count": 94,
     "metadata": {},
     "output_type": "execute_result"
    }
   ],
   "source": [
    "city_M10_matrix"
   ]
  },
  {
   "cell_type": "code",
   "execution_count": 95,
   "metadata": {},
   "outputs": [
    {
     "data": {
      "text/plain": [
       "array([[0., 0., 0., ..., 0., 0., 0.],\n",
       "       [0., 0., 0., ..., 0., 0., 0.],\n",
       "       [0., 0., 0., ..., 0., 0., 0.],\n",
       "       ...,\n",
       "       [0., 0., 0., ..., 0., 0., 0.],\n",
       "       [0., 0., 0., ..., 0., 0., 0.],\n",
       "       [0., 0., 0., ..., 0., 0., 0.]])"
      ]
     },
     "execution_count": 95,
     "metadata": {},
     "output_type": "execute_result"
    }
   ],
   "source": [
    "city_sampling_M10_matrix"
   ]
  },
  {
   "cell_type": "code",
   "execution_count": 104,
   "metadata": {},
   "outputs": [
    {
     "data": {
      "text/plain": [
       "(456, 456)"
      ]
     },
     "execution_count": 104,
     "metadata": {},
     "output_type": "execute_result"
    }
   ],
   "source": [
    "city_sampling_M10_matrix.shape"
   ]
  },
  {
   "cell_type": "code",
   "execution_count": 105,
   "metadata": {},
   "outputs": [
    {
     "data": {
      "text/plain": [
       "(456, 456)"
      ]
     },
     "execution_count": 105,
     "metadata": {},
     "output_type": "execute_result"
    }
   ],
   "source": [
    "city_M10_matrix.shape"
   ]
  },
  {
   "cell_type": "code",
   "execution_count": null,
   "metadata": {},
   "outputs": [],
   "source": []
  },
  {
   "cell_type": "code",
   "execution_count": null,
   "metadata": {},
   "outputs": [],
   "source": []
  },
  {
   "cell_type": "code",
   "execution_count": 169,
   "metadata": {},
   "outputs": [
    {
     "name": "stderr",
     "output_type": "stream",
     "text": [
      "100%|██████████| 4409/4409 [00:00<00:00, 86464.12it/s]"
     ]
    },
    {
     "name": "stdout",
     "output_type": "stream",
     "text": [
      "encoding done\n",
      "429\n"
     ]
    },
    {
     "name": "stderr",
     "output_type": "stream",
     "text": [
      "\n"
     ]
    }
   ],
   "source": [
    "city_sampling_M10_matrix = create_motif_adjacency_matrix(city_sampling_edge_dict_M10)"
   ]
  },
  {
   "cell_type": "code",
   "execution_count": 170,
   "metadata": {},
   "outputs": [
    {
     "name": "stderr",
     "output_type": "stream",
     "text": [
      "100%|██████████| 14278/14278 [00:00<00:00, 87308.46it/s]"
     ]
    },
    {
     "name": "stdout",
     "output_type": "stream",
     "text": [
      "encoding done\n",
      "439\n"
     ]
    },
    {
     "name": "stderr",
     "output_type": "stream",
     "text": [
      "\n"
     ]
    }
   ],
   "source": [
    "city_M10_matrix = create_motif_adjacency_matrix(city_edge_dict_M10)"
   ]
  },
  {
   "cell_type": "code",
   "execution_count": null,
   "metadata": {},
   "outputs": [],
   "source": []
  },
  {
   "cell_type": "markdown",
   "metadata": {},
   "source": [
    "# Get the single most optimal cluster"
   ]
  },
  {
   "cell_type": "code",
   "execution_count": 194,
   "metadata": {},
   "outputs": [],
   "source": [
    "def single_cluster(adj_matrix):\n",
    "    '''\n",
    "    Input: motif adjacency matrix (W)\n",
    "    Output:\n",
    "    '''\n",
    "    # Step 1: Form the Diagonal Matrix (D) from W\n",
    "    # -----------------------------------------\n",
    "    # obtain the sums of all the rows of W\n",
    "    row_sums = np.sum(adj_matrix, axis = 1)\n",
    "    \n",
    "    # calculate D (to the -1/2 power) utilizing the row sums\n",
    "    D = np.diag(row_sums**(-1/2))\n",
    "    \n",
    "    # Step 2: Calculate the normalized Laplacian matrix (L)\n",
    "    # -----------------------------------------\n",
    "    L = np.identity(len(row_sums)) - D@adj_matrix@D\n",
    "    #return L\n",
    "\n",
    "    # Step 3: Calculate the eigenvector corrsponding to the second smallest eigenvalue of L\n",
    "    # -----------------------------------------\n",
    "    # calculate the eigenvalues and eigenvectors \n",
    "    eig = np.linalg.eig(L)\n",
    "    eigenvalues, eigenvectors = eig[0], eig[1]\n",
    "    print(\"calculated eigenstuff\")\n",
    "\n",
    "    # create sorted eigenvalue, eigenvector pairs\n",
    "    eigenpairs = []\n",
    "    for i in np.arange(len(eigenvalues)):\n",
    "        eigenpairs.append((eigenvalues[i], eigenvectors[:,i]))\n",
    "    print(\"calculated eigenpairs\")\n",
    "    \n",
    "    # keep the eigenvector corresponding to the second smallest eigenvalue\n",
    "    \n",
    "    #return eigenpairs\n",
    "    second_smallest_eigenvector = np.array(sorted(eigenpairs, key = lambda x: x[0])[1][1])\n",
    "    \n",
    "    # Step 4: Create a vector sigma whose sorted value index i corresponds to node i\n",
    "    # -----------------------------------------\n",
    "    sigma = D@second_smallest_eigenvector\n",
    "\n",
    "    # Step 5: Linear sweep for motif conductance minimization\n",
    "    # obtain the sorted indices of sigma where the ith index represents node i\n",
    "    sorted_sigma = sorted(list(zip(sigma, np.arange(1, len(sigma)+1))))\n",
    "\n",
    "    # obtain the proper orderings of the row and columns\n",
    "    order = np.array([x[1] for x in sorted_sigma]) - 1\n",
    "\n",
    "    # reorder the rows and columns of the adjacency matrix\n",
    "    C = adj_matrix[order]\n",
    "    C = C[:, order]\n",
    "\n",
    "    # obtain the sum of each row\n",
    "    row_sums = np.sum(C, 1)\n",
    "\n",
    "    # calculate the volume of all clusters at each partition\n",
    "    volumes = np.cumsum(row_sums)\n",
    "    volumes_other = np.sum(np.sum(adj_matrix, 0)) * np.ones((len(order))) - volumes\n",
    "\n",
    "    # calculate the conductances at each partition\n",
    "    conductances = np.cumsum(row_sums - 2 * np.sum(np.tril(C), 1)) / np.minimum(volumes, volumes_other)\n",
    "    conductances = np.nan_to_num(conductances, nan = 1)\n",
    "    \n",
    "    print('Minimum conductance is ' + str(min(conductances[conductances > 0])))\n",
    "    \n",
    "    # find the index of the minimal non-negative motif conductance\n",
    "    minimum_index = np.argmin(conductances[conductances > 0])\n",
    "    \n",
    "    # partition the cluster which achieves the minimum conductance\n",
    "    optimal_cluster = np.array([x[1] for x in sorted_sigma[:minimum_index + 1]])\n",
    "    return optimal_cluster"
   ]
  },
  {
   "cell_type": "code",
   "execution_count": 171,
   "metadata": {},
   "outputs": [
    {
     "name": "stdout",
     "output_type": "stream",
     "text": [
      "calculated eigenstuff\n",
      "calculated eigenpairs\n",
      "Minimum conductance is 0.25796702075647804\n"
     ]
    },
    {
     "name": "stderr",
     "output_type": "stream",
     "text": [
      "<ipython-input-166-99131aad7aa3>:60: RuntimeWarning: invalid value encountered in true_divide\n",
      "  conductances = np.cumsum(row_sums - 2 * np.sum(np.tril(C), 1)) / np.minimum(volumes, volumes_other)\n"
     ]
    }
   ],
   "source": [
    "city_M10_optimal = single_cluster(city_M10_matrix)"
   ]
  },
  {
   "cell_type": "code",
   "execution_count": 173,
   "metadata": {},
   "outputs": [
    {
     "name": "stdout",
     "output_type": "stream",
     "text": [
      "calculated eigenstuff\n",
      "calculated eigenpairs\n",
      "Minimum conductance is 0.23639425654413626\n"
     ]
    }
   ],
   "source": [
    "city_sampling_M10_optimal = single_cluster(city_sampling_M10_matrix)"
   ]
  },
  {
   "cell_type": "code",
   "execution_count": 175,
   "metadata": {},
   "outputs": [
    {
     "data": {
      "text/plain": [
       "(216,)"
      ]
     },
     "execution_count": 175,
     "metadata": {},
     "output_type": "execute_result"
    }
   ],
   "source": [
    "city_sampling_M10_optimal.shape"
   ]
  },
  {
   "cell_type": "code",
   "execution_count": 176,
   "metadata": {},
   "outputs": [
    {
     "data": {
      "text/plain": [
       "(230,)"
      ]
     },
     "execution_count": 176,
     "metadata": {},
     "output_type": "execute_result"
    }
   ],
   "source": [
    "city_M10_optimal.shape"
   ]
  },
  {
   "cell_type": "code",
   "execution_count": null,
   "metadata": {},
   "outputs": [],
   "source": []
  },
  {
   "cell_type": "code",
   "execution_count": null,
   "metadata": {},
   "outputs": [],
   "source": []
  },
  {
   "cell_type": "code",
   "execution_count": 197,
   "metadata": {},
   "outputs": [
    {
     "name": "stdout",
     "output_type": "stream",
     "text": [
      "calculated eigenstuff\n",
      "calculated eigenpairs\n",
      "Minimum conductance is 0.11428571428571428\n"
     ]
    },
    {
     "name": "stderr",
     "output_type": "stream",
     "text": [
      "<ipython-input-194-2ac7dcb31c2e>:60: RuntimeWarning: invalid value encountered in true_divide\n",
      "  conductances = np.cumsum(row_sums - 2 * np.sum(np.tril(C), 1)) / np.minimum(volumes, volumes_other)\n"
     ]
    }
   ],
   "source": [
    "M10_optimal = single_cluster(M10_matrix)"
   ]
  },
  {
   "cell_type": "code",
   "execution_count": 198,
   "metadata": {},
   "outputs": [
    {
     "data": {
      "text/plain": [
       "array([6060, 6061, 6062, 6394, 6395, 6396, 6841, 6842, 6843, 5790, 5789])"
      ]
     },
     "execution_count": 198,
     "metadata": {},
     "output_type": "execute_result"
    }
   ],
   "source": [
    "M10_optimal"
   ]
  },
  {
   "cell_type": "code",
   "execution_count": 199,
   "metadata": {},
   "outputs": [
    {
     "data": {
      "text/plain": [
       "11"
      ]
     },
     "execution_count": 199,
     "metadata": {},
     "output_type": "execute_result"
    }
   ],
   "source": [
    "M10_optimal.shape[0]"
   ]
  },
  {
   "cell_type": "code",
   "execution_count": null,
   "metadata": {},
   "outputs": [],
   "source": []
  },
  {
   "cell_type": "code",
   "execution_count": null,
   "metadata": {},
   "outputs": [],
   "source": []
  },
  {
   "cell_type": "code",
   "execution_count": null,
   "metadata": {},
   "outputs": [],
   "source": []
  },
  {
   "cell_type": "code",
   "execution_count": 44,
   "metadata": {},
   "outputs": [],
   "source": [
    "row_sums = np.sum(M10_matrix, axis = 1)"
   ]
  },
  {
   "cell_type": "code",
   "execution_count": 47,
   "metadata": {},
   "outputs": [
    {
     "data": {
      "text/plain": [
       "array([ 1766.,  2588.,  1162., ..., 11676.,   138.,  1384.])"
      ]
     },
     "execution_count": 47,
     "metadata": {},
     "output_type": "execute_result"
    }
   ],
   "source": [
    "row_sums"
   ]
  },
  {
   "cell_type": "code",
   "execution_count": 48,
   "metadata": {},
   "outputs": [
    {
     "data": {
      "text/plain": [
       "(array([1192, 1815, 1816, 2115, 2116, 2433, 2462, 2463, 2569, 2843, 2921,\n",
       "        2922, 2932, 2970, 2971, 3075, 3267, 3269, 3292, 3378, 3476, 3542,\n",
       "        3760, 3761, 3846, 3949, 3969, 4060, 4075, 4076, 4077, 4107, 4368,\n",
       "        4374, 4381, 4588, 4721, 4765, 4805, 4806, 4852, 5022, 5033, 5034,\n",
       "        5071, 5094, 5103, 5104, 5117, 5258, 5271, 5272, 5298, 5318, 5375,\n",
       "        5376, 5384, 5385, 5509, 5510, 5516, 5517, 5527, 5747, 5797, 5844,\n",
       "        5906, 5907, 5938, 5987, 6000, 6087, 6091, 6135, 6268, 6269, 6272,\n",
       "        6273, 6351, 6497, 6498, 6505, 6593, 6620, 6634, 6648, 6714, 6846,\n",
       "        6857, 6858, 6865, 6866, 6868, 6888, 6889, 6948, 7012, 7022, 7061],\n",
       "       dtype=int64),)"
      ]
     },
     "execution_count": 48,
     "metadata": {},
     "output_type": "execute_result"
    }
   ],
   "source": [
    "np.where(row_sums == 0)"
   ]
  },
  {
   "cell_type": "code",
   "execution_count": null,
   "metadata": {},
   "outputs": [],
   "source": []
  },
  {
   "cell_type": "code",
   "execution_count": null,
   "metadata": {},
   "outputs": [],
   "source": []
  },
  {
   "cell_type": "code",
   "execution_count": 183,
   "metadata": {},
   "outputs": [
    {
     "name": "stdout",
     "output_type": "stream",
     "text": [
      "calculated eigenstuff\n",
      "calculated eigenpairs\n",
      "Minimum conductance is 0.11111110974554646\n"
     ]
    }
   ],
   "source": [
    "sampling_M10_optimal = single_cluster(sampling_M10_matrix)"
   ]
  },
  {
   "cell_type": "code",
   "execution_count": 184,
   "metadata": {},
   "outputs": [
    {
     "data": {
      "text/plain": [
       "array([2021, 5860, 4681, ..., 6525, 6695, 3353])"
      ]
     },
     "execution_count": 184,
     "metadata": {},
     "output_type": "execute_result"
    }
   ],
   "source": [
    "sampling_M10_optimal"
   ]
  },
  {
   "cell_type": "code",
   "execution_count": 185,
   "metadata": {},
   "outputs": [
    {
     "data": {
      "text/plain": [
       "7007"
      ]
     },
     "execution_count": 185,
     "metadata": {},
     "output_type": "execute_result"
    }
   ],
   "source": [
    "sampling_M10_optimal.shape[0]"
   ]
  },
  {
   "cell_type": "code",
   "execution_count": null,
   "metadata": {},
   "outputs": [],
   "source": []
  },
  {
   "cell_type": "code",
   "execution_count": null,
   "metadata": {},
   "outputs": [],
   "source": []
  },
  {
   "cell_type": "code",
   "execution_count": 103,
   "metadata": {},
   "outputs": [],
   "source": [
    "W = np.array([[0,3,1,1,1,0,0,0,0,0], \n",
    "              [3,0,1,1,1,1,1,0,0,0],\n",
    "              [1,1,0,0,0,0,0,0,0,0],\n",
    "              [1,1,0,0,0,0,0,0,0,0],\n",
    "              [1,1,0,0,0,0,0,0,0,0],\n",
    "              [0,1,0,0,0,0,1,1,1,0],\n",
    "              [0,1,0,0,0,1,0,0,0,0],\n",
    "              [0,0,0,0,0,1,0,0,2,1],\n",
    "              [0,0,0,0,0,1,0,2,0,1],\n",
    "              [0,0,0,0,0,0,0,1,1,0]])"
   ]
  },
  {
   "cell_type": "code",
   "execution_count": 121,
   "metadata": {},
   "outputs": [
    {
     "name": "stderr",
     "output_type": "stream",
     "text": [
      "<ipython-input-114-71e354c5f5ca>:57: RuntimeWarning: invalid value encountered in true_divide\n",
      "  conductances = np.cumsum(row_sums - 2 * np.sum(np.tril(C), 1)) / np.minimum(volumes, volumes_other)\n"
     ]
    },
    {
     "data": {
      "text/plain": [
       "(array([5, 3, 4, 1, 2]),\n",
       " array([1.        , 1.        , 1.        , 0.5       , 0.125     ,\n",
       "        0.14285714, 0.2       , 0.66666667, 1.        , 1.        ]))"
      ]
     },
     "execution_count": 121,
     "metadata": {},
     "output_type": "execute_result"
    }
   ],
   "source": [
    "single_cluster(W)"
   ]
  },
  {
   "cell_type": "code",
   "execution_count": null,
   "metadata": {},
   "outputs": [],
   "source": []
  },
  {
   "cell_type": "code",
   "execution_count": null,
   "metadata": {},
   "outputs": [],
   "source": []
  },
  {
   "cell_type": "code",
   "execution_count": null,
   "metadata": {},
   "outputs": [],
   "source": []
  },
  {
   "cell_type": "markdown",
   "metadata": {},
   "source": [
    "# Test improved sampling algorithms"
   ]
  },
  {
   "cell_type": "code",
   "execution_count": 56,
   "metadata": {},
   "outputs": [],
   "source": [
    "def test_sampling(motif, k, t):\n",
    "    \n",
    "    counts = []\n",
    "    \n",
    "    if motif == 'M1':\n",
    "        for i in range(t):\n",
    "            count = sampling_count_M1(city_adj_list_away, city_adj_list_toward, k)\n",
    "            counts.append(count)\n",
    "    \n",
    "    if motif == 'M2':\n",
    "        for i in range(t):\n",
    "            count = sampling_count_M2(city_adj_list_away, city_adj_list_toward, k)\n",
    "            counts.append(count)\n",
    "        \n",
    "    if motif == 'M3':\n",
    "        for i in range(t):\n",
    "            count = sampling_count_M3(city_adj_list_away, city_adj_list_toward, k)\n",
    "            counts.append(count)\n",
    "        \n",
    "    if motif == 'M4':\n",
    "        for i in range(t):\n",
    "            count = sampling_count_M4(city_adj_list_away, city_adj_list_toward, k)\n",
    "            counts.append(count)\n",
    "        \n",
    "    if motif == 'M5':\n",
    "        for i in range(t):\n",
    "            count = sampling_count_M5(city_adj_list_away, city_adj_list_toward, k)\n",
    "            counts.append(count)\n",
    "        \n",
    "    if motif == 'M6':\n",
    "        for i in range(t):\n",
    "            count = sampling_count_M6(city_adj_list_away, city_adj_list_toward, k)\n",
    "            counts.append(count)\n",
    "        \n",
    "    if motif == 'M7':\n",
    "        for i in range(t):\n",
    "            count = sampling_count_M7(city_adj_list_away, city_adj_list_toward, k)\n",
    "            counts.append(count)\n",
    "        \n",
    "    if motif == 'M8':\n",
    "        for i in range(t):\n",
    "            count = sampling_count_M8(city_adj_list_away, city_adj_list_toward, k)\n",
    "            counts.append(count)\n",
    "        \n",
    "    if motif == 'M9':\n",
    "        for i in range(t):\n",
    "            count = sampling_count_M9(city_adj_list_away, city_adj_list_toward, k)\n",
    "            counts.append(count)\n",
    "        \n",
    "    if motif == 'M10':\n",
    "        for i in range(t):\n",
    "            count = sampling_count_M10(city_adj_list_away, city_adj_list_toward, k)\n",
    "            counts.append(count)\n",
    "        \n",
    "    if motif == 'M11':\n",
    "        for i in range(t):\n",
    "            count = sampling_count_M11(city_adj_list_away, city_adj_list_toward, k)\n",
    "            counts.append(count)\n",
    "        \n",
    "    if motif == 'M12':\n",
    "        for i in range(t):\n",
    "            count = sampling_count_M12(city_adj_list_away, city_adj_list_toward, k)\n",
    "            counts.append(count)\n",
    "        \n",
    "    if motif == 'M13':\n",
    "        for i in range(t):\n",
    "            count = sampling_count_M13(city_adj_list_away, city_adj_list_toward, k)\n",
    "            counts.append(count)\n",
    "            \n",
    "    return counts"
   ]
  },
  {
   "cell_type": "code",
   "execution_count": 59,
   "metadata": {},
   "outputs": [
    {
     "name": "stdout",
     "output_type": "stream",
     "text": [
      "M2\n",
      "M3\n",
      "M4\n",
      "M5\n",
      "M6\n",
      "M7\n",
      "M8\n",
      "M9\n",
      "M11\n",
      "M12\n",
      "M13\n"
     ]
    }
   ],
   "source": [
    "motifs = ['M2', 'M3', 'M4', 'M5', 'M6', 'M7', 'M8', 'M9', 'M11', 'M12', 'M13']\n",
    "motif_counts = {}\n",
    "for motif in motifs:\n",
    "    print(motif)\n",
    "    motif_counts[motif] = test_sampling(motif, 20, 100)"
   ]
  },
  {
   "cell_type": "code",
   "execution_count": 60,
   "metadata": {},
   "outputs": [],
   "source": [
    "# make graphs SVGs"
   ]
  },
  {
   "cell_type": "code",
   "execution_count": 62,
   "metadata": {},
   "outputs": [],
   "source": [
    "with open(\"sampled_motif_counts.json\", \"w\") as outfile:\n",
    "    json.dump(motif_counts, outfile)"
   ]
  },
  {
   "cell_type": "code",
   "execution_count": 15,
   "metadata": {},
   "outputs": [],
   "source": [
    "sampled_motif_counts = pd.read_json('sampled_motif_counts.json')"
   ]
  },
  {
   "cell_type": "code",
   "execution_count": 116,
   "metadata": {},
   "outputs": [
    {
     "data": {
      "text/html": [
       "<div>\n",
       "<style scoped>\n",
       "    .dataframe tbody tr th:only-of-type {\n",
       "        vertical-align: middle;\n",
       "    }\n",
       "\n",
       "    .dataframe tbody tr th {\n",
       "        vertical-align: top;\n",
       "    }\n",
       "\n",
       "    .dataframe thead th {\n",
       "        text-align: right;\n",
       "    }\n",
       "</style>\n",
       "<table border=\"1\" class=\"dataframe\">\n",
       "  <thead>\n",
       "    <tr style=\"text-align: right;\">\n",
       "      <th></th>\n",
       "      <th>M2</th>\n",
       "      <th>M3</th>\n",
       "      <th>M4</th>\n",
       "      <th>M5</th>\n",
       "      <th>M6</th>\n",
       "      <th>M7</th>\n",
       "      <th>M8</th>\n",
       "      <th>M9</th>\n",
       "      <th>M11</th>\n",
       "      <th>M12</th>\n",
       "      <th>M13</th>\n",
       "    </tr>\n",
       "  </thead>\n",
       "  <tbody>\n",
       "    <tr>\n",
       "      <th>0</th>\n",
       "      <td>4679.000000</td>\n",
       "      <td>90031.633333</td>\n",
       "      <td>2.995564e+06</td>\n",
       "      <td>477.383333</td>\n",
       "      <td>10277.916667</td>\n",
       "      <td>11324.050000</td>\n",
       "      <td>15836.500</td>\n",
       "      <td>13310.550</td>\n",
       "      <td>161036.050</td>\n",
       "      <td>156088.000</td>\n",
       "      <td>2.655814e+06</td>\n",
       "    </tr>\n",
       "    <tr>\n",
       "      <th>1</th>\n",
       "      <td>4557.650000</td>\n",
       "      <td>89929.750000</td>\n",
       "      <td>2.996562e+06</td>\n",
       "      <td>399.200000</td>\n",
       "      <td>10236.183333</td>\n",
       "      <td>10977.200000</td>\n",
       "      <td>16005.900</td>\n",
       "      <td>11861.200</td>\n",
       "      <td>161410.025</td>\n",
       "      <td>155898.150</td>\n",
       "      <td>2.660661e+06</td>\n",
       "    </tr>\n",
       "    <tr>\n",
       "      <th>2</th>\n",
       "      <td>4683.666667</td>\n",
       "      <td>90284.550000</td>\n",
       "      <td>2.993612e+06</td>\n",
       "      <td>369.516667</td>\n",
       "      <td>10070.216667</td>\n",
       "      <td>10862.216667</td>\n",
       "      <td>16156.575</td>\n",
       "      <td>12912.850</td>\n",
       "      <td>162465.575</td>\n",
       "      <td>155097.700</td>\n",
       "      <td>2.657087e+06</td>\n",
       "    </tr>\n",
       "    <tr>\n",
       "      <th>3</th>\n",
       "      <td>4663.883333</td>\n",
       "      <td>90274.483333</td>\n",
       "      <td>2.995526e+06</td>\n",
       "      <td>366.850000</td>\n",
       "      <td>10058.083333</td>\n",
       "      <td>10886.700000</td>\n",
       "      <td>16160.675</td>\n",
       "      <td>12590.200</td>\n",
       "      <td>162211.600</td>\n",
       "      <td>155278.250</td>\n",
       "      <td>2.657487e+06</td>\n",
       "    </tr>\n",
       "    <tr>\n",
       "      <th>4</th>\n",
       "      <td>4741.716667</td>\n",
       "      <td>90864.633333</td>\n",
       "      <td>2.996447e+06</td>\n",
       "      <td>361.433333</td>\n",
       "      <td>10060.350000</td>\n",
       "      <td>11045.383333</td>\n",
       "      <td>16485.900</td>\n",
       "      <td>12512.775</td>\n",
       "      <td>160116.425</td>\n",
       "      <td>155483.525</td>\n",
       "      <td>2.657311e+06</td>\n",
       "    </tr>\n",
       "    <tr>\n",
       "      <th>...</th>\n",
       "      <td>...</td>\n",
       "      <td>...</td>\n",
       "      <td>...</td>\n",
       "      <td>...</td>\n",
       "      <td>...</td>\n",
       "      <td>...</td>\n",
       "      <td>...</td>\n",
       "      <td>...</td>\n",
       "      <td>...</td>\n",
       "      <td>...</td>\n",
       "      <td>...</td>\n",
       "    </tr>\n",
       "    <tr>\n",
       "      <th>95</th>\n",
       "      <td>4690.350000</td>\n",
       "      <td>89786.483333</td>\n",
       "      <td>2.994286e+06</td>\n",
       "      <td>364.700000</td>\n",
       "      <td>10036.700000</td>\n",
       "      <td>10938.966667</td>\n",
       "      <td>15502.575</td>\n",
       "      <td>12438.375</td>\n",
       "      <td>160300.300</td>\n",
       "      <td>155444.600</td>\n",
       "      <td>2.656406e+06</td>\n",
       "    </tr>\n",
       "    <tr>\n",
       "      <th>96</th>\n",
       "      <td>4593.950000</td>\n",
       "      <td>90531.300000</td>\n",
       "      <td>2.994671e+06</td>\n",
       "      <td>362.166667</td>\n",
       "      <td>10021.600000</td>\n",
       "      <td>10888.750000</td>\n",
       "      <td>15919.000</td>\n",
       "      <td>12527.800</td>\n",
       "      <td>161839.400</td>\n",
       "      <td>156094.425</td>\n",
       "      <td>2.653674e+06</td>\n",
       "    </tr>\n",
       "    <tr>\n",
       "      <th>97</th>\n",
       "      <td>4597.783333</td>\n",
       "      <td>89307.400000</td>\n",
       "      <td>2.991392e+06</td>\n",
       "      <td>396.733333</td>\n",
       "      <td>10095.000000</td>\n",
       "      <td>10866.100000</td>\n",
       "      <td>15752.050</td>\n",
       "      <td>12733.250</td>\n",
       "      <td>161937.725</td>\n",
       "      <td>155868.975</td>\n",
       "      <td>2.661672e+06</td>\n",
       "    </tr>\n",
       "    <tr>\n",
       "      <th>98</th>\n",
       "      <td>4554.683333</td>\n",
       "      <td>89818.583333</td>\n",
       "      <td>2.992050e+06</td>\n",
       "      <td>386.633333</td>\n",
       "      <td>10029.916667</td>\n",
       "      <td>11042.183333</td>\n",
       "      <td>15857.900</td>\n",
       "      <td>12109.650</td>\n",
       "      <td>162273.350</td>\n",
       "      <td>156245.525</td>\n",
       "      <td>2.662281e+06</td>\n",
       "    </tr>\n",
       "    <tr>\n",
       "      <th>99</th>\n",
       "      <td>4526.700000</td>\n",
       "      <td>89395.233333</td>\n",
       "      <td>2.997626e+06</td>\n",
       "      <td>429.600000</td>\n",
       "      <td>9972.133333</td>\n",
       "      <td>10929.650000</td>\n",
       "      <td>16313.925</td>\n",
       "      <td>12960.200</td>\n",
       "      <td>161403.375</td>\n",
       "      <td>154930.475</td>\n",
       "      <td>2.659525e+06</td>\n",
       "    </tr>\n",
       "  </tbody>\n",
       "</table>\n",
       "<p>100 rows × 11 columns</p>\n",
       "</div>"
      ],
      "text/plain": [
       "             M2            M3            M4          M5            M6  \\\n",
       "0   4679.000000  90031.633333  2.995564e+06  477.383333  10277.916667   \n",
       "1   4557.650000  89929.750000  2.996562e+06  399.200000  10236.183333   \n",
       "2   4683.666667  90284.550000  2.993612e+06  369.516667  10070.216667   \n",
       "3   4663.883333  90274.483333  2.995526e+06  366.850000  10058.083333   \n",
       "4   4741.716667  90864.633333  2.996447e+06  361.433333  10060.350000   \n",
       "..          ...           ...           ...         ...           ...   \n",
       "95  4690.350000  89786.483333  2.994286e+06  364.700000  10036.700000   \n",
       "96  4593.950000  90531.300000  2.994671e+06  362.166667  10021.600000   \n",
       "97  4597.783333  89307.400000  2.991392e+06  396.733333  10095.000000   \n",
       "98  4554.683333  89818.583333  2.992050e+06  386.633333  10029.916667   \n",
       "99  4526.700000  89395.233333  2.997626e+06  429.600000   9972.133333   \n",
       "\n",
       "              M7         M8         M9         M11         M12           M13  \n",
       "0   11324.050000  15836.500  13310.550  161036.050  156088.000  2.655814e+06  \n",
       "1   10977.200000  16005.900  11861.200  161410.025  155898.150  2.660661e+06  \n",
       "2   10862.216667  16156.575  12912.850  162465.575  155097.700  2.657087e+06  \n",
       "3   10886.700000  16160.675  12590.200  162211.600  155278.250  2.657487e+06  \n",
       "4   11045.383333  16485.900  12512.775  160116.425  155483.525  2.657311e+06  \n",
       "..           ...        ...        ...         ...         ...           ...  \n",
       "95  10938.966667  15502.575  12438.375  160300.300  155444.600  2.656406e+06  \n",
       "96  10888.750000  15919.000  12527.800  161839.400  156094.425  2.653674e+06  \n",
       "97  10866.100000  15752.050  12733.250  161937.725  155868.975  2.661672e+06  \n",
       "98  11042.183333  15857.900  12109.650  162273.350  156245.525  2.662281e+06  \n",
       "99  10929.650000  16313.925  12960.200  161403.375  154930.475  2.659525e+06  \n",
       "\n",
       "[100 rows x 11 columns]"
      ]
     },
     "execution_count": 116,
     "metadata": {},
     "output_type": "execute_result"
    }
   ],
   "source": [
    "sampled_motif_counts"
   ]
  },
  {
   "cell_type": "code",
   "execution_count": null,
   "metadata": {},
   "outputs": [],
   "source": []
  },
  {
   "cell_type": "code",
   "execution_count": 121,
   "metadata": {},
   "outputs": [
    {
     "name": "stderr",
     "output_type": "stream",
     "text": [
      "100%|██████████| 456/456 [01:02<00:00,  7.30it/s]\n",
      "100%|██████████| 17947/17947 [00:00<00:00, 277166.79it/s]"
     ]
    },
    {
     "name": "stdout",
     "output_type": "stream",
     "text": [
      "89551.3666666675\n",
      "Sample count: 268653.1000000025\n",
      "Normal count: 1\n",
      "Vertices: 18636\n",
      "Triangles: 17947\n"
     ]
    },
    {
     "name": "stderr",
     "output_type": "stream",
     "text": [
      "\n"
     ]
    }
   ],
   "source": [
    "sampling_M = sampling_count_M3(city_adj_list_away, city_adj_list_toward, 20)"
   ]
  },
  {
   "cell_type": "code",
   "execution_count": 122,
   "metadata": {},
   "outputs": [
    {
     "name": "stderr",
     "output_type": "stream",
     "text": [
      "100%|██████████| 456/456 [02:42<00:00,  2.81it/s]\n",
      " 25%|██▍       | 67148/270284 [00:00<00:00, 335449.47it/s]"
     ]
    },
    {
     "name": "stdout",
     "output_type": "stream",
     "text": [
      "count edges\n"
     ]
    },
    {
     "name": "stderr",
     "output_type": "stream",
     "text": [
      "100%|██████████| 270284/270284 [00:00<00:00, 342013.37it/s]"
     ]
    },
    {
     "name": "stdout",
     "output_type": "stream",
     "text": [
      "Vertices: 270284\n",
      "Triangles: 270284\n"
     ]
    },
    {
     "name": "stderr",
     "output_type": "stream",
     "text": [
      "\n"
     ]
    }
   ],
   "source": [
    "M = count_M3(city_adj_list_away, city_adj_list_toward)"
   ]
  },
  {
   "cell_type": "code",
   "execution_count": null,
   "metadata": {},
   "outputs": [],
   "source": []
  },
  {
   "cell_type": "code",
   "execution_count": 124,
   "metadata": {},
   "outputs": [
    {
     "name": "stderr",
     "output_type": "stream",
     "text": [
      "100%|██████████| 456/456 [03:01<00:00,  2.52it/s]\n",
      "  5%|▍         | 67403/1497244 [00:00<00:04, 340166.21it/s]"
     ]
    },
    {
     "name": "stdout",
     "output_type": "stream",
     "text": [
      "count edges\n"
     ]
    },
    {
     "name": "stderr",
     "output_type": "stream",
     "text": [
      "100%|██████████| 1497244/1497244 [00:04<00:00, 341913.16it/s]\n"
     ]
    },
    {
     "name": "stdout",
     "output_type": "stream",
     "text": [
      "Vertices: 8983464\n",
      "Triangles: 1497244\n"
     ]
    }
   ],
   "source": [
    "#divide final count by 6\n",
    "M4 = count_M4(city_adj_list_away, city_adj_list_toward)"
   ]
  },
  {
   "cell_type": "code",
   "execution_count": 125,
   "metadata": {},
   "outputs": [
    {
     "name": "stderr",
     "output_type": "stream",
     "text": [
      "100%|██████████| 456/456 [02:35<00:00,  2.94it/s]\n",
      "100%|██████████| 1182/1182 [00:00<00:00, 295503.80it/s]"
     ]
    },
    {
     "name": "stdout",
     "output_type": "stream",
     "text": [
      "count edges\n",
      "Vertices: 1182\n",
      "Triangles: 1182\n"
     ]
    },
    {
     "name": "stderr",
     "output_type": "stream",
     "text": [
      "\n"
     ]
    }
   ],
   "source": [
    "#no division necessary\n",
    "M5 = count_M5(city_adj_list_away, city_adj_list_toward)"
   ]
  },
  {
   "cell_type": "code",
   "execution_count": 126,
   "metadata": {},
   "outputs": [
    {
     "name": "stderr",
     "output_type": "stream",
     "text": [
      "100%|██████████| 456/456 [02:33<00:00,  2.98it/s]\n",
      "100%|██████████| 15111/15111 [00:00<00:00, 422157.06it/s]"
     ]
    },
    {
     "name": "stdout",
     "output_type": "stream",
     "text": [
      "count edges\n",
      "Vertices: 30222\n",
      "Triangles: 15111\n"
     ]
    },
    {
     "name": "stderr",
     "output_type": "stream",
     "text": [
      "\n"
     ]
    }
   ],
   "source": [
    "#divide final count by 2\n",
    "M6 = count_M6(city_adj_list_away, city_adj_list_toward)"
   ]
  },
  {
   "cell_type": "code",
   "execution_count": 127,
   "metadata": {},
   "outputs": [
    {
     "name": "stderr",
     "output_type": "stream",
     "text": [
      "100%|██████████| 456/456 [02:48<00:00,  2.70it/s]\n",
      "100%|██████████| 16393/16393 [00:00<00:00, 422292.40it/s]"
     ]
    },
    {
     "name": "stdout",
     "output_type": "stream",
     "text": [
      "count edges\n",
      "Vertices: 32786\n",
      "Triangles: 16393\n"
     ]
    },
    {
     "name": "stderr",
     "output_type": "stream",
     "text": [
      "\n"
     ]
    }
   ],
   "source": [
    "#divide final count by 2\n",
    "M7 = count_M7(city_adj_list_away, city_adj_list_toward)"
   ]
  },
  {
   "cell_type": "code",
   "execution_count": 128,
   "metadata": {},
   "outputs": [
    {
     "name": "stderr",
     "output_type": "stream",
     "text": [
      "100%|██████████| 456/456 [02:35<00:00,  2.94it/s]\n",
      "100%|██████████| 16013/16013 [00:00<00:00, 449843.21it/s]"
     ]
    },
    {
     "name": "stdout",
     "output_type": "stream",
     "text": [
      "count edges\n",
      "Vertices: 32026\n",
      "Triangles: 16013\n"
     ]
    },
    {
     "name": "stderr",
     "output_type": "stream",
     "text": [
      "\n"
     ]
    }
   ],
   "source": [
    "#divide final count by 2\n",
    "M8 = count_M8(city_adj_list_away, city_adj_list_toward)"
   ]
  },
  {
   "cell_type": "code",
   "execution_count": 129,
   "metadata": {},
   "outputs": [
    {
     "name": "stderr",
     "output_type": "stream",
     "text": [
      "100%|██████████| 456/456 [02:46<00:00,  2.74it/s]\n",
      "100%|██████████| 25124/25124 [00:00<00:00, 431548.60it/s]"
     ]
    },
    {
     "name": "stdout",
     "output_type": "stream",
     "text": [
      "count edges\n",
      "Vertices: 25124\n",
      "Triangles: 25124\n"
     ]
    },
    {
     "name": "stderr",
     "output_type": "stream",
     "text": [
      "\n"
     ]
    }
   ],
   "source": [
    "#no division necessary\n",
    "M9 = count_M9(city_adj_list_away, city_adj_list_toward)"
   ]
  },
  {
   "cell_type": "code",
   "execution_count": 130,
   "metadata": {},
   "outputs": [
    {
     "name": "stderr",
     "output_type": "stream",
     "text": [
      "\r",
      "  0%|          | 0/456 [00:00<?, ?it/s]"
     ]
    },
    {
     "name": "stdout",
     "output_type": "stream",
     "text": [
      "start motif counting\n"
     ]
    },
    {
     "name": "stderr",
     "output_type": "stream",
     "text": [
      "100%|██████████| 456/456 [14:47<00:00,  1.95s/it]   \n",
      "100%|██████████| 15280/15280 [00:00<00:00, 469423.38it/s]"
     ]
    },
    {
     "name": "stdout",
     "output_type": "stream",
     "text": [
      "Number of triangles before the set operations: 30560\n",
      "count edges\n",
      "Vertices: 30560\n",
      "Triangles: 15280\n"
     ]
    },
    {
     "name": "stderr",
     "output_type": "stream",
     "text": [
      "\n"
     ]
    }
   ],
   "source": [
    "#divide final count by 2\n",
    "M10 = count_M10(city_adj_list_away, city_adj_list_toward)"
   ]
  },
  {
   "cell_type": "code",
   "execution_count": 131,
   "metadata": {},
   "outputs": [
    {
     "name": "stderr",
     "output_type": "stream",
     "text": [
      "100%|██████████| 456/456 [06:22<00:00,  1.19it/s]\n",
      "  5%|▍         | 17301/349821 [00:00<00:02, 163819.14it/s]"
     ]
    },
    {
     "name": "stdout",
     "output_type": "stream",
     "text": [
      "count edges\n"
     ]
    },
    {
     "name": "stderr",
     "output_type": "stream",
     "text": [
      "100%|██████████| 349821/349821 [00:02<00:00, 147689.68it/s]\n"
     ]
    },
    {
     "name": "stdout",
     "output_type": "stream",
     "text": [
      "Vertices: 349821\n",
      "Triangles: 349821\n"
     ]
    }
   ],
   "source": [
    "#no division necessary\n",
    "M11 = count_M11(city_adj_list_away, city_adj_list_toward)"
   ]
  },
  {
   "cell_type": "code",
   "execution_count": 132,
   "metadata": {},
   "outputs": [
    {
     "name": "stderr",
     "output_type": "stream",
     "text": [
      "100%|██████████| 456/456 [07:45<00:00,  1.02s/it]\n",
      "  4%|▍         | 14119/338073 [00:00<00:02, 134168.39it/s]"
     ]
    },
    {
     "name": "stdout",
     "output_type": "stream",
     "text": [
      "count edges\n"
     ]
    },
    {
     "name": "stderr",
     "output_type": "stream",
     "text": [
      "100%|██████████| 338073/338073 [00:02<00:00, 137112.81it/s]\n"
     ]
    },
    {
     "name": "stdout",
     "output_type": "stream",
     "text": [
      "Vertices: 338073\n",
      "Triangles: 338073\n"
     ]
    }
   ],
   "source": [
    "#no division necessary\n",
    "M12 = count_M12(city_adj_list_away, city_adj_list_toward)"
   ]
  },
  {
   "cell_type": "code",
   "execution_count": null,
   "metadata": {},
   "outputs": [],
   "source": [
    "#M1, M2, M3, M13 complete!"
   ]
  },
  {
   "cell_type": "code",
   "execution_count": null,
   "metadata": {},
   "outputs": [],
   "source": []
  },
  {
   "cell_type": "markdown",
   "metadata": {},
   "source": [
    "# Testing Land"
   ]
  },
  {
   "cell_type": "code",
   "execution_count": 318,
   "metadata": {},
   "outputs": [],
   "source": [
    "# THINGS TO DO:\n",
    "\n",
    "# multiply motif adjacency matrix by number of unique nodes divided by the number of nodes sampled???\n",
    "# let's try 20 as a threshold for sampling"
   ]
  },
  {
   "cell_type": "code",
   "execution_count": 2,
   "metadata": {},
   "outputs": [],
   "source": [
    "from tqdm import tqdm"
   ]
  },
  {
   "cell_type": "code",
   "execution_count": 46,
   "metadata": {},
   "outputs": [
    {
     "data": {
      "text/html": [
       "<div>\n",
       "<style scoped>\n",
       "    .dataframe tbody tr th:only-of-type {\n",
       "        vertical-align: middle;\n",
       "    }\n",
       "\n",
       "    .dataframe tbody tr th {\n",
       "        vertical-align: top;\n",
       "    }\n",
       "\n",
       "    .dataframe thead th {\n",
       "        text-align: right;\n",
       "    }\n",
       "</style>\n",
       "<table border=\"1\" class=\"dataframe\">\n",
       "  <thead>\n",
       "    <tr style=\"text-align: right;\">\n",
       "      <th></th>\n",
       "      <th>node</th>\n",
       "      <th>neighbors</th>\n",
       "    </tr>\n",
       "  </thead>\n",
       "  <tbody>\n",
       "    <tr>\n",
       "      <th>0</th>\n",
       "      <td>1</td>\n",
       "      <td>[6548, 15409]</td>\n",
       "    </tr>\n",
       "    <tr>\n",
       "      <th>1</th>\n",
       "      <td>2</td>\n",
       "      <td>[17794, 25202, 53625, 54582, 64930, 73764, 844...</td>\n",
       "    </tr>\n",
       "    <tr>\n",
       "      <th>2</th>\n",
       "      <td>3</td>\n",
       "      <td>[74361]</td>\n",
       "    </tr>\n",
       "    <tr>\n",
       "      <th>3</th>\n",
       "      <td>4</td>\n",
       "      <td>[35716, 96512, 186750, 225872]</td>\n",
       "    </tr>\n",
       "    <tr>\n",
       "      <th>4</th>\n",
       "      <td>5</td>\n",
       "      <td>[6545, 14395, 59745, 67503, 134375, 170452, 22...</td>\n",
       "    </tr>\n",
       "    <tr>\n",
       "      <th>...</th>\n",
       "      <td>...</td>\n",
       "      <td>...</td>\n",
       "    </tr>\n",
       "    <tr>\n",
       "      <th>281898</th>\n",
       "      <td>281899</td>\n",
       "      <td>[30564, 266498, 275194]</td>\n",
       "    </tr>\n",
       "    <tr>\n",
       "      <th>281899</th>\n",
       "      <td>281900</td>\n",
       "      <td>[186750, 225872]</td>\n",
       "    </tr>\n",
       "    <tr>\n",
       "      <th>281900</th>\n",
       "      <td>281901</td>\n",
       "      <td>[203842]</td>\n",
       "    </tr>\n",
       "    <tr>\n",
       "      <th>281901</th>\n",
       "      <td>281902</td>\n",
       "      <td>[68137, 119658, 166893, 168703, 180771, 266504...</td>\n",
       "    </tr>\n",
       "    <tr>\n",
       "      <th>281902</th>\n",
       "      <td>281903</td>\n",
       "      <td>[44103, 56088, 90591, 94440, 216688, 256539, 2...</td>\n",
       "    </tr>\n",
       "  </tbody>\n",
       "</table>\n",
       "<p>281903 rows × 2 columns</p>\n",
       "</div>"
      ],
      "text/plain": [
       "          node                                          neighbors\n",
       "0            1                                      [6548, 15409]\n",
       "1            2  [17794, 25202, 53625, 54582, 64930, 73764, 844...\n",
       "2            3                                            [74361]\n",
       "3            4                     [35716, 96512, 186750, 225872]\n",
       "4            5  [6545, 14395, 59745, 67503, 134375, 170452, 22...\n",
       "...        ...                                                ...\n",
       "281898  281899                            [30564, 266498, 275194]\n",
       "281899  281900                                   [186750, 225872]\n",
       "281900  281901                                           [203842]\n",
       "281901  281902  [68137, 119658, 166893, 168703, 180771, 266504...\n",
       "281902  281903  [44103, 56088, 90591, 94440, 216688, 256539, 2...\n",
       "\n",
       "[281903 rows x 2 columns]"
      ]
     },
     "execution_count": 46,
     "metadata": {},
     "output_type": "execute_result"
    }
   ],
   "source": [
    "test = pd.DataFrame(stanford_adj_list_away.items())\n",
    "test = test.rename(columns = {0: 'node', 1: 'neighbors'})\n",
    "test"
   ]
  },
  {
   "cell_type": "code",
   "execution_count": 47,
   "metadata": {},
   "outputs": [],
   "source": [
    "test['degree'] = test['neighbors'].apply(lambda x: len(x))"
   ]
  },
  {
   "cell_type": "code",
   "execution_count": 49,
   "metadata": {},
   "outputs": [
    {
     "data": {
      "text/plain": [
       "<matplotlib.axes._subplots.AxesSubplot at 0x27086f33eb0>"
      ]
     },
     "execution_count": 49,
     "metadata": {},
     "output_type": "execute_result"
    },
    {
     "data": {
      "image/png": "[encoded data removed]",
      "text/plain": [
       "<Figure size 432x288 with 1 Axes>"
      ]
     },
     "metadata": {
      "needs_background": "light"
     },
     "output_type": "display_data"
    }
   ],
   "source": [
    "test['degree'].plot()"
   ]
  },
  {
   "cell_type": "code",
   "execution_count": 50,
   "metadata": {},
   "outputs": [
    {
     "data": {
      "text/plain": [
       "2      42916\n",
       "5      37693\n",
       "3      31033\n",
       "1      28634\n",
       "4      26075\n",
       "       ...  \n",
       "195        1\n",
       "172        1\n",
       "190        1\n",
       "123        1\n",
       "175        1\n",
       "Name: degree, Length: 190, dtype: int64"
      ]
     },
     "execution_count": 50,
     "metadata": {},
     "output_type": "execute_result"
    }
   ],
   "source": [
    "test['degree'].value_counts()"
   ]
  },
  {
   "cell_type": "code",
   "execution_count": 59,
   "metadata": {},
   "outputs": [
    {
     "data": {
      "text/plain": [
       "0.0810420605669326"
      ]
     },
     "execution_count": 59,
     "metadata": {},
     "output_type": "execute_result"
    }
   ],
   "source": [
    "(test['degree'] > 20).sum() / test.shape[0]"
   ]
  },
  {
   "cell_type": "code",
   "execution_count": null,
   "metadata": {},
   "outputs": [],
   "source": []
  },
  {
   "cell_type": "code",
   "execution_count": 64,
   "metadata": {},
   "outputs": [],
   "source": [
    "other_test = pd.DataFrame(city_adj_list_away.items())\n",
    "other_test = other_test.rename(columns = {0: 'node', 1: 'neighbors'})"
   ]
  },
  {
   "cell_type": "code",
   "execution_count": 66,
   "metadata": {},
   "outputs": [],
   "source": [
    "other_test['degree'] = other_test['neighbors'].apply(lambda x: len(x))"
   ]
  },
  {
   "cell_type": "code",
   "execution_count": null,
   "metadata": {},
   "outputs": [],
   "source": []
  },
  {
   "cell_type": "code",
   "execution_count": 69,
   "metadata": {},
   "outputs": [
    {
     "data": {
      "text/plain": [
       "<matplotlib.axes._subplots.AxesSubplot at 0x254756b1160>"
      ]
     },
     "execution_count": 69,
     "metadata": {},
     "output_type": "execute_result"
    },
    {
     "data": {
      "image/png": "[encoded data removed]",
      "text/plain": [
       "<Figure size 432x288 with 1 Axes>"
      ]
     },
     "metadata": {
      "needs_background": "light"
     },
     "output_type": "display_data"
    }
   ],
   "source": [
    "other_test['degree'].plot()"
   ]
  },
  {
   "cell_type": "code",
   "execution_count": 70,
   "metadata": {},
   "outputs": [
    {
     "data": {
      "text/plain": [
       "115    6\n",
       "67     6\n",
       "120    5\n",
       "77     5\n",
       "57     5\n",
       "      ..\n",
       "74     1\n",
       "82     1\n",
       "187    1\n",
       "19     1\n",
       "88     1\n",
       "Name: degree, Length: 242, dtype: int64"
      ]
     },
     "execution_count": 70,
     "metadata": {},
     "output_type": "execute_result"
    }
   ],
   "source": [
    "other_test['degree'].value_counts()"
   ]
  },
  {
   "cell_type": "code",
   "execution_count": 80,
   "metadata": {},
   "outputs": [
    {
     "data": {
      "text/plain": [
       "0.9868421052631579"
      ]
     },
     "execution_count": 80,
     "metadata": {},
     "output_type": "execute_result"
    }
   ],
   "source": [
    "(other_test['degree'] > 20).sum() / other_test.shape[0]"
   ]
  },
  {
   "cell_type": "code",
   "execution_count": null,
   "metadata": {},
   "outputs": [],
   "source": []
  },
  {
   "cell_type": "code",
   "execution_count": 205,
   "metadata": {
    "scrolled": true
   },
   "outputs": [
    {
     "name": "stdout",
     "output_type": "stream",
     "text": [
      "1\n",
      "2\n",
      "3\n",
      "4\n",
      "5\n",
      "6\n",
      "7\n",
      "8\n",
      "9\n",
      "10\n",
      "11\n",
      "12\n",
      "13\n",
      "14\n",
      "15\n",
      "16\n",
      "17\n",
      "18\n",
      "19\n",
      "20\n",
      "21\n",
      "22\n",
      "23\n",
      "24\n",
      "25\n",
      "26\n",
      "27\n",
      "28\n",
      "29\n",
      "30\n",
      "31\n",
      "32\n",
      "33\n",
      "34\n",
      "35\n",
      "36\n",
      "37\n",
      "38\n",
      "39\n",
      "40\n",
      "41\n",
      "42\n",
      "43\n",
      "44\n",
      "45\n",
      "46\n",
      "47\n",
      "48\n",
      "49\n",
      "50\n",
      "51\n",
      "52\n",
      "53\n",
      "54\n",
      "55\n",
      "56\n",
      "57\n",
      "58\n",
      "59\n",
      "60\n",
      "61\n",
      "62\n",
      "63\n",
      "64\n",
      "65\n",
      "66\n",
      "67\n",
      "68\n",
      "69\n",
      "70\n",
      "71\n",
      "72\n",
      "73\n",
      "74\n",
      "75\n",
      "76\n",
      "77\n",
      "78\n",
      "79\n",
      "80\n",
      "81\n",
      "82\n",
      "83\n",
      "84\n",
      "85\n",
      "86\n",
      "87\n",
      "88\n",
      "89\n",
      "90\n",
      "91\n",
      "92\n",
      "93\n",
      "94\n",
      "95\n",
      "96\n",
      "97\n",
      "98\n",
      "99\n",
      "100\n"
     ]
    }
   ],
   "source": [
    "counts = [] \n",
    "\n",
    "for i in range(100):\n",
    "    print(i+1)\n",
    "    count = sampling_count_M10(city_adj_list_away, city_adj_list_toward, 20)\n",
    "    counts.append(count)"
   ]
  },
  {
   "cell_type": "code",
   "execution_count": null,
   "metadata": {},
   "outputs": [],
   "source": []
  },
  {
   "cell_type": "code",
   "execution_count": null,
   "metadata": {},
   "outputs": [],
   "source": []
  },
  {
   "cell_type": "code",
   "execution_count": null,
   "metadata": {},
   "outputs": [],
   "source": []
  },
  {
   "cell_type": "code",
   "execution_count": 206,
   "metadata": {},
   "outputs": [
    {
     "ename": "TypeError",
     "evalue": "no numeric data to plot",
     "output_type": "error",
     "traceback": [
      "\u001b[1;31m---------------------------------------------------------------------------\u001b[0m",
      "\u001b[1;31mTypeError\u001b[0m                                 Traceback (most recent call last)",
      "\u001b[1;32m<ipython-input-206-c083cd0e4901>\u001b[0m in \u001b[0;36m<module>\u001b[1;34m\u001b[0m\n\u001b[1;32m----> 1\u001b[1;33m \u001b[0mpd\u001b[0m\u001b[1;33m.\u001b[0m\u001b[0mSeries\u001b[0m\u001b[1;33m(\u001b[0m\u001b[0mcounts\u001b[0m\u001b[1;33m)\u001b[0m\u001b[1;33m.\u001b[0m\u001b[0mplot\u001b[0m\u001b[1;33m(\u001b[0m\u001b[0mkind\u001b[0m \u001b[1;33m=\u001b[0m \u001b[1;34m'hist'\u001b[0m\u001b[1;33m)\u001b[0m\u001b[1;33m\u001b[0m\u001b[1;33m\u001b[0m\u001b[0m\n\u001b[0m",
      "\u001b[1;32m~\\anaconda3\\lib\\site-packages\\pandas\\plotting\\_core.py\u001b[0m in \u001b[0;36m__call__\u001b[1;34m(self, *args, **kwargs)\u001b[0m\n\u001b[0;32m    998\u001b[0m                     \u001b[0mdata\u001b[0m\u001b[1;33m.\u001b[0m\u001b[0mcolumns\u001b[0m \u001b[1;33m=\u001b[0m \u001b[0mlabel_name\u001b[0m\u001b[1;33m\u001b[0m\u001b[1;33m\u001b[0m\u001b[0m\n\u001b[0;32m    999\u001b[0m \u001b[1;33m\u001b[0m\u001b[0m\n\u001b[1;32m-> 1000\u001b[1;33m         \u001b[1;32mreturn\u001b[0m \u001b[0mplot_backend\u001b[0m\u001b[1;33m.\u001b[0m\u001b[0mplot\u001b[0m\u001b[1;33m(\u001b[0m\u001b[0mdata\u001b[0m\u001b[1;33m,\u001b[0m \u001b[0mkind\u001b[0m\u001b[1;33m=\u001b[0m\u001b[0mkind\u001b[0m\u001b[1;33m,\u001b[0m \u001b[1;33m**\u001b[0m\u001b[0mkwargs\u001b[0m\u001b[1;33m)\u001b[0m\u001b[1;33m\u001b[0m\u001b[1;33m\u001b[0m\u001b[0m\n\u001b[0m\u001b[0;32m   1001\u001b[0m \u001b[1;33m\u001b[0m\u001b[0m\n\u001b[0;32m   1002\u001b[0m     \u001b[0m__call__\u001b[0m\u001b[1;33m.\u001b[0m\u001b[0m__doc__\u001b[0m \u001b[1;33m=\u001b[0m \u001b[0m__doc__\u001b[0m\u001b[1;33m\u001b[0m\u001b[1;33m\u001b[0m\u001b[0m\n",
      "\u001b[1;32m~\\anaconda3\\lib\\site-packages\\pandas\\plotting\\_matplotlib\\__init__.py\u001b[0m in \u001b[0;36mplot\u001b[1;34m(data, kind, **kwargs)\u001b[0m\n\u001b[0;32m     69\u001b[0m             \u001b[0mkwargs\u001b[0m\u001b[1;33m[\u001b[0m\u001b[1;34m\"ax\"\u001b[0m\u001b[1;33m]\u001b[0m \u001b[1;33m=\u001b[0m \u001b[0mgetattr\u001b[0m\u001b[1;33m(\u001b[0m\u001b[0max\u001b[0m\u001b[1;33m,\u001b[0m \u001b[1;34m\"left_ax\"\u001b[0m\u001b[1;33m,\u001b[0m \u001b[0max\u001b[0m\u001b[1;33m)\u001b[0m\u001b[1;33m\u001b[0m\u001b[1;33m\u001b[0m\u001b[0m\n\u001b[0;32m     70\u001b[0m     \u001b[0mplot_obj\u001b[0m \u001b[1;33m=\u001b[0m \u001b[0mPLOT_CLASSES\u001b[0m\u001b[1;33m[\u001b[0m\u001b[0mkind\u001b[0m\u001b[1;33m]\u001b[0m\u001b[1;33m(\u001b[0m\u001b[0mdata\u001b[0m\u001b[1;33m,\u001b[0m \u001b[1;33m**\u001b[0m\u001b[0mkwargs\u001b[0m\u001b[1;33m)\u001b[0m\u001b[1;33m\u001b[0m\u001b[1;33m\u001b[0m\u001b[0m\n\u001b[1;32m---> 71\u001b[1;33m     \u001b[0mplot_obj\u001b[0m\u001b[1;33m.\u001b[0m\u001b[0mgenerate\u001b[0m\u001b[1;33m(\u001b[0m\u001b[1;33m)\u001b[0m\u001b[1;33m\u001b[0m\u001b[1;33m\u001b[0m\u001b[0m\n\u001b[0m\u001b[0;32m     72\u001b[0m     \u001b[0mplot_obj\u001b[0m\u001b[1;33m.\u001b[0m\u001b[0mdraw\u001b[0m\u001b[1;33m(\u001b[0m\u001b[1;33m)\u001b[0m\u001b[1;33m\u001b[0m\u001b[1;33m\u001b[0m\u001b[0m\n\u001b[0;32m     73\u001b[0m     \u001b[1;32mreturn\u001b[0m \u001b[0mplot_obj\u001b[0m\u001b[1;33m.\u001b[0m\u001b[0mresult\u001b[0m\u001b[1;33m\u001b[0m\u001b[1;33m\u001b[0m\u001b[0m\n",
      "\u001b[1;32m~\\anaconda3\\lib\\site-packages\\pandas\\plotting\\_matplotlib\\core.py\u001b[0m in \u001b[0;36mgenerate\u001b[1;34m(self)\u001b[0m\n\u001b[0;32m    448\u001b[0m     \u001b[1;32mdef\u001b[0m \u001b[0mgenerate\u001b[0m\u001b[1;33m(\u001b[0m\u001b[0mself\u001b[0m\u001b[1;33m)\u001b[0m \u001b[1;33m->\u001b[0m \u001b[1;32mNone\u001b[0m\u001b[1;33m:\u001b[0m\u001b[1;33m\u001b[0m\u001b[1;33m\u001b[0m\u001b[0m\n\u001b[0;32m    449\u001b[0m         \u001b[0mself\u001b[0m\u001b[1;33m.\u001b[0m\u001b[0m_args_adjust\u001b[0m\u001b[1;33m(\u001b[0m\u001b[1;33m)\u001b[0m\u001b[1;33m\u001b[0m\u001b[1;33m\u001b[0m\u001b[0m\n\u001b[1;32m--> 450\u001b[1;33m         \u001b[0mself\u001b[0m\u001b[1;33m.\u001b[0m\u001b[0m_compute_plot_data\u001b[0m\u001b[1;33m(\u001b[0m\u001b[1;33m)\u001b[0m\u001b[1;33m\u001b[0m\u001b[1;33m\u001b[0m\u001b[0m\n\u001b[0m\u001b[0;32m    451\u001b[0m         \u001b[0mself\u001b[0m\u001b[1;33m.\u001b[0m\u001b[0m_setup_subplots\u001b[0m\u001b[1;33m(\u001b[0m\u001b[1;33m)\u001b[0m\u001b[1;33m\u001b[0m\u001b[1;33m\u001b[0m\u001b[0m\n\u001b[0;32m    452\u001b[0m         \u001b[0mself\u001b[0m\u001b[1;33m.\u001b[0m\u001b[0m_make_plot\u001b[0m\u001b[1;33m(\u001b[0m\u001b[1;33m)\u001b[0m\u001b[1;33m\u001b[0m\u001b[1;33m\u001b[0m\u001b[0m\n",
      "\u001b[1;32m~\\anaconda3\\lib\\site-packages\\pandas\\plotting\\_matplotlib\\core.py\u001b[0m in \u001b[0;36m_compute_plot_data\u001b[1;34m(self)\u001b[0m\n\u001b[0;32m    633\u001b[0m         \u001b[1;31m# no non-numeric frames or series allowed\u001b[0m\u001b[1;33m\u001b[0m\u001b[1;33m\u001b[0m\u001b[1;33m\u001b[0m\u001b[0m\n\u001b[0;32m    634\u001b[0m         \u001b[1;32mif\u001b[0m \u001b[0mis_empty\u001b[0m\u001b[1;33m:\u001b[0m\u001b[1;33m\u001b[0m\u001b[1;33m\u001b[0m\u001b[0m\n\u001b[1;32m--> 635\u001b[1;33m             \u001b[1;32mraise\u001b[0m \u001b[0mTypeError\u001b[0m\u001b[1;33m(\u001b[0m\u001b[1;34m\"no numeric data to plot\"\u001b[0m\u001b[1;33m)\u001b[0m\u001b[1;33m\u001b[0m\u001b[1;33m\u001b[0m\u001b[0m\n\u001b[0m\u001b[0;32m    636\u001b[0m \u001b[1;33m\u001b[0m\u001b[0m\n\u001b[0;32m    637\u001b[0m         \u001b[0mself\u001b[0m\u001b[1;33m.\u001b[0m\u001b[0mdata\u001b[0m \u001b[1;33m=\u001b[0m \u001b[0mnumeric_data\u001b[0m\u001b[1;33m.\u001b[0m\u001b[0mapply\u001b[0m\u001b[1;33m(\u001b[0m\u001b[0mself\u001b[0m\u001b[1;33m.\u001b[0m\u001b[0m_convert_to_ndarray\u001b[0m\u001b[1;33m)\u001b[0m\u001b[1;33m\u001b[0m\u001b[1;33m\u001b[0m\u001b[0m\n",
      "\u001b[1;31mTypeError\u001b[0m: no numeric data to plot"
     ]
    }
   ],
   "source": [
    "pd.Series(counts).plot(kind = 'hist')"
   ]
  },
  {
   "cell_type": "code",
   "execution_count": null,
   "metadata": {},
   "outputs": [],
   "source": []
  },
  {
   "cell_type": "code",
   "execution_count": 15,
   "metadata": {
    "scrolled": true
   },
   "outputs": [
    {
     "name": "stdout",
     "output_type": "stream",
     "text": [
      "1\n",
      "2\n",
      "3\n",
      "4\n",
      "5\n",
      "6\n",
      "7\n",
      "8\n",
      "9\n",
      "10\n",
      "11\n",
      "12\n",
      "13\n",
      "14\n",
      "15\n",
      "16\n",
      "17\n",
      "18\n",
      "19\n",
      "20\n",
      "21\n",
      "22\n",
      "23\n",
      "24\n",
      "25\n",
      "26\n",
      "27\n",
      "28\n",
      "29\n",
      "30\n",
      "31\n",
      "32\n",
      "33\n",
      "34\n",
      "35\n",
      "36\n",
      "37\n",
      "38\n",
      "39\n",
      "40\n",
      "41\n",
      "42\n",
      "43\n",
      "44\n",
      "45\n",
      "46\n",
      "47\n",
      "48\n",
      "49\n",
      "50\n",
      "51\n",
      "52\n",
      "53\n",
      "54\n",
      "55\n",
      "56\n",
      "57\n",
      "58\n",
      "59\n",
      "60\n",
      "61\n",
      "62\n",
      "63\n",
      "64\n",
      "65\n",
      "66\n",
      "67\n",
      "68\n",
      "69\n",
      "70\n",
      "71\n",
      "72\n",
      "73\n",
      "74\n",
      "75\n",
      "76\n",
      "77\n",
      "78\n",
      "79\n",
      "80\n",
      "81\n",
      "82\n",
      "83\n",
      "84\n",
      "85\n",
      "86\n",
      "87\n",
      "88\n",
      "89\n",
      "90\n",
      "91\n",
      "92\n",
      "93\n",
      "94\n",
      "95\n",
      "96\n",
      "97\n",
      "98\n",
      "99\n",
      "100\n"
     ]
    }
   ],
   "source": [
    "other_counts = [] \n",
    "\n",
    "for i in range(100):\n",
    "    print(i+1)\n",
    "    other_count = sampling_count_M1(city_adj_list_away, city_adj_list_toward, 20)\n",
    "    other_counts.append(other_count)"
   ]
  },
  {
   "cell_type": "code",
   "execution_count": 27,
   "metadata": {},
   "outputs": [
    {
     "data": {
      "text/plain": [
       "<matplotlib.lines.Line2D at 0x266bed99ee0>"
      ]
     },
     "execution_count": 27,
     "metadata": {},
     "output_type": "execute_result"
    },
    {
     "data": {
      "image/png": "[encoded data removed]",
      "text/plain": [
       "<Figure size 432x288 with 1 Axes>"
      ]
     },
     "metadata": {
      "needs_background": "light"
     },
     "output_type": "display_data"
    }
   ],
   "source": [
    "M1_ax = (pd.Series(other_counts)*2/3).plot(kind = 'hist')\n",
    "M1_ax.set_title('M1 sampling counts')\n",
    "M1_ax.axvline(x = 232, color = 'red', label = 'axvline - full height')"
   ]
  },
  {
   "cell_type": "code",
   "execution_count": null,
   "metadata": {},
   "outputs": [],
   "source": []
  }
 ],
 "metadata": {
  "kernelspec": {
   "display_name": "Python 3",
   "language": "python",
   "name": "python3"
  },
  "language_info": {
   "codemirror_mode": {
    "name": "ipython",
    "version": 3
   },
   "file_extension": ".py",
   "mimetype": "text/x-python",
   "name": "python",
   "nbconvert_exporter": "python",
   "pygments_lexer": "ipython3",
   "version": "3.8.3"
  }
 },
 "nbformat": 4,
 "nbformat_minor": 4
}
